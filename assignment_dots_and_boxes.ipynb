{
 "cells": [
  {
   "cell_type": "markdown",
   "metadata": {},
   "source": [
    "# Adversarial Search: Playing Dots and Boxes\n",
    "\n",
    "\n",
    "## Instructions\n",
    "\n",
    "Total Points: Undegraduates 100, graduate students 110\n",
    "\n",
    "Complete this notebook and submit it. The notebook needs to be a complete project report with your implementation, documentation including a short discussion of how your implementation works and your design choices, and experimental results (e.g., tables and charts with simulation results) with a short discussion of what they mean. Use the provided notebook cells and insert additional code and markdown cells as needed.\n",
    "\n",
    "## Introduction\n",
    "\n",
    "You will implement different versions of agents that play the game Dots and Boxes:\n",
    "\n",
    "> \"Dots and Boxes is a pencil-and-paper game for two players. The game starts with an empty grid of dots. Usually two players take turns adding a single horizontal or vertical line between two unjoined adjacent dots. A player who completes the fourth side of a 1x1 box earns one point and takes another turn. A point is typically recorded by placing a mark that identifies the player in the box, such as an initial. The game ends when no more lines can be placed. The winner is the player with the most points. The board may be of any size grid.\" (see [Dots and Boxes on Wikipedia](https://en.wikipedia.org/wiki/Dots_and_Boxes))\n",
    "\n",
    "You can play Dots and Boxes [here](https://www.math.ucla.edu/~tom/Games/dots&boxes.html)."
   ]
  },
  {
   "cell_type": "markdown",
   "metadata": {},
   "source": [
    "## Task 1: Defining the Search Problem [10 point]\n",
    "\n",
    "Define the components of the search problem associated with this game:\n",
    "\n",
    "* **Initial state**\n",
    "  * Board with no lines connecting any dots.\n",
    "* **Actions**\n",
    "  * Draw a line connecting two dots.\n",
    "* **Transition model**\n",
    "  * results(s, a) = s’\n",
    "  * Drawing a line will result in the board having a new line connecting two previously unconnected dots. The transition model takes care of initials in boxes.\n",
    "* **Test for the terminal state**\n",
    "  * ----------------------------------------------------------------------------------------------------------------------------------------\n",
    "* **Utility for terminal states**\n",
    "  * ----------------------------------------------------------------------------------------------------------------------------------------"
   ]
  },
  {
   "cell_type": "markdown",
   "metadata": {},
   "source": [
    "**n = number of dots in a column of the board**\n",
    "**k = n - 1**\n",
    "1. How big is the state space? Give an estimate and explain it.<br/>\n",
    "    The state space must account for all lines and know if they are drawn or not, which can be calculated with the following formula: 2^(n*k + n*k).<br/>\n",
    "    It must also account for the drawn boxes and who owns them (the player or the opponent), which can be found with: 2^(k^2).<br/>\n",
    "    Therefore, the total state spaace is **2^(n*k + n*k) + 2^(k^2)**"
   ]
  },
  {
   "cell_type": "markdown",
   "metadata": {},
   "source": [
    "How big is the game tree that minimax search will go through? Give an estimate and explain it."
   ]
  },
  {
   "cell_type": "code",
   "execution_count": 1,
   "metadata": {},
   "outputs": [],
   "source": [
    "# Your code/ answer goes here.------------------------------------------------------------------------------------------------------------"
   ]
  },
  {
   "cell_type": "markdown",
   "metadata": {},
   "source": [
    "## Task 2: Game Environment and Random Agent [30 point]\n",
    "\n",
    "You need to think about a data structure to represent the board meaning he placed lines and who finished what box. There are many options. Let's represent the board using a simple dictionary where `n` and `m` represents the number of dots horizontaly and vertically, respectively. Everybody needs to use the same representation so we can let agents play against each other later. "
   ]
  },
  {
   "cell_type": "code",
   "execution_count": 190,
   "metadata": {},
   "outputs": [],
   "source": [
    "import numpy as np\n",
    "\n",
    "board = {\n",
    "    'n': 4,  ### hoizontal dots\n",
    "    'm': 4,   ### vertical dots\n",
    "    1: 0,   ### number of squares for player 1\n",
    "    -1: 0    ### number of squares for player 2\n",
    "}\n",
    "\n",
    "def empty_board():\n",
    "    return {\n",
    "            'n': 4,  ### hoizontal dots\n",
    "            'm': 4,   ### vertical dots\n",
    "            1: 0,   ### number of squares for player 1\n",
    "            -1: 0   ### number of squares for player 2\n",
    "            }\n",
    "    \n",
    "def empty_small():\n",
    "    return {\n",
    "            'n': 3,  ### hoizontal dots\n",
    "            'm': 3,   ### vertical dots\n",
    "            1: 0,   ### number of squares for player 1\n",
    "            -1: 0   ### number of squares for player 2\n",
    "            }\n",
    "\n",
    "def full_board():\n",
    "    board = empty_board()\n",
    "    for row in range(board['n']):\n",
    "        for col in range(board['m']):\n",
    "            if col < board['m']-1:\n",
    "                draw_line(board, 'h', row+1, col+1, np.random.choice((-1, 1)))\n",
    "            if row >= 1:\n",
    "                draw_line(board, 'v', row+1, col+1, np.random.choice((-1, 1)))\n",
    "    return board\n",
    "\n",
    "def draw_line(board, orientation, row, col, player):\n",
    "    \"\"\"\n",
    "    Place a line on an exiting board.\n",
    "       \n",
    "    Parameters\n",
    "    ----------\n",
    "    board: dict\n",
    "        the board\n",
    "    orientation: str\n",
    "        either 'h' or 'v' for horizontal or vertical\n",
    "    row, col: int\n",
    "        index of the starting dot for the line (starting with 0)\n",
    "    player: str\n",
    "        Either -1 or +1, representing the player adding the line\n",
    "    \"\"\"\n",
    "    if orientation not in ['h', 'v']:\n",
    "        return False\n",
    "    \n",
    "    if player != -1 and player != 1:\n",
    "        return False\n",
    "        \n",
    "    if row < 0 or col < 0:\n",
    "        return False\n",
    "        \n",
    "    if row >= (board['n']+1) + (orientation == 'v') or col >= (board['m']+1) + (orientation == 'h'):\n",
    "        return False\n",
    "        \n",
    "    if (orientation, row, col) in board:\n",
    "        return False\n",
    "    \n",
    "    board[(orientation, row, col)] = True\n",
    "    \n",
    "    # Check if the line closes a box\n",
    "    line = (orientation, row, col)\n",
    "    \n",
    "    # Go through all cases\n",
    "    if line[0] == 'h':\n",
    "        # Case 1: horizontal line at bottom\n",
    "        if ('v', line[1]+1, line[2]) in board and ('v', line[1]+1, line[2]+1) in board and ('h', line[1]+1, line[2]) in board:\n",
    "            # Add point to player\n",
    "            board[player] += 1\n",
    "            # Add box ownership to player\n",
    "            board[(line[1]+1, line[2])] = player\n",
    "        \n",
    "        # Case 2: horizontal line at top\n",
    "        if ('v', line[1], line[2]) in board and ('v', line[1], line[2]+1) in board and ('h', line[1]-1, line[2]) in board:\n",
    "            # Add point to player\n",
    "            board[player] += 1\n",
    "            # Add box ownership to player\n",
    "            board[(line[1], line[2])] = player\n",
    "    \n",
    "    if line[0] == 'v':\n",
    "        # Case 3: vertical line at left\n",
    "        if ('h', line[1], line[2]) in board and ('v', line[1], line[2]+1) in board and ('h', line[1]-1, line[2]) in board:\n",
    "            # Add point to player\n",
    "            board[player] += 1\n",
    "            # Add box ownership to player\n",
    "            board[(line[1], line[2])] = player\n",
    "        \n",
    "        # Case 4: vertical line at right\n",
    "        if ('h', line[1], line[2]-1) in board and ('v', line[1], line[2]-1) in board and ('h', line[1]-1, line[2]-1) in board:\n",
    "            # Add point to player\n",
    "            board[player] += 1\n",
    "            # Add box ownership to player\n",
    "            board[(line[1], line[2]-1)] = player\n",
    "    \n",
    "    return True"
   ]
  },
  {
   "cell_type": "markdown",
   "metadata": {},
   "source": [
    "Write code to display the board. **Bonus point: Post your visualization code with an example output to the discussion board. The best visualization will earn you bonus participation points in this class.**"
   ]
  },
  {
   "cell_type": "code",
   "execution_count": 3,
   "metadata": {
    "scrolled": true
   },
   "outputs": [],
   "source": [
    "import matplotlib.pyplot as plt\n",
    "import matplotlib.lines as mlines\n",
    "\n",
    "def print_board(board):\n",
    "    n = board['n']\n",
    "    m = board['m']\n",
    "    \n",
    "    fig, ax = plt.subplots()\n",
    "    ax.set_xlim(-0.5, m-0.5)\n",
    "    ax.set_ylim(-0.5, n-0.5)\n",
    "    \n",
    "    # Draw dots\n",
    "    for row in range(n):\n",
    "        for col in range(m):\n",
    "            if (row, col) in board:\n",
    "                ax.scatter(row, col, s=100, marker='o', color='black')\n",
    "            else:\n",
    "                ax.scatter(row, col, s=100, marker='o', color='black')\n",
    "     \n",
    "    # Draw lines\n",
    "    for line in board:\n",
    "        # print(line)\n",
    "        if line != 'n' and line != 'm' and line != -1 and line != 1:\n",
    "            # print(line)\n",
    "            if len(line) > 2:\n",
    "                # Draw Horizontal line\n",
    "                if line[0] == 'h':\n",
    "                    l = mlines.Line2D([line[2]-1,line[2]], [line[1]-1,line[1]-1], color='black')\n",
    "                    # l = mlines.Line2D([line[1],line[1]], [line[2],line[2]+1], color='black')\n",
    "                    ax.add_line(l)\n",
    "                # Draw Vertical line\n",
    "                else:\n",
    "                    l = mlines.Line2D([line[2]-1,line[2]-1], [line[1]-1,line[1]-2], color='black')\n",
    "                    # l = mlines.Line2D([line[1],line[1]-1], [line[2],line[2]], color='black')\n",
    "                    ax.add_line(l)\n",
    "    \n",
    "    # Check for boxes\n",
    "    # Boxes are stored in board with (row, col) as key and player (1 or -1) as value\n",
    "    for box in board:\n",
    "        if box != 'n' and box != 'm' and box != -1 and box != 1:\n",
    "            if len(box) == 2:\n",
    "                if board[(box[0], box[1])] == 1:\n",
    "                    ax.add_patch(plt.Rectangle((box[1]-1, box[0]-2), 1, 1, color='b'))\n",
    "                else:\n",
    "                    ax.add_patch(plt.Rectangle((box[1]-1, box[0]-2), 1, 1, color='r'))\n",
    "    \n",
    "    # Print results   \n",
    "    print('Results:')\n",
    "    print('         -1:', board[-1])\n",
    "    print('          1:', board[1])\n",
    "    \n",
    "    # Set up plot to start at (1, 1)\n",
    "    x = []\n",
    "    y = []\n",
    "    for row in range(board['n']):\n",
    "        # x.append(row)\n",
    "        x.append(row+1)\n",
    "    for col in range(board['m']):\n",
    "        # y.append(col)\n",
    "        y.append(col+1)\n",
    "    default_x_ticks = range(len(x))\n",
    "    plt.xticks(default_x_ticks, x)\n",
    "    default_y_ticks = range(len(y))\n",
    "    plt.yticks(default_y_ticks, y)\n",
    "    \n",
    "    plt.show()"
   ]
  },
  {
   "cell_type": "code",
   "execution_count": 4,
   "metadata": {},
   "outputs": [
    {
     "name": "stdout",
     "output_type": "stream",
     "text": [
      "Results:\n",
      "         -1: 5\n",
      "          1: 4\n"
     ]
    },
    {
     "data": {
      "image/png": "[encoded data removed]",
      "text/plain": [
       "<Figure size 432x288 with 1 Axes>"
      ]
     },
     "metadata": {
      "needs_background": "light"
     },
     "output_type": "display_data"
    }
   ],
   "source": [
    "# Example of a board\n",
    "print_board(full_board())"
   ]
  },
  {
   "cell_type": "markdown",
   "metadata": {},
   "source": [
    "Implement helper functions for:\n",
    "\n",
    "* The transition model $result(s, a)$.\n",
    "* The utility function $utility(s)$.\n",
    "* Check for terminal states $terminal(s)$.\n",
    "* A check for available actions in each state $actions(s)$.\n",
    "\n",
    "__Notes:__\n",
    "* Make sure that all these functions work with boards of different sizes (number of columns and rows as stored in the board).\n",
    "* The result function evaluates if the player closed a box and needs to store that information on the board. Add elements of the form `(row,col): player` to the board dictionary. `row` and `col` are the coordinates for the box and `player` is +1 or -1 representing the player. For example `(0,0): -1` means that the top-left box belongs to the other player. "
   ]
  },
  {
   "cell_type": "code",
   "execution_count": 7,
   "metadata": {},
   "outputs": [],
   "source": [
    "def closed_box(state, action, player=1):\n",
    "    \"\"\"\n",
    "    Check if the action closed a box, return True if it did.\n",
    "    \n",
    "    Parameters\n",
    "    ----------\n",
    "    board: dict\n",
    "        The board\n",
    "    action: list\n",
    "        List describing the action\n",
    "        action[0]: orientation - 'h' or 'v'\n",
    "        action[1]: row\n",
    "        action[2]: column\n",
    "    \"\"\"\n",
    "    \n",
    "    state = state.copy()\n",
    "    \n",
    "    draw_line(state, action[0], action[1], action[2], player)\n",
    "    \n",
    "    if action[0] == 'h':\n",
    "        # Case 1: horizontal line at bottom\n",
    "        if ('v', action[1]+1, action[2]) in state and ('v', action[1]+1, action[2]+1) in state and ('h', action[1]+1, action[2]) in state:\n",
    "            # print(action, ' Case 1')\n",
    "            return True\n",
    "        # Case 2: horizontal line at top\n",
    "        if ('v', action[1], action[2]) in state and ('v', action[1], action[2]+1) in state and ('h', action[1]-1, action[2]) in state:\n",
    "            # print(action, ' Case 2')\n",
    "            return True\n",
    "    if action[0] == 'v':\n",
    "        # Case 3: vertical line at left\n",
    "        if ('h', action[1], action[2]) in state and ('v', action[1], action[2]+1) in state and ('h', action[1]-1, action[2]) in state:\n",
    "            # print(action, ' Case 3')\n",
    "            return True\n",
    "        # Case 4: vertical line at right\n",
    "        if ('h', action[1], action[2]-1) in state and ('v', action[1], action[2]-1) in state and ('h', action[1]-1, action[2]-1) in state:\n",
    "            # print(action, ' Case 4')\n",
    "            return True\n",
    "    \n",
    "    return False\n",
    "\n",
    "def result(state, action, player=1, agent=random_player):\n",
    "    '''\n",
    "    Place a line on the state received. Keeps placing lines if player\n",
    "    closes a box. Only stops once the new line does not close a box or\n",
    "    there are no more lines to place.\n",
    "       \n",
    "    Parameters\n",
    "    ----------\n",
    "    state: dict\n",
    "        the board\n",
    "    action: tuple\n",
    "        (orientation, row, col)\n",
    "    player: int\n",
    "        -1 or +1 representing the player adding a line\n",
    "    agent: dots and boxes agent\n",
    "        agent that will be playing\n",
    "    '''\n",
    "    \n",
    "    state = state.copy()\n",
    "    \n",
    "    while True:\n",
    "        if action is None:\n",
    "            return state\n",
    "        \n",
    "        # print(action, ' Closed: ', closed_box(state, action))\n",
    "        \n",
    "        if not closed_box(state, action):\n",
    "            draw_line(state, action[0], action[1], action[2], player)\n",
    "            return state\n",
    "        \n",
    "        draw_line(state, action[0], action[1], action[2], player)\n",
    "        \n",
    "        action = agent(state, player)\n",
    "    \n",
    "    # return state"
   ]
  },
  {
   "cell_type": "code",
   "execution_count": 8,
   "metadata": {},
   "outputs": [],
   "source": [
    "def check_win(state, player=1):\n",
    "    '''\n",
    "    Checks the winner of the state received.\n",
    "       \n",
    "    Parameters\n",
    "    ----------\n",
    "    state: dict\n",
    "        the board\n",
    "    player: int\n",
    "        -1 or +1 representing the player adding a line\n",
    "    Returns a string for win, draw, or loss\n",
    "    '''\n",
    "        \n",
    "    playerPoints = 0\n",
    "    opponentPoints = 0\n",
    "    for dots in state:\n",
    "        if dots != 'n' and dots != 'm' and dots != -1 and dots != 1:\n",
    "            if len(dots) == 2:\n",
    "                if state[dots] == player:\n",
    "                    playerPoints += 1\n",
    "                elif state[dots] == -player:\n",
    "                    opponentPoints += 1\n",
    "    \n",
    "    if (playerPoints + opponentPoints) < ((state['n']-1)*(state['m']-1)):\n",
    "        return 'next'        \n",
    "    else:\n",
    "        if playerPoints > opponentPoints:\n",
    "            return 'win'\n",
    "        elif playerPoints < opponentPoints:\n",
    "            return 'loss'\n",
    "        elif playerPoints == opponentPoints:\n",
    "            return 'draw'"
   ]
  },
  {
   "cell_type": "code",
   "execution_count": 9,
   "metadata": {},
   "outputs": [],
   "source": [
    "def utility(state, player=1):\n",
    "    \"\"\"check is a state is terminal and return the utility if it is. None means not a terminal mode.\"\"\"\n",
    "    goal = check_win(state, player)\n",
    "    \n",
    "    if goal == 'win': return +1 \n",
    "    if goal == 'draw': return 0\n",
    "    if goal == 'loss': return -1  # loss is failure\n",
    "    if goal == 'next': return None"
   ]
  },
  {
   "cell_type": "code",
   "execution_count": 10,
   "metadata": {},
   "outputs": [],
   "source": [
    "def terminal(state):\n",
    "    '''\n",
    "    Checks if there are any moves available on the state received.\n",
    "       \n",
    "    Parameters\n",
    "    ----------\n",
    "    state: dict\n",
    "        the board\n",
    "    Returns a boolean\n",
    "    '''\n",
    "    \n",
    "    return check_win(state) != 'next'"
   ]
  },
  {
   "cell_type": "code",
   "execution_count": 216,
   "metadata": {},
   "outputs": [],
   "source": [
    "def actions(state):\n",
    "    '''\n",
    "    Returns all possible moves available on the state received.\n",
    "       \n",
    "    Parameters\n",
    "    ----------\n",
    "    state: dict\n",
    "        the board\n",
    "    Returns a list\n",
    "    '''\n",
    "    \n",
    "    if terminal(state):\n",
    "        return []\n",
    "    \n",
    "    # Get a list of all possible actions\n",
    "    actions = []\n",
    "    dots = state['n']*state['m']\n",
    "    \n",
    "    # Check all dots and orientations\n",
    "    for row in range(state['n']):\n",
    "        for col in range(state['m']):\n",
    "            if ('v', row+1, col+1) not in state and (row+1) > 1:\n",
    "                actions.append(('v', row+1, col+1))\n",
    "            if ('h', row+1, col+1) not in state and (col+1) < (state['m']):\n",
    "                # print('Column: ', col+1, ' M: ', state['m'])\n",
    "                actions.append(('h', row+1, col+1))\n",
    "    return actions"
   ]
  },
  {
   "cell_type": "markdown",
   "metadata": {},
   "source": [
    "Implement an agent that plays randomly. Make sure the agent function receives as the percept the board and returns a valid action. Use an agent function definition with the following signature (arguments):\n",
    "\n",
    "`def random_player(board, player = None): ...`\n",
    "\n",
    "The argument `player` is used for agents that do not store what side they are playing. The value passed on by the environment should be 1 ot -1 for playerred and yellow, respectively.  See [Experiments section for tic-tac-toe](https://nbviewer.org/github/mhahsler/CS7320-AI/blob/master/Games/tictactoe_and_or_tree_search.ipynb#Experiments) for an example."
   ]
  },
  {
   "cell_type": "code",
   "execution_count": 242,
   "metadata": {},
   "outputs": [],
   "source": [
    "def random_player(state, player = None):\n",
    "    '''\n",
    "    Random agent. Returns a random action from a list of all possible actions.\n",
    "    \n",
    "    Parameters\n",
    "    ----------\n",
    "    board: dict\n",
    "        The board\n",
    "    player: int\n",
    "        Player making the move\n",
    "    '''\n",
    "    moves = actions(state)\n",
    "    if len(moves) == 0:\n",
    "        return None\n",
    "    \n",
    "    index = np.random.choice(len(moves))\n",
    "    return moves[index]"
   ]
  },
  {
   "cell_type": "markdown",
   "metadata": {},
   "source": [
    "#### Environment"
   ]
  },
  {
   "cell_type": "code",
   "execution_count": 243,
   "metadata": {},
   "outputs": [],
   "source": [
    "def play(one, opponent, N = 1, verbose=0):\n",
    "    \"\"\"Play N games. one and opponent are the players' agent functions.\"\"\"\n",
    "    \n",
    "    results = {1: 0, -1: 0, 'draw': 0}\n",
    "    \n",
    "    for i in range(N):\n",
    "        board = empty_board()\n",
    "        player, agent = 1, one\n",
    "        \n",
    "        while True:\n",
    "            # Check the action the player wants to make\n",
    "            action = agent(board, player)\n",
    "            # print(action)\n",
    "                        \n",
    "            # Make the move\n",
    "            board = result(board, action, player)\n",
    "            \n",
    "            # Check if the game is over by checking if there are any moves available\n",
    "            if actions(board) == []:\n",
    "                # If yes, add point to winner and break\n",
    "                win = check_win(board, player)\n",
    "                \n",
    "                if win == 'win':\n",
    "                    results[player] += 1\n",
    "                elif win == 'loss':\n",
    "                    results[-player] += 1\n",
    "                else:\n",
    "                    results['draw'] += 1\n",
    "                if verbose>0: print_board(board)\n",
    "                break\n",
    "            \n",
    "            # Else if player didn't close a box, switch player and continue\n",
    "            if closed_box(board, action) == False:\n",
    "                if player == 1:\n",
    "                    player, agent = -1, opponent\n",
    "                else:\n",
    "                    player, agent = 1, one\n",
    "            # Else, continue\n",
    "            if verbose>1: print_board(board)\n",
    "            \n",
    "    \n",
    "    return results"
   ]
  },
  {
   "cell_type": "markdown",
   "metadata": {},
   "source": [
    "Let two random agents play against each other 1000 times. Look at the [Experiments section for tic-tac-toe](https://nbviewer.org/github/mhahsler/CS7320-AI/blob/master/Games/tictactoe_and_or_tree_search.ipynb#Experiments) to see how the environment uses the agent functions to play against each other.\n",
    "\n",
    "How often does each player win? Is the result expected?"
   ]
  },
  {
   "cell_type": "code",
   "execution_count": 244,
   "metadata": {},
   "outputs": [
    {
     "name": "stdout",
     "output_type": "stream",
     "text": [
      "1: 497.2\n",
      "-1: 502.8\n",
      "draw: 0.0\n",
      "Proportion for One:  0.4972\n",
      "Proportion for Opponent:  0.5028\n"
     ]
    }
   ],
   "source": [
    "oneAvg = 0\n",
    "opponentAvg = 0\n",
    "drawAvg = 0\n",
    "\n",
    "for i in range(10):\n",
    "    curr = play(random_player, random_player, 1000)\n",
    "    oneAvg += curr[1]\n",
    "    opponentAvg += curr[-1]\n",
    "    drawAvg += curr['draw']\n",
    "\n",
    "oneAvg = oneAvg/10\n",
    "opponentAvg = opponentAvg/10\n",
    "drawAvg = drawAvg/10\n",
    "print('1:', oneAvg)\n",
    "print('-1:', opponentAvg)\n",
    "print('draw:', drawAvg)\n",
    "print('Proportion for One: ', oneAvg/(oneAvg+opponentAvg+drawAvg))\n",
    "print('Proportion for Opponent: ', opponentAvg/(oneAvg+opponentAvg+drawAvg))"
   ]
  },
  {
   "cell_type": "markdown",
   "metadata": {},
   "source": [
    "The result is as expected. The win ratio for the players can be approximated as 50/50 and always returns a consistent win/loss ratio regarding the first and second players.<br/>\n",
    "The results suggest there is no real advatange in starting first or not in regards to probabilities of winning if both players are choosing actions randomly.<br/>\n",
    "It also does not return any draws. However, that is also expected because, nearing the end of the game, almost all remaining lines will close a box. Since the environment only switches players if the current player didn't close a box, that player will close many boxes in a row."
   ]
  },
  {
   "cell_type": "markdown",
   "metadata": {},
   "source": [
    "### Minimax Algorithm"
   ]
  },
  {
   "cell_type": "code",
   "execution_count": 176,
   "metadata": {},
   "outputs": [],
   "source": [
    "import math\n",
    "\n",
    "DEBUG = 0\n",
    "COUNT = 0\n",
    "\n",
    "def minimax_search(state, player=1):\n",
    "    global DEBUG, COUNT\n",
    "    COUNT = 0\n",
    "    \n",
    "    val, move = max_value(state, player)\n",
    "    \n",
    "    if DEBUG >= 1: print(f\"Number of nodes searched: {COUNT}\") \n",
    "    \n",
    "    return {'move': move, 'value': val}\n",
    "\n",
    "def max_value(state, player):\n",
    "    global DEBUG, COUNT\n",
    "    COUNT += 1\n",
    "    \n",
    "    # return utility of state if it is a terminal state\n",
    "    v = utility(state, player)\n",
    "    if DEBUG >= 2: print(\"max in: \" + str(state) + str([v]) ) \n",
    "    if v is not None: return v, None\n",
    "    \n",
    "    v, move = -math.inf, None\n",
    "    \n",
    "     # check all possible actions in the state, return move with the largest value\n",
    "    for a in actions(state):\n",
    "        # print_board(state)\n",
    "        \n",
    "        v2, a2 = min_value(result(state, a, player), player)\n",
    "        if v2 > v:\n",
    "            v, move = v2, a\n",
    "    \n",
    "    if DEBUG >= 2: print(\"max out: \" + str(state) + str([v, move]) ) \n",
    "    return v, move\n",
    "\n",
    "def min_value(state, player):\n",
    "    \"\"\"opponent's best response.\"\"\"\n",
    "    global DEBUG, COUNT\n",
    "    COUNT += 1\n",
    "    \n",
    "    # return utility of state if it is a terminal state\n",
    "    v = utility(state, player)\n",
    "    if DEBUG >= 2: print(\"min in: \" + str(state) + str([v]) ) \n",
    "    if v is not None: return v, None\n",
    "    \n",
    "    v, move = +math.inf, None\n",
    "\n",
    "    # check all possible actions in the state, return move with the smallest value\n",
    "    for a in actions(state):\n",
    "        v2, a2 = max_value(result(state, a, -player), player)\n",
    "        if v2 < v:\n",
    "            v, move = v2, a\n",
    "    \n",
    "    if DEBUG >= 2: print(\"min out: \" + str(state) + str([v, move])) \n",
    "    return v, move"
   ]
  },
  {
   "cell_type": "markdown",
   "metadata": {},
   "source": [
    "## Task 3: Minimax Search with Alpha-Beta Pruning [30 points]"
   ]
  },
  {
   "cell_type": "markdown",
   "metadata": {},
   "source": [
    "### Implement the search starting.\n",
    "\n",
    "Implement the search starting from a given board and specifying the player and put it into an agent function.\n",
    "You can use code from the [tic-tac-toe example](https://nbviewer.org/github/mhahsler/CS7320-AI/blob/master/Games/tictactoe_alpha_beta_tree_search.ipynb).\n",
    "\n",
    "__Notes:__ \n",
    "* Make sure that all your agent functions have a signature consistent with the random agent above.\n",
    "* The search space for larger board may be too large. You can experiment with smaller boards."
   ]
  },
  {
   "cell_type": "code",
   "execution_count": 177,
   "metadata": {},
   "outputs": [],
   "source": [
    "import math\n",
    "\n",
    "DEBUG = -1\n",
    "COUNT = 0\n",
    "\n",
    "def alpha_beta_search(state, player=1):\n",
    "    global DEBUG, COUNT\n",
    "    COUNT = 0\n",
    "    \n",
    "    val, move = max_value_ab(state, player, -math.inf, math.inf)\n",
    "    \n",
    "    if DEBUG >= 0: print(f\"Number of nodes searched: {COUNT}\") \n",
    "    \n",
    "    return {'move': move, 'value': val}\n",
    "\n",
    "def max_value_ab(state, player, alpha, beta):\n",
    "    global DEBUG, COUNT\n",
    "    COUNT += 1\n",
    "    \n",
    "    # return utility of state if it is a terminal state\n",
    "    v = utility(state, player)\n",
    "    \n",
    "    if DEBUG >= 2: print(f\"max: {state} [alpha,beta]=[{alpha},{beta}] v={v}\")\n",
    "    \n",
    "    if DEBUG >= 2: print(\"max in: \" + str(state) + str([v]) ) \n",
    "    if v is not None: \n",
    "        if DEBUG >= 3: print(f\"     found terminal state. backtracking.\")\n",
    "        if DEBUG >= 0: print('Value: ', v)\n",
    "        return v, None\n",
    "    \n",
    "    v, move = -math.inf, None\n",
    "    \n",
    "    # check all possible actions in the state, return move with the largest value\n",
    "    for a in actions(state):\n",
    "        # print_board(state)\n",
    "        v2, a2 = min_value_ab(result(state, a, player), player, alpha, beta)\n",
    "        \n",
    "        if DEBUG >= 2: print(f\"max: {state} (backtracked) [alpha,beta]=[{alpha},{beta}] v={v2}\")\n",
    "        \n",
    "        if v2 > v:\n",
    "            v, move = v2, a\n",
    "            alpha = max(alpha, v)\n",
    "        if v >= beta:\n",
    "            if DEBUG >= 2: print(f\"     v>=beta ({v}>={beta}): pruning remaining subtree (actions). backtracking.\")\n",
    "            return v, move\n",
    "    \n",
    "    return v, move\n",
    "\n",
    "def min_value_ab(state, player, alpha, beta):\n",
    "    \"\"\"opponent's best response.\"\"\"\n",
    "    global DEBUG, COUNT\n",
    "    COUNT += 1\n",
    "    \n",
    "    # return utility of state if it is a terminal state\n",
    "    v = utility(state, player)\n",
    "    \n",
    "    if DEBUG >= 2: print(f\"min: {state} [alpha,beta]=[{alpha},{beta}] v={v}\")\n",
    "\n",
    "    if v is not None: \n",
    "        if DEBUG >= 3: print(f\"     found terminal state. backtacking.\")\n",
    "        if DEBUG >= 0: print('Value: ', v)\n",
    "        return v, None\n",
    "    \n",
    "    v, move = +math.inf, None\n",
    "\n",
    "    # check all possible actions in the state, return move with the smallest value\n",
    "    for a in actions(state):\n",
    "        v2, a2 = max_value_ab(result(state, a, -player), player, alpha, beta)\n",
    "        \n",
    "        if DEBUG >= 2: print(f\"min: {state} (backtracked) [alpha,beta]=[{alpha},{beta}] v={v2}\")\n",
    "        \n",
    "        if v2 < v:\n",
    "            v, move = v2, a\n",
    "            beta = min(beta, v)\n",
    "        \n",
    "        if v <= alpha:\n",
    "            if DEBUG >= 2: print(f\"     v<=alpha ({v}<={alpha}): pruning remaining subtree (actions). backtracking.\")\n",
    "            return v, move\n",
    "    \n",
    "    return v, move"
   ]
  },
  {
   "cell_type": "markdown",
   "metadata": {},
   "source": [
    "### Experiments\n",
    "Experiment with some manually created boards (at least 5) to check if the agent spots winning opportunities."
   ]
  },
  {
   "cell_type": "code",
   "execution_count": 179,
   "metadata": {},
   "outputs": [
    {
     "name": "stdout",
     "output_type": "stream",
     "text": [
      "Results:\n",
      "         -1: 1\n",
      "          1: 0\n"
     ]
    },
    {
     "data": {
      "image/png": "[encoded data removed]",
      "text/plain": [
       "<Figure size 432x288 with 1 Axes>"
      ]
     },
     "metadata": {
      "needs_background": "light"
     },
     "output_type": "display_data"
    },
    {
     "name": "stdout",
     "output_type": "stream",
     "text": [
      "Value:  0\n",
      "Value:  -1\n",
      "Value:  1\n",
      "Value:  0\n",
      "Value:  -1\n",
      "Value:  -1\n",
      "Value:  1\n",
      "Value:  1\n",
      "Value:  1\n",
      "Value:  -1\n",
      "Number of nodes searched: 21\n"
     ]
    },
    {
     "data": {
      "text/plain": [
       "{'move': ('h', 1, 2), 'value': -1}"
      ]
     },
     "metadata": {},
     "output_type": "display_data"
    },
    {
     "name": "stdout",
     "output_type": "stream",
     "text": [
      "CPU times: total: 0 ns\n",
      "Wall time: 2.01 ms\n"
     ]
    }
   ],
   "source": [
    "# Boards\n",
    "DEBUG = 0\n",
    "test1 = empty_small()\n",
    "draw_line(test1, 'h', 3, 1, 1)\n",
    "draw_line(test1, 'h', 3, 2, 1)\n",
    "draw_line(test1, 'h', 2, 1, 1)\n",
    "draw_line(test1, 'h', 2, 2, 1)\n",
    "draw_line(test1, 'h', 1, 1, 1)\n",
    "draw_line(test1, 'v', 3, 1, 1)\n",
    "draw_line(test1, 'v', 2, 1, 1)\n",
    "draw_line(test1, 'v', 2, 2, -1)\n",
    "# draw_line(test1, 'v', 2, 3, 1)\n",
    "# There is no win for 1 (blue) in this situation\n",
    "# Best move: (v, 3, 2)\n",
    "# Other moves: (v, 2, 3), (h, 1, 2), (v, 3, 3)\n",
    "print_board(test1)\n",
    "%time display(alpha_beta_search(test1))"
   ]
  },
  {
   "cell_type": "code",
   "execution_count": 104,
   "metadata": {},
   "outputs": [
    {
     "name": "stdout",
     "output_type": "stream",
     "text": [
      "Results:\n",
      "         -1: 0\n",
      "          1: 1\n"
     ]
    },
    {
     "data": {
      "image/png": "[encoded data removed]",
      "text/plain": [
       "<Figure size 432x288 with 1 Axes>"
      ]
     },
     "metadata": {
      "needs_background": "light"
     },
     "output_type": "display_data"
    },
    {
     "data": {
      "text/plain": [
       "{'move': ('h', 1, 1), 'value': 1}"
      ]
     },
     "metadata": {},
     "output_type": "display_data"
    },
    {
     "name": "stdout",
     "output_type": "stream",
     "text": [
      "CPU times: total: 15.6 ms\n",
      "Wall time: 996 µs\n"
     ]
    }
   ],
   "source": [
    "test2 = empty_small()\n",
    "draw_line(test2, 'h', 3, 2, 1)\n",
    "draw_line(test2, 'h', 2, 1, 1)\n",
    "draw_line(test2, 'h', 2, 2, 1)\n",
    "draw_line(test2, 'v', 3, 2, 1)\n",
    "draw_line(test2, 'v', 3, 3, 1)\n",
    "draw_line(test2, 'v', 2, 1, 1)\n",
    "draw_line(test2, 'v', 2, 2, 1)\n",
    "draw_line(test2, 'v', 2, 3, 1)\n",
    "# Possible win for 1 (blue) in this situation\n",
    "# Best moves: (h, 1, 1), (h, 1, 2)\n",
    "# Bad moves: (v, 3, 1), (h, 3, 1)\n",
    "print_board(test2)\n",
    "%time display(alpha_beta_search(test2))"
   ]
  },
  {
   "cell_type": "code",
   "execution_count": 114,
   "metadata": {},
   "outputs": [
    {
     "name": "stdout",
     "output_type": "stream",
     "text": [
      "Results:\n",
      "         -1: 0\n",
      "          1: 0\n"
     ]
    },
    {
     "data": {
      "image/png": "[encoded data removed]",
      "text/plain": [
       "<Figure size 432x288 with 1 Axes>"
      ]
     },
     "metadata": {
      "needs_background": "light"
     },
     "output_type": "display_data"
    },
    {
     "data": {
      "text/plain": [
       "{'move': ('v', 2, 3), 'value': 0}"
      ]
     },
     "metadata": {},
     "output_type": "display_data"
    },
    {
     "name": "stdout",
     "output_type": "stream",
     "text": [
      "CPU times: total: 15.6 ms\n",
      "Wall time: 1.32 ms\n"
     ]
    }
   ],
   "source": [
    "test3 = empty_small()\n",
    "draw_line(test3, 'h', 3, 1, -1)\n",
    "draw_line(test3, 'h', 3, 2, 1)\n",
    "draw_line(test3, 'h', 2, 1, -1)\n",
    "draw_line(test3, 'h', 2, 2, 1)\n",
    "draw_line(test3, 'h', 1, 2, -1)\n",
    "draw_line(test3, 'v', 3, 2, 1)\n",
    "draw_line(test3, 'v', 2, 2, -1)\n",
    "# Best moves: (v, 3, 1), (v, 3, 3), (v, 2, 3)\n",
    "# Bad moves: (v, 2, 1), (h, 1, 1)\n",
    "print_board(test3)\n",
    "%time display(alpha_beta_search(test3))"
   ]
  },
  {
   "cell_type": "code",
   "execution_count": 115,
   "metadata": {},
   "outputs": [
    {
     "name": "stdout",
     "output_type": "stream",
     "text": [
      "Results:\n",
      "         -1: 0\n",
      "          1: 1\n"
     ]
    },
    {
     "data": {
      "image/png": "[encoded data removed]",
      "text/plain": [
       "<Figure size 432x288 with 1 Axes>"
      ]
     },
     "metadata": {
      "needs_background": "light"
     },
     "output_type": "display_data"
    },
    {
     "data": {
      "text/plain": [
       "{'move': ('v', 2, 2), 'value': 0}"
      ]
     },
     "metadata": {},
     "output_type": "display_data"
    },
    {
     "name": "stdout",
     "output_type": "stream",
     "text": [
      "CPU times: total: 0 ns\n",
      "Wall time: 998 µs\n"
     ]
    }
   ],
   "source": [
    "test4 = empty_small()\n",
    "draw_line(test4, 'h', 3, 1, -1)\n",
    "draw_line(test4, 'h', 2, 1, 1)\n",
    "draw_line(test4, 'h', 2, 2, -1)\n",
    "draw_line(test4, 'h', 1, 2, 1)\n",
    "draw_line(test4, 'v', 3, 1, -1)\n",
    "draw_line(test4, 'v', 3, 2, 1)\n",
    "draw_line(test4, 'v', 3, 3, -1)\n",
    "draw_line(test4, 'v', 2, 3, -1)\n",
    "# Best moves: (v, 2, 2), (h, 3, 2)\n",
    "# Bad moves: (v, 2, 1), (h, 1, 1)\n",
    "print_board(test4)\n",
    "%time display(alpha_beta_search(test4))"
   ]
  },
  {
   "cell_type": "code",
   "execution_count": 126,
   "metadata": {},
   "outputs": [
    {
     "name": "stdout",
     "output_type": "stream",
     "text": [
      "Results:\n",
      "         -1: 2\n",
      "          1: 0\n"
     ]
    },
    {
     "data": {
      "image/png": "[encoded data removed]",
      "text/plain": [
       "<Figure size 432x288 with 1 Axes>"
      ]
     },
     "metadata": {
      "needs_background": "light"
     },
     "output_type": "display_data"
    },
    {
     "data": {
      "text/plain": [
       "{'move': ('v', 3, 3), 'value': 1}"
      ]
     },
     "metadata": {},
     "output_type": "display_data"
    },
    {
     "name": "stdout",
     "output_type": "stream",
     "text": [
      "CPU times: total: 15.6 ms\n",
      "Wall time: 5 ms\n"
     ]
    }
   ],
   "source": [
    "test5 = empty_board()\n",
    "draw_line(test5, \"h\", 4, 1, -1)\n",
    "draw_line(test5, \"h\", 4, 2, -1)\n",
    "draw_line(test5, \"h\", 4, 3, -1)\n",
    "draw_line(test5, \"h\", 3, 1, -1)\n",
    "draw_line(test5, \"h\", 3, 3, -1)\n",
    "draw_line(test5, \"h\", 2, 1, -1)\n",
    "draw_line(test5, \"h\", 1, 1, -1)\n",
    "draw_line(test5, \"h\", 1, 2, -1)\n",
    "draw_line(test5, \"h\", 1, 3, -1)\n",
    "# draw_line(test5, \"v\", 4, 2, -1)\n",
    "draw_line(test5, \"v\", 4, 3, -1)\n",
    "draw_line(test5, \"v\", 4, 4, -1)\n",
    "draw_line(test5, \"v\", 3, 1, -1)\n",
    "draw_line(test5, \"v\", 3, 4, -1)\n",
    "draw_line(test5, \"v\", 2, 1, -1)\n",
    "draw_line(test5, \"v\", 2, 2, -1)\n",
    "draw_line(test5, \"v\", 2, 3, -1)\n",
    "draw_line(test5, \"v\", 2, 4, -1)\n",
    "# Best moves: (h, 2, 2), (v, 3, 2), (v, 3, 3), (h, 2, 3)\n",
    "# Bad moves: (h, 3, 2), (v, 4, 1), (v, 4, 2), (h, 3, 2)\n",
    "print_board(test5)\n",
    "%time display(alpha_beta_search(test5))"
   ]
  },
  {
   "cell_type": "code",
   "execution_count": 208,
   "metadata": {},
   "outputs": [
    {
     "name": "stdout",
     "output_type": "stream",
     "text": [
      "Results:\n",
      "         -1: 0\n",
      "          1: 0\n"
     ]
    },
    {
     "data": {
      "image/png": "[encoded data removed]",
      "text/plain": [
       "<Figure size 432x288 with 1 Axes>"
      ]
     },
     "metadata": {
      "needs_background": "light"
     },
     "output_type": "display_data"
    },
    {
     "data": {
      "text/plain": [
       "{'move': ('h', 1, 1), 'value': -1}"
      ]
     },
     "metadata": {},
     "output_type": "display_data"
    },
    {
     "name": "stdout",
     "output_type": "stream",
     "text": [
      "CPU times: total: 20.2 s\n",
      "Wall time: 20.2 s\n"
     ]
    }
   ],
   "source": [
    "test6 = empty_board()\n",
    "draw_line(test6, \"h\", 4, 1, -1)\n",
    "draw_line(test6, \"h\", 4, 2, -1)\n",
    "draw_line(test6, \"h\", 4, 3, -1)\n",
    "draw_line(test6, \"h\", 3, 1, -1)\n",
    "draw_line(test6, \"h\", 1, 3, -1)\n",
    "draw_line(test6, \"v\", 4, 4, -1)\n",
    "draw_line(test6, \"v\", 3, 1, -1)\n",
    "draw_line(test6, \"v\", 2, 1, -1)\n",
    "draw_line(test6, \"v\", 2, 2, -1)\n",
    "draw_line(test6, \"v\", 2, 4, -1)\n",
    "\n",
    "print_board(test6)\n",
    "%time display(alpha_beta_search(test6))"
   ]
  },
  {
   "cell_type": "markdown",
   "metadata": {},
   "source": [
    "### Time"
   ]
  },
  {
   "cell_type": "markdown",
   "metadata": {},
   "source": [
    "How long does it take to make a move? Start with a smaller board make the board larger. What is the largest board you can solve?"
   ]
  },
  {
   "cell_type": "markdown",
   "metadata": {},
   "source": [
    "The Alpha Beta Search can process a 3x3 board quickly.<br/>\n",
    "However, that is also the largest board size it can solve in a reasonable time starting with a blank board as even a 4x4 takes too long."
   ]
  },
  {
   "cell_type": "code",
   "execution_count": 181,
   "metadata": {},
   "outputs": [
    {
     "data": {
      "text/plain": [
       "{'move': ('h', 1, 1), 'value': 0}"
      ]
     },
     "metadata": {},
     "output_type": "display_data"
    },
    {
     "name": "stdout",
     "output_type": "stream",
     "text": [
      "CPU times: total: 9.7 s\n",
      "Wall time: 9.71 s\n"
     ]
    }
   ],
   "source": [
    "# 3x3 board\n",
    "DEBUG = -1\n",
    "%time display(alpha_beta_search(empty_small()))"
   ]
  },
  {
   "cell_type": "code",
   "execution_count": null,
   "metadata": {},
   "outputs": [],
   "source": [
    "# 4x4 board\n",
    "%time display(alpha_beta_search(empty_board()))"
   ]
  },
  {
   "cell_type": "markdown",
   "metadata": {},
   "source": [
    "### Move ordering\n",
    "\n",
    "Starting the search with better moves will increase the efficiency of alpha-beta pruning. Describe and implement a simple move ordering strategy. Make a table that shows how the ordering strategies influence the time it takes to make a move?"
   ]
  },
  {
   "cell_type": "markdown",
   "metadata": {},
   "source": [
    "One of the best strategies in Dots and Boxes is to make long chains so the player can complete many boxes sequentially, without losing his turn.<br/>\n",
    "An acceptable move ordering is to consider creating a long chain on the left and right sides of the board.<br/>\n",
    "To achieve that ordering, we will modify the `actions` function so it lists the vertical lines first so they can create these side chains."
   ]
  },
  {
   "cell_type": "code",
   "execution_count": 217,
   "metadata": {},
   "outputs": [],
   "source": [
    "import time\n",
    "\n",
    "start = time.time()\n",
    "alpha_beta_search(empty_small())\n",
    "end = time.time()\n",
    "no_sort_time1 = end - start\n",
    "\n",
    "start = time.time()\n",
    "alpha_beta_search(test6)\n",
    "end = time.time()\n",
    "no_sort_time2 = end - start"
   ]
  },
  {
   "cell_type": "code",
   "execution_count": 224,
   "metadata": {},
   "outputs": [],
   "source": [
    "# Sorts by Vertical first\n",
    "def actions(state):\n",
    "    if terminal(state):\n",
    "        return []\n",
    "    \n",
    "    # Get a list of all possible actions\n",
    "    actions = []\n",
    "    dots = state['n']*state['m']\n",
    "    \n",
    "    # Check all dots and orientations\n",
    "    for row in range(state['n']):\n",
    "        for col in range(state['m']):\n",
    "            if ('v', row+1, col+1) not in state and (row+1) > 1:\n",
    "                actions.insert(0, ('v', row+1, col+1))\n",
    "            if ('h', row+1, col+1) not in state and (col+1) < (state['m']):\n",
    "                # print('Column: ', col+1, ' M: ', state['m'])\n",
    "                actions.append(('h', row+1, col+1))\n",
    "    \n",
    "    return actions"
   ]
  },
  {
   "cell_type": "code",
   "execution_count": 225,
   "metadata": {},
   "outputs": [],
   "source": [
    "start = time.time()\n",
    "alpha_beta_search(empty_small())\n",
    "end = time.time()\n",
    "sort_time1 = end - start\n",
    "\n",
    "start = time.time()\n",
    "alpha_beta_search(test6)\n",
    "end = time.time()\n",
    "sort_time2 = end - start"
   ]
  },
  {
   "cell_type": "code",
   "execution_count": 226,
   "metadata": {},
   "outputs": [],
   "source": [
    "# Sorts by Horizontal first\n",
    "def actions(state):\n",
    "    if terminal(state):\n",
    "        return []\n",
    "    \n",
    "    # Get a list of all possible actions\n",
    "    actions = []\n",
    "    dots = state['n']*state['m']\n",
    "    \n",
    "    # Check all dots and orientations\n",
    "    for row in range(state['n']):\n",
    "        for col in range(state['m']):\n",
    "            if ('v', row+1, col+1) not in state and (row+1) > 1:\n",
    "                actions.append(('v', row+1, col+1))\n",
    "            if ('h', row+1, col+1) not in state and (col+1) < (state['m']):\n",
    "                # print('Column: ', col+1, ' M: ', state['m'])\n",
    "                actions.insert(0, ('h', row+1, col+1))\n",
    "    \n",
    "    return actions"
   ]
  },
  {
   "cell_type": "code",
   "execution_count": 227,
   "metadata": {},
   "outputs": [],
   "source": [
    "start = time.time()\n",
    "alpha_beta_search(empty_small())\n",
    "end = time.time()\n",
    "sort_h_time1 = end - start\n",
    "\n",
    "start = time.time()\n",
    "alpha_beta_search(test6)\n",
    "end = time.time()\n",
    "sort_h_time2 = end - start"
   ]
  },
  {
   "cell_type": "code",
   "execution_count": 228,
   "metadata": {},
   "outputs": [
    {
     "data": {
      "text/html": [
       "<div>\n",
       "<style scoped>\n",
       "    .dataframe tbody tr th:only-of-type {\n",
       "        vertical-align: middle;\n",
       "    }\n",
       "\n",
       "    .dataframe tbody tr th {\n",
       "        vertical-align: top;\n",
       "    }\n",
       "\n",
       "    .dataframe thead th {\n",
       "        text-align: right;\n",
       "    }\n",
       "</style>\n",
       "<table border=\"1\" class=\"dataframe\">\n",
       "  <thead>\n",
       "    <tr style=\"text-align: right;\">\n",
       "      <th></th>\n",
       "      <th>No Sorting</th>\n",
       "      <th>Sorting by Vertical</th>\n",
       "      <th>Sorting by Horizontal</th>\n",
       "    </tr>\n",
       "  </thead>\n",
       "  <tbody>\n",
       "    <tr>\n",
       "      <th>0</th>\n",
       "      <td>3.783758</td>\n",
       "      <td>8.109426</td>\n",
       "      <td>11.146569</td>\n",
       "    </tr>\n",
       "    <tr>\n",
       "      <th>1</th>\n",
       "      <td>7.071231</td>\n",
       "      <td>20.866912</td>\n",
       "      <td>28.429982</td>\n",
       "    </tr>\n",
       "  </tbody>\n",
       "</table>\n",
       "</div>"
      ],
      "text/plain": [
       "   No Sorting  Sorting by Vertical  Sorting by Horizontal\n",
       "0    3.783758             8.109426              11.146569\n",
       "1    7.071231            20.866912              28.429982"
      ]
     },
     "execution_count": 228,
     "metadata": {},
     "output_type": "execute_result"
    }
   ],
   "source": [
    "import pandas as pd\n",
    "\n",
    "table = pd.DataFrame({\n",
    "'No Sorting': [no_sort_time1, no_sort_time2],\n",
    "'Sorting by Vertical': [sort_time1, sort_time2],\n",
    "'Sorting by Horizontal': [sort_h_time1, sort_h_time2]\n",
    "}, index=[0, 1])\n",
    "table"
   ]
  },
  {
   "cell_type": "markdown",
   "metadata": {},
   "source": [
    "The table above shows that the sortings make the decision slower. So it is wiser to keep going with the original sorting."
   ]
  },
  {
   "cell_type": "code",
   "execution_count": 229,
   "metadata": {},
   "outputs": [],
   "source": [
    "# Return to original sorting\n",
    "def actions(state):\n",
    "    if terminal(state):\n",
    "        return []\n",
    "    \n",
    "    # Get a list of all possible actions\n",
    "    actions = []\n",
    "    dots = state['n']*state['m']\n",
    "    \n",
    "    # Check all dots and orientations\n",
    "    for row in range(state['n']):\n",
    "        for col in range(state['m']):\n",
    "            if ('v', row+1, col+1) not in state and (row+1) > 1:\n",
    "                actions.append(('v', row+1, col+1))\n",
    "            if ('h', row+1, col+1) not in state and (col+1) < (state['m']):\n",
    "                # print('Column: ', col+1, ' M: ', state['m'])\n",
    "                actions.append(('h', row+1, col+1))\n",
    "    return actions"
   ]
  },
  {
   "cell_type": "markdown",
   "metadata": {},
   "source": [
    "### The first few moves\n",
    "\n",
    "Start with an empty board. This is the worst case scenario for minimax search with alpha-beta pruning since it needs solve all possible games that can be played (minus some pruning) before making the decision. What can you do? "
   ]
  },
  {
   "cell_type": "markdown",
   "metadata": {},
   "source": [
    "To prevent the agent from running all possible games from the start, the agent can insert a couple of random lines so the game gets started. Later, the agent will start calculating the best possible moves when there are fewer nodes to explore."
   ]
  },
  {
   "cell_type": "code",
   "execution_count": 230,
   "metadata": {},
   "outputs": [
    {
     "data": {
      "text/plain": [
       "{'n': 4,\n",
       " 'm': 4,\n",
       " 1: 0,\n",
       " -1: 0,\n",
       " ('h', 4, 1): True,\n",
       " ('h', 4, 2): True,\n",
       " ('h', 4, 3): True,\n",
       " ('h', 3, 1): True,\n",
       " ('h', 1, 3): True,\n",
       " ('v', 4, 4): True,\n",
       " ('v', 3, 1): True,\n",
       " ('v', 2, 1): True,\n",
       " ('v', 2, 2): True,\n",
       " ('v', 2, 4): True}"
      ]
     },
     "execution_count": 230,
     "metadata": {},
     "output_type": "execute_result"
    }
   ],
   "source": [
    "test6"
   ]
  },
  {
   "cell_type": "code",
   "execution_count": 234,
   "metadata": {},
   "outputs": [],
   "source": [
    "DEBUG = -1\n",
    "COUNT = 0\n",
    "\n",
    "def alpha_beta_search(state, player=1):\n",
    "    global DEBUG, COUNT\n",
    "    COUNT = 0\n",
    "    \n",
    "    # Check if state has less than 75% of lines drawn\n",
    "    totalLines = ((board['n']-1) * 2) * ((board['m']-1) * 2)\n",
    "    linesDrawn = 0\n",
    "    \n",
    "    for line in state:\n",
    "        if line != 'n' and line != 'm' and type(line) != int:\n",
    "            linesDrawn += 1\n",
    "    \n",
    "    if linesDrawn / totalLines < 0.70:\n",
    "        # Choose a random line\n",
    "        return random_player(state)\n",
    "    \n",
    "    \n",
    "    val, move = max_value_ab(state, player, -math.inf, math.inf)\n",
    "    \n",
    "    if DEBUG >= 0: print(f\"Number of nodes searched: {COUNT}\") \n",
    "    \n",
    "    return {'move': move, 'value': val}\n",
    "\n",
    "def max_value_ab(state, player, alpha, beta):\n",
    "    global DEBUG, COUNT\n",
    "    COUNT += 1\n",
    "    \n",
    "    # return utility of state if it is a terminal state\n",
    "    v = utility(state, player)\n",
    "    \n",
    "    if DEBUG >= 2: print(f\"max: {state} [alpha,beta]=[{alpha},{beta}] v={v}\")\n",
    "    \n",
    "    if DEBUG >= 2: print(\"max in: \" + str(state) + str([v]) ) \n",
    "    if v is not None: \n",
    "        if DEBUG >= 3: print(f\"     found terminal state. backtracking.\")\n",
    "        if DEBUG >= 0: print('Value: ', v)\n",
    "        return v, None\n",
    "    \n",
    "    v, move = -math.inf, None\n",
    "    \n",
    "    # check all possible actions in the state, return move with the largest value\n",
    "    for a in actions(state):\n",
    "        # print_board(state)\n",
    "        v2, a2 = min_value_ab(result(state, a, player), player, alpha, beta)\n",
    "        \n",
    "        if DEBUG >= 2: print(f\"max: {state} (backtracked) [alpha,beta]=[{alpha},{beta}] v={v2}\")\n",
    "        \n",
    "        if v2 > v:\n",
    "            v, move = v2, a\n",
    "            alpha = max(alpha, v)\n",
    "        if v >= beta:\n",
    "            if DEBUG >= 2: print(f\"     v>=beta ({v}>={beta}): pruning remaining subtree (actions). backtracking.\")\n",
    "            return v, move\n",
    "    \n",
    "    return v, move\n",
    "\n",
    "def min_value_ab(state, player, alpha, beta):\n",
    "    \"\"\"opponent's best response.\"\"\"\n",
    "    global DEBUG, COUNT\n",
    "    COUNT += 1\n",
    "    \n",
    "    # return utility of state if it is a terminal state\n",
    "    v = utility(state, player)\n",
    "    \n",
    "    if DEBUG >= 2: print(f\"min: {state} [alpha,beta]=[{alpha},{beta}] v={v}\")\n",
    "\n",
    "    if v is not None: \n",
    "        if DEBUG >= 3: print(f\"     found terminal state. backtacking.\")\n",
    "        if DEBUG >= 0: print('Value: ', v)\n",
    "        return v, None\n",
    "    \n",
    "    v, move = +math.inf, None\n",
    "\n",
    "    # check all possible actions in the state, return move with the smallest value\n",
    "    for a in actions(state):\n",
    "        v2, a2 = max_value_ab(result(state, a, -player), player, alpha, beta)\n",
    "        \n",
    "        if DEBUG >= 2: print(f\"min: {state} (backtracked) [alpha,beta]=[{alpha},{beta}] v={v2}\")\n",
    "        \n",
    "        if v2 < v:\n",
    "            v, move = v2, a\n",
    "            beta = min(beta, v)\n",
    "        \n",
    "        if v <= alpha:\n",
    "            if DEBUG >= 2: print(f\"     v<=alpha ({v}<={alpha}): pruning remaining subtree (actions). backtracking.\")\n",
    "            return v, move\n",
    "    \n",
    "    return v, move"
   ]
  },
  {
   "cell_type": "markdown",
   "metadata": {},
   "source": [
    "### Playtime\n",
    "\n",
    "Let the Minimax Search agent play a random agent on a small board. Analyze wins, losses and draws."
   ]
  },
  {
   "cell_type": "code",
   "execution_count": 250,
   "metadata": {},
   "outputs": [
    {
     "ename": "TypeError",
     "evalue": "'dict' object cannot be interpreted as an integer",
     "output_type": "error",
     "traceback": [
      "\u001b[1;31m---------------------------------------------------------------------------\u001b[0m",
      "\u001b[1;31mTypeError\u001b[0m                                 Traceback (most recent call last)",
      "\u001b[1;32mc:\\Users\\diogo\\OneDrive\\Desktop\\SMU\\AI\\Dots and Boxes\\assignment_dots_and_boxes.ipynb Cell 56'\u001b[0m in \u001b[0;36m<cell line: 1>\u001b[1;34m()\u001b[0m\n\u001b[1;32m----> <a href='vscode-notebook-cell:/c%3A/Users/diogo/OneDrive/Desktop/SMU/AI/Dots%20and%20Boxes/assignment_dots_and_boxes.ipynb#ch0000043?line=0'>1</a>\u001b[0m play(alpha_beta_search, random_player, empty_board())\n",
      "\u001b[1;32mc:\\Users\\diogo\\OneDrive\\Desktop\\SMU\\AI\\Dots and Boxes\\assignment_dots_and_boxes.ipynb Cell 20'\u001b[0m in \u001b[0;36mplay\u001b[1;34m(one, opponent, N, verbose)\u001b[0m\n\u001b[0;32m      <a href='vscode-notebook-cell:/c%3A/Users/diogo/OneDrive/Desktop/SMU/AI/Dots%20and%20Boxes/assignment_dots_and_boxes.ipynb#ch0000019?line=1'>2</a>\u001b[0m \u001b[39m\"\"\"Play N games. one and opponent are the players' agent functions.\"\"\"\u001b[39;00m\n\u001b[0;32m      <a href='vscode-notebook-cell:/c%3A/Users/diogo/OneDrive/Desktop/SMU/AI/Dots%20and%20Boxes/assignment_dots_and_boxes.ipynb#ch0000019?line=3'>4</a>\u001b[0m results \u001b[39m=\u001b[39m {\u001b[39m1\u001b[39m: \u001b[39m0\u001b[39m, \u001b[39m-\u001b[39m\u001b[39m1\u001b[39m: \u001b[39m0\u001b[39m, \u001b[39m'\u001b[39m\u001b[39mdraw\u001b[39m\u001b[39m'\u001b[39m: \u001b[39m0\u001b[39m}\n\u001b[1;32m----> <a href='vscode-notebook-cell:/c%3A/Users/diogo/OneDrive/Desktop/SMU/AI/Dots%20and%20Boxes/assignment_dots_and_boxes.ipynb#ch0000019?line=5'>6</a>\u001b[0m \u001b[39mfor\u001b[39;00m i \u001b[39min\u001b[39;00m \u001b[39mrange\u001b[39;49m(N):\n\u001b[0;32m      <a href='vscode-notebook-cell:/c%3A/Users/diogo/OneDrive/Desktop/SMU/AI/Dots%20and%20Boxes/assignment_dots_and_boxes.ipynb#ch0000019?line=6'>7</a>\u001b[0m     board \u001b[39m=\u001b[39m empty_board()\n\u001b[0;32m      <a href='vscode-notebook-cell:/c%3A/Users/diogo/OneDrive/Desktop/SMU/AI/Dots%20and%20Boxes/assignment_dots_and_boxes.ipynb#ch0000019?line=7'>8</a>\u001b[0m     player, agent \u001b[39m=\u001b[39m \u001b[39m1\u001b[39m, one\n",
      "\u001b[1;31mTypeError\u001b[0m: 'dict' object cannot be interpreted as an integer"
     ]
    }
   ],
   "source": [
    "play(alpha_beta_search, random_player, empty_board())"
   ]
  },
  {
   "cell_type": "markdown",
   "metadata": {},
   "source": [
    "## Task 4: Heuristic Alpha-Beta Tree Search [30 points] \n",
    "\n",
    "### Heuristic evaluation function\n",
    "\n",
    "Define and implement a heuristic evaluation function."
   ]
  },
  {
   "cell_type": "markdown",
   "metadata": {},
   "source": [
    "An acceptable Heuristic Function can evaluate if the line will become the third line of a box. We want to avoid this situation because the opponent will be able to close that newly formed almost completed box and score a point on us."
   ]
  },
  {
   "cell_type": "code",
   "execution_count": null,
   "metadata": {},
   "outputs": [],
   "source": [
    "# Your code/ answer goes here."
   ]
  },
  {
   "cell_type": "markdown",
   "metadata": {},
   "source": [
    "### Cutting off search \n",
    "\n",
    "Modify your Minimax Search with Alpha-Beta Pruning to cut off search at a specified depth and use the heuristic evaluation function. Experiment with different cutoff values."
   ]
  },
  {
   "cell_type": "code",
   "execution_count": null,
   "metadata": {},
   "outputs": [],
   "source": [
    "# Your code/ answer goes here."
   ]
  },
  {
   "cell_type": "markdown",
   "metadata": {},
   "source": [
    "Experiment with the same manually created boards as above to check if the agent spots winning opportunities."
   ]
  },
  {
   "cell_type": "code",
   "execution_count": null,
   "metadata": {},
   "outputs": [],
   "source": [
    "# Your code/ answer goes here."
   ]
  },
  {
   "cell_type": "markdown",
   "metadata": {},
   "source": [
    "How long does it take to make a move? Start with a smaller board with 4 columns and make the board larger by adding columns."
   ]
  },
  {
   "cell_type": "code",
   "execution_count": null,
   "metadata": {},
   "outputs": [],
   "source": [
    "# Your code/ answer goes here."
   ]
  },
  {
   "cell_type": "markdown",
   "metadata": {},
   "source": [
    "### Playtime\n",
    "\n",
    "Let two heuristic search agents (different cutoff depth, different heuristic evaluation function) compete against each other on a reasonably sized board. Since there is no randomness, you only need to let them play once."
   ]
  },
  {
   "cell_type": "code",
   "execution_count": null,
   "metadata": {},
   "outputs": [],
   "source": [
    "# Your code/ answer goes here."
   ]
  },
  {
   "cell_type": "markdown",
   "metadata": {},
   "source": [
    "## Tournament task [+1 to 5% bonus on your course grade; will be assigned separately]\n",
    "\n",
    "Find another student and let your best agent play against the other student's best player. You are allowed to use any improvements you like as long as you code it yourself. We will set up a class tournament on Canvas. This tournament will continue after the submission deadline."
   ]
  },
  {
   "cell_type": "markdown",
   "metadata": {},
   "source": [
    "## Graduate student advanced task: Pure Monte Carlo Search and Best First Move [10 point]\n",
    "\n",
    "__Undergraduate students:__ This is a bonus task you can attempt if you like [+5 Bonus point].\n",
    "\n",
    "### Pure Monte Carlo Search\n",
    "\n",
    "Implement Pure Monte Carlo Search (see [tic-tac-toe-example](https://nbviewer.org/github/mhahsler/CS7320-AI/blob/master/Games/tictactoe_pure_monte_carlo_search.ipynb)) and investigate how this search performs on the test boards that you have used above. "
   ]
  },
  {
   "cell_type": "code",
   "execution_count": null,
   "metadata": {},
   "outputs": [],
   "source": [
    "# Your code/ answer goes here."
   ]
  },
  {
   "cell_type": "markdown",
   "metadata": {},
   "source": [
    "### Best First Move\n",
    "\n",
    "How would you determine what the best first move for a standard board ($5 \\times 5$) is? You can use Pure Monte Carlo Search or any algorithms that you have implemented above."
   ]
  },
  {
   "cell_type": "code",
   "execution_count": null,
   "metadata": {},
   "outputs": [],
   "source": [
    "# Your code/ answer goes here."
   ]
  }
 ],
 "metadata": {
  "kernelspec": {
   "display_name": "Python 3 (ipykernel)",
   "language": "python",
   "name": "python3"
  },
  "language_info": {
   "codemirror_mode": {
    "name": "ipython",
    "version": 3
   },
   "file_extension": ".py",
   "mimetype": "text/x-python",
   "name": "python",
   "nbconvert_exporter": "python",
   "pygments_lexer": "ipython3",
   "version": "3.10.4"
  }
 },
 "nbformat": 4,
 "nbformat_minor": 4
}
