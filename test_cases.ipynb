{
 "cells": [
  {
   "cell_type": "code",
   "execution_count": null,
   "metadata": {},
   "outputs": [],
   "source": [
    "board = {\n",
    "    'n': 4,  ### hoizontal dots\n",
    "    'm': 4,   ### vertical dots\n",
    "    1: 0,\n",
    "    -1: 0\n",
    "}\n",
    "\n",
    "# 1, 2\n",
    "draw_line(board, \"h\", 3, 2, 1)\n",
    "draw_line(board, \"v\", 3, 2, -1)\n",
    "draw_line(board, \"h\", 2, 2, 1)\n",
    "draw_line(board, \"v\", 4, 2, -1)\n",
    "draw_line(board, \"h\", 4, 2, 1)\n",
    "draw_line(board, \"v\", 4, 3, -1)\n",
    "# draw_line(board, \"v\", 3, 3, 1)\n",
    "print_board(board)\n",
    "# print(board[-1])\n",
    "# print(board[1])\n",
    "# board"
   ]
  },
  {
   "cell_type": "code",
   "execution_count": null,
   "metadata": {},
   "outputs": [],
   "source": [
    "testSmall3 = testSmall2.copy()\n",
    "draw_line(testSmall3, 'h', 1, 2, 1)\n",
    "# print_board(testSmall3)\n",
    "print_board(result(testSmall3, ('h', 2, 1)))"
   ]
  },
  {
   "cell_type": "code",
   "execution_count": null,
   "metadata": {},
   "outputs": [],
   "source": [
    "# Test Case\n",
    "testBoard = empty_board()\n",
    "draw_line(testBoard, \"h\", 4, 1, 1)\n",
    "draw_line(testBoard, \"h\", 4, 2, 1)\n",
    "draw_line(testBoard, \"h\", 4, 3, 1)\n",
    "draw_line(testBoard, \"h\", 3, 1, 1)\n",
    "draw_line(testBoard, \"h\", 3, 3, 1)\n",
    "draw_line(testBoard, \"h\", 2, 1, 1)\n",
    "draw_line(testBoard, \"h\", 1, 1, 1)\n",
    "draw_line(testBoard, \"h\", 1, 2, 1)\n",
    "draw_line(testBoard, \"h\", 1, 3, 1)\n",
    "draw_line(testBoard, \"v\", 4, 2, 1)\n",
    "draw_line(testBoard, \"v\", 4, 3, 1)\n",
    "draw_line(testBoard, \"v\", 4, 4, 1)\n",
    "draw_line(testBoard, \"v\", 3, 1, 1)\n",
    "draw_line(testBoard, \"v\", 3, 4, 1)\n",
    "draw_line(testBoard, \"v\", 2, 1, 1)\n",
    "draw_line(testBoard, \"v\", 2, 2, 1)\n",
    "draw_line(testBoard, \"v\", 2, 3, 1)\n",
    "draw_line(testBoard, \"v\", 2, 4, 1)\n",
    "\n",
    "print_board(testBoard)"
   ]
  },
  {
   "cell_type": "code",
   "execution_count": null,
   "metadata": {},
   "outputs": [],
   "source": [
    "# Test actions()\n",
    "print(actions(testBoard))\n",
    "print(testBoard['n'], testBoard['m'])\n",
    "print_board(testBoard)\n",
    "print(actions(testSmall2))\n",
    "print(testSmall2['n'], testSmall2['m'])\n",
    "print_board(testSmall2)"
   ]
  },
  {
   "cell_type": "code",
   "execution_count": null,
   "metadata": {},
   "outputs": [],
   "source": [
    "# Test random_player\n",
    "testBoard2 = empty_board()\n",
    "draw_line(testBoard2, \"h\", 3, 2, 1)\n",
    "draw_line(testBoard2, \"v\", 3, 2, -1)\n",
    "draw_line(testBoard2, \"h\", 2, 2, 1)\n",
    "draw_line(testBoard2, \"v\", 4, 2, -1)\n",
    "draw_line(testBoard2, \"h\", 4, 2, 1)\n",
    "draw_line(testBoard2, \"v\", 4, 3, -1)\n",
    "# draw_line(board, \"v\", 3, 3, 1)\n",
    "print_board(testBoard2)"
   ]
  },
  {
   "cell_type": "code",
   "execution_count": null,
   "metadata": {},
   "outputs": [],
   "source": [
    "# Test minimax()\n",
    "testSmall = empty_small()\n",
    "draw_line(testSmall, 'h', 3, 1, -1)\n",
    "draw_line(testSmall, 'h', 3, 2, 1)\n",
    "draw_line(testSmall, 'h', 2, 1, -1)\n",
    "draw_line(testSmall, 'h', 2, 2, 1)\n",
    "draw_line(testSmall, 'h', 1, 1, -1)\n",
    "draw_line(testSmall, 'v', 3, 1, 1)\n",
    "draw_line(testSmall, 'v', 2, 1, -1)\n",
    "draw_line(testSmall, 'v', 2, 2, -1)\n",
    "print_board(testSmall)"
   ]
  },
  {
   "cell_type": "code",
   "execution_count": null,
   "metadata": {},
   "outputs": [],
   "source": [
    "# Test minimax()\n",
    "testSmall2 = empty_small()\n",
    "draw_line(testSmall2, 'h', 3, 1, -1)\n",
    "draw_line(testSmall2, 'h', 3, 2, 1)\n",
    "draw_line(testSmall2, 'v', 3, 2, 1)\n",
    "draw_line(testSmall2, 'h', 2, 2, 1)\n",
    "draw_line(testSmall2, 'h', 1, 1, -1)\n",
    "draw_line(testSmall2, 'v', 3, 1, 1)\n",
    "draw_line(testSmall2, 'v', 2, 1, -1)\n",
    "draw_line(testSmall2, 'v', 2, 2, -1)\n",
    "print_board(testSmall2)\n",
    "\n",
    "%time display(alpha_beta_search(testSmall2))"
   ]
  },
  {
   "cell_type": "code",
   "execution_count": null,
   "metadata": {},
   "outputs": [],
   "source": [
    "# Test utility(), check_win(), and terminal()\n",
    "print('Utility: ', utility(testNew, 1))\n",
    "print('Check Win: ', check_win(testNew, 1))\n",
    "print('Terminal: ', terminal(testNew))"
   ]
  }
 ],
 "metadata": {
  "interpreter": {
   "hash": "ce41d2c9079f2c783da2c5a9243470309928341d0f7f9360b413f846a0d7760d"
  },
  "kernelspec": {
   "display_name": "Python 3.10.4 64-bit",
   "language": "python",
   "name": "python3"
  },
  "language_info": {
   "codemirror_mode": {
    "name": "ipython",
    "version": 3
   },
   "file_extension": ".py",
   "mimetype": "text/x-python",
   "name": "python",
   "nbconvert_exporter": "python",
   "pygments_lexer": "ipython3",
   "version": "3.10.4"
  },
  "orig_nbformat": 4
 },
 "nbformat": 4,
 "nbformat_minor": 2
}
