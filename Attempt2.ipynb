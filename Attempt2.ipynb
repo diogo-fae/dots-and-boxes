{
 "cells": [
  {
   "cell_type": "markdown",
   "metadata": {},
   "source": [
    "# Adversarial Search: Playing Dots and Boxes\n",
    "\n",
    "\n",
    "## Instructions\n",
    "\n",
    "Total Points: Undegraduates 100, graduate students 110\n",
    "\n",
    "Complete this notebook and submit it. The notebook needs to be a complete project report with your implementation, documentation including a short discussion of how your implementation works and your design choices, and experimental results (e.g., tables and charts with simulation results) with a short discussion of what they mean. Use the provided notebook cells and insert additional code and markdown cells as needed.\n",
    "\n",
    "## Introduction\n",
    "\n",
    "You will implement different versions of agents that play the game Dots and Boxes:\n",
    "\n",
    "> \"Dots and Boxes is a pencil-and-paper game for two players. The game starts with an empty grid of dots. Usually two players take turns adding a single horizontal or vertical line between two unjoined adjacent dots. A player who completes the fourth side of a 1x1 box earns one point and takes another turn. A point is typically recorded by placing a mark that identifies the player in the box, such as an initial. The game ends when no more lines can be placed. The winner is the player with the most points. The board may be of any size grid.\" (see [Dots and Boxes on Wikipedia](https://en.wikipedia.org/wiki/Dots_and_Boxes))\n",
    "\n",
    "You can play Dots and Boxes [here](https://www.math.ucla.edu/~tom/Games/dots&boxes.html)."
   ]
  },
  {
   "cell_type": "markdown",
   "metadata": {},
   "source": [
    "## Task 1: Defining the Search Problem [10 point]"
   ]
  },
  {
   "cell_type": "markdown",
   "metadata": {},
   "source": [
    "### Components\n",
    "\n",
    "Define the components of the search problem associated with this game:\n",
    "\n",
    "* Initial state\n",
    "* Actions\n",
    "* Transition model\n",
    "* Test for the terminal state\n",
    "* Utility for terminal states"
   ]
  },
  {
   "cell_type": "code",
   "execution_count": 1,
   "metadata": {},
   "outputs": [],
   "source": [
    "# Your code/answer goes here."
   ]
  },
  {
   "cell_type": "markdown",
   "metadata": {},
   "source": [
    "How big is the state space? Give an estimate and explain it."
   ]
  },
  {
   "cell_type": "code",
   "execution_count": 2,
   "metadata": {},
   "outputs": [],
   "source": [
    "# Your code/ answer goes here."
   ]
  },
  {
   "cell_type": "markdown",
   "metadata": {},
   "source": [
    "How big is the game tree that minimax search will go through? Give an estimate and explain it."
   ]
  },
  {
   "cell_type": "code",
   "execution_count": 3,
   "metadata": {},
   "outputs": [],
   "source": [
    "# Your code/ answer goes here."
   ]
  },
  {
   "cell_type": "markdown",
   "metadata": {},
   "source": [
    "## Task 2: Game Environment and Random Agent [30 point]\n",
    "\n",
    "You need to think about a data structure to represent the board meaning he placed lines and who finished what box. There are many options. Let's represent the board using a simple dictionary where `n` and `m` represents the number of dots horizontaly and vertically, respectively. Everybody needs to use the same representation so we can let agents play against each other later. "
   ]
  },
  {
   "cell_type": "markdown",
   "metadata": {},
   "source": [
    "### Board Functions"
   ]
  },
  {
   "cell_type": "code",
   "execution_count": 4,
   "metadata": {},
   "outputs": [],
   "source": [
    "# import tensorflow as tf\n",
    "\n",
    "# config = tf.compat.v1.ConfigProto()\n",
    "# config.gpu_options.allow_growth = True\n",
    "# sess = tf.compat.v1.Session(config=config)"
   ]
  },
  {
   "cell_type": "code",
   "execution_count": 5,
   "metadata": {},
   "outputs": [],
   "source": [
    "def emptyN(n):\n",
    "    return {\n",
    "            'n': n,  ### hoizontal dots\n",
    "            'm': n,   ### vertical dots\n",
    "            1: 0,   ### number of squares for player 1\n",
    "            -1: 0   ### number of squares for player 2\n",
    "            }\n",
    "def empty4():\n",
    "    return {\n",
    "            'n': 4,  ### hoizontal dots\n",
    "            'm': 4,   ### vertical dots\n",
    "            1: 0,   ### number of squares for player 1\n",
    "            -1: 0   ### number of squares for player 2\n",
    "            }\n",
    "def empty3():\n",
    "    return {\n",
    "            'n': 3,  ### hoizontal dots\n",
    "            'm': 3,   ### vertical dots\n",
    "            1: 0,   ### number of squares for player 1\n",
    "            -1: 0   ### number of squares for player 2\n",
    "            }\n",
    "def empty2():\n",
    "    return {\n",
    "            'n': 2,  ### hoizontal dots\n",
    "            'm': 2,   ### vertical dots\n",
    "            1: 0,   ### number of squares for player 1\n",
    "            -1: 0   ### number of squares for player 2\n",
    "            }\n",
    "\n",
    "def draw_line(board, orientation, row, col, player):\n",
    "    \"\"\"\n",
    "    Place a line on an exiting board. \n",
    "    Also checks if that line closed a box and adds point to whoever scored.\n",
    "       \n",
    "    Parameters\n",
    "    ----------\n",
    "    board: dict\n",
    "        the board\n",
    "    orientation: str\n",
    "        either 'h' or 'v' for horizontal or vertical\n",
    "    row, col: int\n",
    "        index of the starting dot for the line (starting with 0)\n",
    "    player: str\n",
    "        Either -1 or +1, representing the player adding the line\n",
    "    \"\"\"\n",
    "    if orientation not in ['h', 'v']:\n",
    "        return False\n",
    "    \n",
    "    if player != -1 and player != 1:\n",
    "        return False\n",
    "        \n",
    "    if row < 0 or col < 0:\n",
    "        return False\n",
    "        \n",
    "    if row >= (board['n']+1) + (orientation == 'v') or col >= (board['m']+1) + (orientation == 'h'):\n",
    "        return False\n",
    "        \n",
    "    if (orientation, row, col) in board:\n",
    "        return False\n",
    "    \n",
    "    board[(orientation, row, col)] = True\n",
    "    \n",
    "    # Check if the line closes a box\n",
    "    line = (orientation, row, col)\n",
    "    \n",
    "    # Go through all cases\n",
    "    if line[0] == 'h':\n",
    "        # Case 1: horizontal line at bottom\n",
    "        if ('v', line[1]+1, line[2]) in board and ('v', line[1]+1, line[2]+1) in board and ('h', line[1]+1, line[2]) in board:\n",
    "            # Add point to player\n",
    "            board[player] += 1\n",
    "            # Add box ownership to player\n",
    "            board[(line[1]+1, line[2])] = player\n",
    "            # (2,1): -1\n",
    "        \n",
    "        # Case 2: horizontal line at top\n",
    "        if ('v', line[1], line[2]) in board and ('v', line[1], line[2]+1) in board and ('h', line[1]-1, line[2]) in board:\n",
    "            # Add point to player\n",
    "            board[player] += 1\n",
    "            # Add box ownership to player\n",
    "            board[(line[1], line[2])] = player\n",
    "    \n",
    "    if line[0] == 'v':\n",
    "        # Case 3: vertical line at left\n",
    "        if ('h', line[1], line[2]) in board and ('v', line[1], line[2]+1) in board and ('h', line[1]-1, line[2]) in board:\n",
    "            # Add point to player\n",
    "            board[player] += 1\n",
    "            # Add box ownership to player\n",
    "            board[(line[1], line[2])] = player\n",
    "        \n",
    "        # Case 4: vertical line at right\n",
    "        if ('h', line[1], line[2]-1) in board and ('v', line[1], line[2]-1) in board and ('h', line[1]-1, line[2]-1) in board:\n",
    "            # Add point to player\n",
    "            board[player] += 1\n",
    "            # Add box ownership to player\n",
    "            board[(line[1], line[2]-1)] = player\n",
    "    \n",
    "    return True"
   ]
  },
  {
   "cell_type": "markdown",
   "metadata": {},
   "source": [
    "Write code to display the board. **Bonus point: Post your visualization code with an example output to the discussion board. The best visualization will earn you bonus participation points in this class.**"
   ]
  },
  {
   "cell_type": "code",
   "execution_count": 6,
   "metadata": {
    "scrolled": true
   },
   "outputs": [],
   "source": [
    "import matplotlib.pyplot as plt\n",
    "import matplotlib.lines as mlines\n",
    "\n",
    "def print_board(board):\n",
    "    n = board['n']  # Rows\n",
    "    m = board['m']  # Columns\n",
    "    \n",
    "    fig, ax = plt.subplots()\n",
    "    ax.set_xlim(-0.5, m-0.5)\n",
    "    ax.set_ylim(-0.5, n-0.5)\n",
    "    \n",
    "    # Draw dots\n",
    "    for row in range(n):\n",
    "        for col in range(m):\n",
    "            if (row, col) in board:\n",
    "                ax.scatter(row, col, s=100, marker='o', color='black')\n",
    "            else:\n",
    "                ax.scatter(row, col, s=100, marker='o', color='black')\n",
    "     \n",
    "    # Draw lines\n",
    "    for line in board:\n",
    "        # print(line)\n",
    "        if line != 'n' and line != 'm' and line != -1 and line != 1:\n",
    "            # print(line)\n",
    "            if len(line) > 2:\n",
    "                # Draw Horizontal line\n",
    "                if line[0] == 'h':\n",
    "                    l = mlines.Line2D([line[2]-1,line[2]], [line[1]-1,line[1]-1], color='black')\n",
    "                    # l = mlines.Line2D([line[1],line[1]], [line[2],line[2]+1], color='black')\n",
    "                    ax.add_line(l)\n",
    "                # Draw Vertical line\n",
    "                else:\n",
    "                    l = mlines.Line2D([line[2]-1,line[2]-1], [line[1]-1,line[1]-2], color='black')\n",
    "                    # l = mlines.Line2D([line[1],line[1]-1], [line[2],line[2]], color='black')\n",
    "                    ax.add_line(l)\n",
    "    \n",
    "    # Check for boxes\n",
    "    # Boxes are stored in board with (row, col) as key and player (1 or -1) as value\n",
    "    # eg: board[(3, 1)] = 1 -> player 1 has a box with top left vertex at (3, 1)\n",
    "    for box in board:\n",
    "        if box != 'n' and box != 'm' and box != -1 and box != 1:\n",
    "            if len(box) == 2:\n",
    "                if board[(box[0], box[1])] == 1:\n",
    "                    ax.add_patch(plt.Rectangle((box[1]-1, box[0]-2), 1, 1, color='b'))\n",
    "                else:\n",
    "                    ax.add_patch(plt.Rectangle((box[1]-1, box[0]-2), 1, 1, color='r'))\n",
    "    \n",
    "    # Print results   \n",
    "    print('Results:')\n",
    "    print('         -1:', board[-1])\n",
    "    print('          1:', board[1])\n",
    "    \n",
    "    # Set up plot to start at (1, 1)\n",
    "    x = []\n",
    "    y = []\n",
    "    for row in range(board['n']):\n",
    "        # x.append(row)\n",
    "        x.append(row+1)\n",
    "    for col in range(board['m']):\n",
    "        # y.append(col)\n",
    "        y.append(col+1)\n",
    "    default_x_ticks = range(len(x))\n",
    "    plt.xticks(default_x_ticks, x)\n",
    "    default_y_ticks = range(len(y))\n",
    "    plt.yticks(default_y_ticks, y)\n",
    "    \n",
    "    plt.show()"
   ]
  },
  {
   "cell_type": "markdown",
   "metadata": {},
   "source": [
    "### Boards"
   ]
  },
  {
   "cell_type": "code",
   "execution_count": 7,
   "metadata": {},
   "outputs": [
    {
     "data": {
      "text/plain": [
       "True"
      ]
     },
     "execution_count": 7,
     "metadata": {},
     "output_type": "execute_result"
    }
   ],
   "source": [
    "test1 = empty3()\n",
    "draw_line(test1, 'h', 3, 1, 1)\n",
    "draw_line(test1, 'h', 3, 2, 1)\n",
    "draw_line(test1, 'h', 2, 1, 1)\n",
    "draw_line(test1, 'h', 2, 2, 1)\n",
    "draw_line(test1, 'h', 1, 1, 1)\n",
    "draw_line(test1, 'v', 3, 1, 1)\n",
    "draw_line(test1, 'v', 2, 1, 1)\n",
    "draw_line(test1, 'v', 2, 2, -1)\n",
    "\n",
    "test2 = empty3()\n",
    "draw_line(test2, 'h', 3, 2, 1)\n",
    "draw_line(test2, 'h', 2, 1, 1)\n",
    "draw_line(test2, 'h', 2, 2, 1)\n",
    "draw_line(test2, 'v', 3, 2, 1)\n",
    "draw_line(test2, 'v', 3, 3, 1)\n",
    "draw_line(test2, 'v', 2, 1, 1)\n",
    "draw_line(test2, 'v', 2, 2, 1)\n",
    "draw_line(test2, 'v', 2, 3, 1)\n",
    "\n",
    "test3 = empty3()\n",
    "draw_line(test3, 'h', 3, 1, -1)\n",
    "draw_line(test3, 'h', 3, 2, 1)\n",
    "draw_line(test3, 'h', 2, 1, -1)\n",
    "draw_line(test3, 'h', 2, 2, 1)\n",
    "draw_line(test3, 'h', 1, 2, -1)\n",
    "draw_line(test3, 'v', 3, 2, 1)\n",
    "draw_line(test3, 'v', 2, 2, -1)\n",
    "\n",
    "test4 = empty3()\n",
    "draw_line(test4, 'h', 3, 1, -1)\n",
    "draw_line(test4, 'h', 2, 1, 1)\n",
    "draw_line(test4, 'h', 2, 2, -1)\n",
    "draw_line(test4, 'h', 1, 2, 1)\n",
    "draw_line(test4, 'v', 3, 1, -1)\n",
    "draw_line(test4, 'v', 3, 2, 1)\n",
    "draw_line(test4, 'v', 3, 3, -1)\n",
    "draw_line(test4, 'v', 2, 3, -1)\n",
    "\n",
    "test5 = empty4()\n",
    "draw_line(test5, \"h\", 4, 1, -1)\n",
    "draw_line(test5, \"h\", 4, 2, -1)\n",
    "draw_line(test5, \"h\", 4, 3, -1)\n",
    "draw_line(test5, \"h\", 3, 1, -1)\n",
    "draw_line(test5, \"h\", 3, 3, -1)\n",
    "draw_line(test5, \"h\", 2, 1, -1)\n",
    "draw_line(test5, \"h\", 1, 1, -1)\n",
    "draw_line(test5, \"h\", 1, 2, -1)\n",
    "draw_line(test5, \"h\", 1, 3, -1)\n",
    "# draw_line(test5, \"v\", 4, 2, -1)\n",
    "draw_line(test5, \"v\", 4, 3, -1)\n",
    "draw_line(test5, \"v\", 4, 4, -1)\n",
    "draw_line(test5, \"v\", 3, 1, -1)\n",
    "draw_line(test5, \"v\", 3, 4, -1)\n",
    "draw_line(test5, \"v\", 2, 1, -1)\n",
    "draw_line(test5, \"v\", 2, 2, -1)\n",
    "draw_line(test5, \"v\", 2, 3, -1)\n",
    "draw_line(test5, \"v\", 2, 4, -1)\n",
    "\n",
    "test6 = empty4()\n",
    "draw_line(test6, \"h\", 4, 1, -1)\n",
    "draw_line(test6, \"h\", 4, 2, -1)\n",
    "draw_line(test6, \"h\", 4, 3, -1)\n",
    "draw_line(test6, \"h\", 3, 1, -1)\n",
    "draw_line(test6, \"h\", 1, 3, -1)\n",
    "draw_line(test6, \"v\", 4, 4, -1)\n",
    "draw_line(test6, \"v\", 3, 1, -1)\n",
    "draw_line(test6, \"v\", 2, 1, -1)\n",
    "draw_line(test6, \"v\", 2, 2, -1)\n",
    "draw_line(test6, \"v\", 2, 4, -1)\n",
    "\n",
    "test7 = empty4()\n",
    "draw_line(test7, \"h\", 4, 1, -1)\n",
    "draw_line(test7, \"h\", 4, 2, -1)\n",
    "draw_line(test7, \"h\", 4, 3, -1)\n",
    "draw_line(test7, \"h\", 3, 1, -1)\n",
    "draw_line(test7, \"h\", 3, 3, -1)\n",
    "draw_line(test7, \"h\", 2, 1, -1)\n",
    "draw_line(test7, \"h\", 1, 1, -1)\n",
    "draw_line(test7, \"h\", 1, 2, 1)\n",
    "draw_line(test7, \"h\", 1, 3, 1)\n",
    "draw_line(test7, \"v\", 4, 2, 1)\n",
    "draw_line(test7, \"v\", 4, 3, 1)\n",
    "draw_line(test7, \"v\", 4, 4, 1)\n",
    "draw_line(test7, \"v\", 3, 1, -1)\n",
    "draw_line(test7, \"v\", 2, 1, -1)\n",
    "draw_line(test7, \"v\", 2, 2, 1)\n",
    "draw_line(test7, \"v\", 2, 4, -1)\n",
    "draw_line(test7, \"v\", 4, 1, -1)\n",
    "\n",
    "test8 = empty4()\n",
    "draw_line(test8, \"h\", 4, 1, -1)\n",
    "draw_line(test8, \"h\", 4, 2, -1)\n",
    "draw_line(test8, \"h\", 4, 3, -1)\n",
    "draw_line(test8, \"h\", 3, 1, -1)\n",
    "# draw_line(test8, \"h\", 1, 3, -1)\n",
    "draw_line(test8, \"v\", 4, 4, -1)\n",
    "draw_line(test8, \"v\", 3, 1, -1)\n",
    "draw_line(test8, \"v\", 2, 1, -1)\n",
    "draw_line(test8, \"v\", 2, 2, -1)\n",
    "draw_line(test8, \"v\", 2, 4, -1)\n",
    "draw_line(test8, 'h', 3, 2, 1)\n",
    "draw_line(test8, 'v', 3, 3, 1)\n",
    "draw_line(test8, 'v', 2, 3, 1)\n",
    "draw_line(test8, 'h', 1, 2, 1)\n",
    "draw_line(test8, 'v', 3, 4, 1)\n",
    "# draw_line(test8, 'v', 4, 1, 1)\n",
    "\n",
    "full4 = empty4()\n",
    "draw_line(full4, \"h\", 4, 1, -1)\n",
    "draw_line(full4, \"h\", 4, 2, -1)\n",
    "draw_line(full4, \"h\", 4, 3, -1)\n",
    "draw_line(full4, \"h\", 3, 1, -1)\n",
    "draw_line(full4, \"h\", 3, 3, -1)\n",
    "draw_line(full4, \"h\", 2, 1, -1)\n",
    "draw_line(full4, \"h\", 1, 1, -1)\n",
    "draw_line(full4, \"h\", 1, 2, 1)\n",
    "draw_line(full4, \"h\", 1, 3, 1)\n",
    "draw_line(full4, \"v\", 4, 2, 1)\n",
    "draw_line(full4, \"v\", 4, 3, 1)\n",
    "draw_line(full4, \"v\", 4, 4, 1)\n",
    "draw_line(full4, \"v\", 3, 1, -1)\n",
    "draw_line(full4, \"v\", 3, 4, -1)\n",
    "draw_line(full4, \"v\", 2, 1, -1)\n",
    "draw_line(full4, \"v\", 2, 2, -1)\n",
    "draw_line(full4, \"v\", 2, 3, 1)\n",
    "draw_line(full4, \"v\", 2, 4, -1)\n",
    "draw_line(full4, \"v\", 4, 1, -1)\n",
    "draw_line(full4, \"v\", 3, 2, -1)\n",
    "draw_line(full4, \"v\", 3, 3, 1)\n",
    "draw_line(full4, \"h\", 3, 2, 1)\n",
    "draw_line(full4, \"h\", 2, 2, -1)\n",
    "draw_line(full4, 'h', 2, 3, 1)"
   ]
  },
  {
   "cell_type": "markdown",
   "metadata": {},
   "source": [
    "### Helper Functions"
   ]
  },
  {
   "cell_type": "markdown",
   "metadata": {},
   "source": [
    "Implement helper functions for:\n",
    "\n",
    "* The transition model $result(s, a)$.\n",
    "* The utility function $utility(s)$.\n",
    "* Check for terminal states $terminal(s)$.\n",
    "* A check for available actions in each state $actions(s)$.\n",
    "\n",
    "__Notes:__\n",
    "* Make sure that all these functions work with boards of different sizes (number of columns and rows as stored in the board).\n",
    "* The result function evaluates if the player closed a box and needs to store that information on the board. Add elements of the form `(row,col): player` to the board dictionary. `row` and `col` are the coordinates for the box and `player` is +1 or -1 representing the player. For example `(0,0): -1` means that the top-left box belongs to the other player. "
   ]
  },
  {
   "cell_type": "code",
   "execution_count": 8,
   "metadata": {},
   "outputs": [],
   "source": [
    "def closes_box(state, action, player=1):\n",
    "    \"\"\"\n",
    "    Check if the action will close a box, return True if it did.\n",
    "    \n",
    "    Parameters\n",
    "    ----------\n",
    "    board: dict\n",
    "        The board\n",
    "    action: list\n",
    "        List describing the action\n",
    "        action[0]: orientation - 'h' or 'v'\n",
    "        action[1]: row\n",
    "        action[2]: column\n",
    "    \"\"\"\n",
    "    \n",
    "    state = state.copy()\n",
    "    \n",
    "    # Line will not close a box if it is already drawn\n",
    "    if action in state:\n",
    "        return False\n",
    "    \n",
    "    draw_line(state, action[0], action[1], action[2], player)\n",
    "    \n",
    "    if action[0] == 'h':\n",
    "        # Case 1: horizontal line at bottom\n",
    "        if ('v', action[1]+1, action[2]) in state and ('v', action[1]+1, action[2]+1) in state and ('h', action[1]+1, action[2]) in state:\n",
    "            # print(action, ' Case 1')\n",
    "            return True\n",
    "        # Case 2: horizontal line at top\n",
    "        if ('v', action[1], action[2]) in state and ('v', action[1], action[2]+1) in state and ('h', action[1]-1, action[2]) in state:\n",
    "            # print(action, ' Case 2')\n",
    "            return True\n",
    "    if action[0] == 'v':\n",
    "        # Case 3: vertical line at left\n",
    "        if ('h', action[1], action[2]) in state and ('v', action[1], action[2]+1) in state and ('h', action[1]-1, action[2]) in state:\n",
    "            # print(action, ' Case 3')\n",
    "            return True\n",
    "        # Case 4: vertical line at right\n",
    "        if ('h', action[1], action[2]-1) in state and ('v', action[1], action[2]-1) in state and ('h', action[1]-1, action[2]-1) in state:\n",
    "            # print(action, ' Case 4')\n",
    "            return True\n",
    "    \n",
    "    return False"
   ]
  },
  {
   "cell_type": "code",
   "execution_count": 9,
   "metadata": {},
   "outputs": [],
   "source": [
    "def closed_box(state, action, player=1):\n",
    "    \"\"\"\n",
    "    Check if the action has closed a box, return True if it did.\n",
    "    \n",
    "    Parameters\n",
    "    ----------\n",
    "    board: dict\n",
    "        The board\n",
    "    action: list\n",
    "        List describing the action\n",
    "        action[0]: orientation - 'h' or 'v'\n",
    "        action[1]: row\n",
    "        action[2]: column\n",
    "    \"\"\"\n",
    "    \n",
    "    if action is None:\n",
    "        return False\n",
    "    \n",
    "    state = state.copy()\n",
    "    \n",
    "    # Line will not close a box if it is not already drawn\n",
    "    if action not in state:\n",
    "        return False\n",
    "    \n",
    "    # draw_line(state, action[0], action[1], action[2], player)\n",
    "    \n",
    "    if action[0] == 'h':\n",
    "        # Case 1: horizontal line at bottom\n",
    "        if ('v', action[1]+1, action[2]) in state and ('v', action[1]+1, action[2]+1) in state and ('h', action[1]+1, action[2]) in state:\n",
    "            # print(action, ' Case 1')\n",
    "            return True\n",
    "        # Case 2: horizontal line at top\n",
    "        if ('v', action[1], action[2]) in state and ('v', action[1], action[2]+1) in state and ('h', action[1]-1, action[2]) in state:\n",
    "            # print(action, ' Case 2')\n",
    "            return True\n",
    "    if action[0] == 'v':\n",
    "        # Case 3: vertical line at left\n",
    "        if ('h', action[1], action[2]) in state and ('v', action[1], action[2]+1) in state and ('h', action[1]-1, action[2]) in state:\n",
    "            # print(action, ' Case 3')\n",
    "            return True\n",
    "        # Case 4: vertical line at right\n",
    "        if ('h', action[1], action[2]-1) in state and ('v', action[1], action[2]-1) in state and ('h', action[1]-1, action[2]-1) in state:\n",
    "            # print(action, ' Case 4')\n",
    "            return True\n",
    "    \n",
    "    return False"
   ]
  },
  {
   "cell_type": "code",
   "execution_count": 10,
   "metadata": {},
   "outputs": [],
   "source": [
    "def check_win(state, player=1):\n",
    "    '''\n",
    "    Checks the winner of the state received.\n",
    "       \n",
    "    Parameters\n",
    "    ----------\n",
    "    state: dict\n",
    "        the board\n",
    "    player: int\n",
    "        -1 or +1 representing the player adding a line\n",
    "    Returns a string for win, draw, or loss\n",
    "    '''\n",
    "        \n",
    "    playerPoints = 0\n",
    "    opponentPoints = 0\n",
    "    for dots in state:\n",
    "        if dots != 'n' and dots != 'm' and dots != -1 and dots != 1:\n",
    "            if len(dots) == 2:\n",
    "                if state[dots] == player:\n",
    "                    playerPoints += 1\n",
    "                elif state[dots] == -player:\n",
    "                    opponentPoints += 1\n",
    "    \n",
    "    if (playerPoints + opponentPoints) < ((state['n']-1)*(state['m']-1)):\n",
    "        return 'next'\n",
    "    else:\n",
    "        if playerPoints > opponentPoints:\n",
    "            return 'win'\n",
    "        elif playerPoints < opponentPoints:\n",
    "            return 'loss'\n",
    "        elif playerPoints == opponentPoints:\n",
    "            return 'draw'"
   ]
  },
  {
   "cell_type": "code",
   "execution_count": 11,
   "metadata": {},
   "outputs": [],
   "source": [
    "def actions(state):\n",
    "    '''\n",
    "    Returns all possible moves available on the state received.\n",
    "       \n",
    "    Parameters\n",
    "    ----------\n",
    "    state: dict\n",
    "        the board\n",
    "    Returns a list\n",
    "    '''\n",
    "    \n",
    "    if terminal(state):\n",
    "        return []\n",
    "    \n",
    "    # Get a list of all possible actions\n",
    "    actions = []\n",
    "    dots = state['n']*state['m']\n",
    "    \n",
    "    # Check all dots and orientations\n",
    "    for row in range(state['n']):\n",
    "        for col in range(state['m']):\n",
    "            if ('v', row+1, col+1) not in state and (row+1) > 1:\n",
    "                actions.append(('v', row+1, col+1))\n",
    "            if ('h', row+1, col+1) not in state and (col+1) < (state['m']):\n",
    "                # print('Column: ', col+1, ' M: ', state['m'])\n",
    "                actions.append(('h', row+1, col+1))\n",
    "    return actions"
   ]
  },
  {
   "cell_type": "code",
   "execution_count": 12,
   "metadata": {},
   "outputs": [],
   "source": [
    "def result(state, player, action):\n",
    "    \"\"\"\n",
    "    Add move to the board. Calls the draw_line function.\n",
    "    \n",
    "    Parameters\n",
    "    ----------\n",
    "    state: dict\n",
    "        current state\n",
    "    player: int\n",
    "        player number\n",
    "    action: list\n",
    "        List describing the action\n",
    "        action[0]: orientation - 'h' or 'v'\n",
    "        action[1]: row\n",
    "        action[2]: column\n",
    "    \"\"\"\n",
    "    \n",
    "    state = state.copy()\n",
    "    \n",
    "    # draw_line(board, orientation, row, col, player)\n",
    "    draw_line(state, action[0], action[1], action[2], player)\n",
    "    \n",
    "    return state"
   ]
  },
  {
   "cell_type": "code",
   "execution_count": 13,
   "metadata": {},
   "outputs": [],
   "source": [
    "def utility(state, player=1):\n",
    "    goal = check_win(state, player)\n",
    "    if goal == 'win': return +1 \n",
    "    if goal == 'draw': return 0  \n",
    "    if goal == 'loss': return -1  # loss is failure\n",
    "    return None # continue"
   ]
  },
  {
   "cell_type": "code",
   "execution_count": 14,
   "metadata": {},
   "outputs": [],
   "source": [
    "def terminal(state):\n",
    "    return check_win(state) != 'next'"
   ]
  },
  {
   "cell_type": "markdown",
   "metadata": {},
   "source": [
    "### Random Agent"
   ]
  },
  {
   "cell_type": "markdown",
   "metadata": {},
   "source": [
    "Implement an agent that plays randomly. Make sure the agent function receives as the percept the board and returns a valid action. Use an agent function definition with the following signature (arguments):\n",
    "\n",
    "`def random_player(board, player = None): ...`\n",
    "\n",
    "The argument `player` is used for agents that do not store what side they are playing. The value passed on by the environment should be 1 ot -1 for playerred and yellow, respectively.  See [Experiments section for tic-tac-toe](https://nbviewer.org/github/mhahsler/CS7320-AI/blob/master/Games/tictactoe_and_or_tree_search.ipynb#Experiments) for an example."
   ]
  },
  {
   "cell_type": "code",
   "execution_count": 15,
   "metadata": {},
   "outputs": [],
   "source": [
    "import numpy as np\n",
    "\n",
    "def random_player(state, player=None):\n",
    "    '''\n",
    "    Random agent. Returns a random action from a list of all possible actions.\n",
    "    \n",
    "    Parameters\n",
    "    ----------\n",
    "    board: dict\n",
    "        The board\n",
    "    player: int\n",
    "        Player making the move\n",
    "    '''\n",
    "    moves = actions(state)\n",
    "    if len(moves) == 0:\n",
    "        return None\n",
    "    \n",
    "    index = np.random.choice(len(moves))\n",
    "    return moves[index]"
   ]
  },
  {
   "cell_type": "markdown",
   "metadata": {},
   "source": [
    "### Environment"
   ]
  },
  {
   "cell_type": "code",
   "execution_count": 16,
   "metadata": {},
   "outputs": [],
   "source": [
    "def play(agentOne, agentOpponent, N=1, size=4, verbose=0):\n",
    "    \"\"\"Play N games. agentOne and agentOpponent are the players' agent functions.\"\"\"\n",
    "    \n",
    "    results = {-1: 0, 1: 0, 'draw': 0}\n",
    "    \n",
    "    # Play N games\n",
    "    for i in range(N):\n",
    "        # Initiliaze empty board\n",
    "        board = emptyN(size)\n",
    "        # Initialize player and its agent\n",
    "        player, agent = 1, agentOne\n",
    "        # Reset change player boolean\n",
    "        change = True\n",
    "        \n",
    "        # Game loop\n",
    "        while True:\n",
    "            # If there are no actions left, the game is over\n",
    "            if actions(board) == []:\n",
    "                # Check the winner\n",
    "                win = check_win(board, player)\n",
    "                # Add to counters\n",
    "                if win == 'win':\n",
    "                    results[player] += 1\n",
    "                elif win == 'loss':\n",
    "                    results[-player] += 1\n",
    "                else:\n",
    "                    results['draw'] += 1\n",
    "                if verbose>0: print_board(board)\n",
    "                break\n",
    "            \n",
    "            # Get the action the agent wants to play\n",
    "            action = agent(board, player)\n",
    "            \n",
    "            # If the action will close a box, player plays again\n",
    "            if closes_box(board, action):\n",
    "                change = False\n",
    "            # If it doesn't, it is the opponent's turn\n",
    "            else:\n",
    "                change = True\n",
    "            \n",
    "            # Play the action\n",
    "            board = result(board, player, action)  \n",
    "            \n",
    "            if change:\n",
    "                # Switch player\n",
    "                player = -player\n",
    "                # Switch agent\n",
    "                if agent == agentOne:\n",
    "                    agent = agentOpponent\n",
    "                elif agent == agentOpponent:\n",
    "                    agent = agentOne\n",
    "        \n",
    "    return results"
   ]
  },
  {
   "cell_type": "markdown",
   "metadata": {},
   "source": [
    "Let two random agents play against each other 1000 times. Look at the [Experiments section for tic-tac-toe](https://nbviewer.org/github/mhahsler/CS7320-AI/blob/master/Games/tictactoe_and_or_tree_search.ipynb#Experiments) to see how the environment uses the agent functions to play against each other.\n",
    "\n",
    "How often does each player win? Is the result expected?"
   ]
  },
  {
   "cell_type": "code",
   "execution_count": 17,
   "metadata": {},
   "outputs": [
    {
     "ename": "SyntaxError",
     "evalue": "'break' outside loop (668683560.py, line 1)",
     "output_type": "error",
     "traceback": [
      "\u001b[1;36m  Input \u001b[1;32mIn [17]\u001b[1;36m\u001b[0m\n\u001b[1;33m    break\u001b[0m\n\u001b[1;37m    ^\u001b[0m\n\u001b[1;31mSyntaxError\u001b[0m\u001b[1;31m:\u001b[0m 'break' outside loop\n"
     ]
    }
   ],
   "source": [
    "break"
   ]
  },
  {
   "cell_type": "code",
   "execution_count": null,
   "metadata": {
    "tags": []
   },
   "outputs": [
    {
     "name": "stdout",
     "output_type": "stream",
     "text": [
      "1: 511.2\n",
      "-1: 488.8\n",
      "draw: 0.0\n",
      "Proportion for One:  0.5112\n",
      "Proportion for Opponent:  0.4888\n"
     ]
    }
   ],
   "source": [
    "oneAvg = 0\n",
    "opponentAvg = 0\n",
    "drawAvg = 0\n",
    "\n",
    "for i in range(10):\n",
    "    curr = play(random_player, random_player, 1000)\n",
    "    oneAvg += curr[1]\n",
    "    opponentAvg += curr[-1]\n",
    "    drawAvg += curr['draw']\n",
    "\n",
    "oneAvg = oneAvg/10\n",
    "opponentAvg = opponentAvg/10\n",
    "drawAvg = drawAvg/10\n",
    "print('1:', oneAvg)\n",
    "print('-1:', opponentAvg)\n",
    "print('draw:', drawAvg)\n",
    "print('Proportion for One: ', oneAvg/(oneAvg+opponentAvg+drawAvg))\n",
    "print('Proportion for Opponent: ', opponentAvg/(oneAvg+opponentAvg+drawAvg))"
   ]
  },
  {
   "cell_type": "markdown",
   "metadata": {},
   "source": [
    "## Task 3: Minimax Search with Alpha-Beta Pruning [30 points]\n",
    "\n",
    "### Implement the search starting.\n",
    "\n",
    "Implement the search starting from a given board and specifying the player and put it into an agent function.\n",
    "You can use code from the [tic-tac-toe example](https://nbviewer.org/github/mhahsler/CS7320-AI/blob/master/Games/tictactoe_alpha_beta_tree_search.ipynb).\n",
    "\n",
    "__Notes:__ \n",
    "* Make sure that all your agent functions have a signature consistent with the random agent above.\n",
    "* The search space for larger board may be too large. You can experiment with smaller boards."
   ]
  },
  {
   "cell_type": "markdown",
   "metadata": {},
   "source": [
    "### Algorithm"
   ]
  },
  {
   "cell_type": "code",
   "execution_count": null,
   "metadata": {},
   "outputs": [],
   "source": [
    "DEBUG = 1\n",
    "COUNT = 0\n",
    "\n",
    "def alpha_beta_search(state, player=1):\n",
    "    global DEBUG, COUNT\n",
    "    state = state.copy()\n",
    "    \n",
    "    val, move = max_value(state, player, -np.inf, np.inf)\n",
    "    \n",
    "    if DEBUG >= 1: print(f\"Number of nodes searched: {COUNT}\") \n",
    "    \n",
    "    if DEBUG >= 0: return {'move': move, 'value': val}\n",
    "    else: return move\n",
    "\n",
    "def max_value(state, player, alpha, beta, prevAction=None):\n",
    "    global DEBUG, COUNT\n",
    "    COUNT += 1\n",
    "    \n",
    "    # If the state is terminal, return the utility value to the player\n",
    "    if terminal(state):\n",
    "        return utility(state, player), None\n",
    "    \n",
    "    v = -np.inf\n",
    "    best_move = None\n",
    "    \n",
    "    if closed_box(state, prevAction):\n",
    "        if DEBUG >= 5: print_board(state)\n",
    "        v2, action2 = min_value(state, -player, alpha, beta, None)\n",
    "        if v2 > v:\n",
    "            v = v2\n",
    "            best_move = None\n",
    "            alpha = max(alpha, v)\n",
    "        if v >= beta:\n",
    "            return v, best_move\n",
    "        # alpha = max(alpha, v)\n",
    "    else:\n",
    "        for action in actions(state):\n",
    "            if DEBUG >= 4: print_board(state)\n",
    "            v2, action2 = min_value(result(state, player, action), -player, alpha, beta, action)\n",
    "            if DEBUG >= 2: print('Max: ', v2)\n",
    "            if v2 > v:\n",
    "                v = v2\n",
    "                best_move = action\n",
    "                alpha = max(alpha, v)\n",
    "            if v >= beta:\n",
    "                return v, best_move\n",
    "            # alpha = max(alpha, v)\n",
    "\n",
    "    return v, best_move\n",
    "\n",
    "def min_value(state, player, alpha, beta, prevAction=None):\n",
    "    global DEBUG, COUNT\n",
    "    COUNT += 1\n",
    "    \n",
    "    # If the state is terminal, return the utility value to the player\n",
    "    if terminal(state):\n",
    "        return utility(state, player), None\n",
    "    \n",
    "    v = np.inf\n",
    "    best_move = None\n",
    "    \n",
    "    if closed_box(state, prevAction):\n",
    "        if DEBUG >= 5: print_board(state)\n",
    "        v2, action2 = max_value(state, -player, alpha, beta, None)\n",
    "        if v2 < v:\n",
    "                v = v2\n",
    "                best_move = None\n",
    "                beta = min(beta, v)\n",
    "        if v <= alpha:\n",
    "            return v, best_move\n",
    "        # beta = min(beta, v)\n",
    "    else:\n",
    "        for action in actions(state):\n",
    "            if DEBUG >= 4: print_board(state)\n",
    "            v2, action2 = max_value(result(state, player, action), -player, alpha, beta, action)\n",
    "            if DEBUG >= 3: print('Min: ', v2)\n",
    "            if v2 < v:\n",
    "                v = v2\n",
    "                best_move = action\n",
    "                beta = min(beta, v)\n",
    "            if v <= alpha:\n",
    "                return v, best_move\n",
    "            # beta = min(beta, v)\n",
    "    \n",
    "    return v, best_move"
   ]
  },
  {
   "cell_type": "markdown",
   "metadata": {},
   "source": [
    "### Experiments with Boards"
   ]
  },
  {
   "cell_type": "markdown",
   "metadata": {},
   "source": [
    "Experiment with some manually created boards (at least 5) to check if the agent spots winning opportunities."
   ]
  },
  {
   "cell_type": "code",
   "execution_count": null,
   "metadata": {},
   "outputs": [
    {
     "name": "stdout",
     "output_type": "stream",
     "text": [
      "{'move': ('v', 3, 2), 'value': 0}\n",
      "Results:\n",
      "         -1: 1\n",
      "          1: 0\n"
     ]
    },
    {
     "data": {
      "image/png": "[encoded data removed]",
      "text/plain": [
       "<Figure size 432x288 with 1 Axes>"
      ]
     },
     "metadata": {
      "needs_background": "light"
     },
     "output_type": "display_data"
    }
   ],
   "source": [
    "print(alpha_beta_search(test1))\n",
    "print_board(test1)"
   ]
  },
  {
   "cell_type": "code",
   "execution_count": null,
   "metadata": {},
   "outputs": [
    {
     "name": "stdout",
     "output_type": "stream",
     "text": [
      "{'move': ('h', 1, 1), 'value': 1}\n",
      "Results:\n",
      "         -1: 0\n",
      "          1: 1\n"
     ]
    },
    {
     "data": {
      "image/png": "[encoded data removed]",
      "text/plain": [
       "<Figure size 432x288 with 1 Axes>"
      ]
     },
     "metadata": {
      "needs_background": "light"
     },
     "output_type": "display_data"
    }
   ],
   "source": [
    "print(alpha_beta_search(test2))\n",
    "print_board(test2)"
   ]
  },
  {
   "cell_type": "code",
   "execution_count": null,
   "metadata": {},
   "outputs": [
    {
     "name": "stdout",
     "output_type": "stream",
     "text": [
      "{'move': ('v', 2, 3), 'value': 1}\n",
      "Results:\n",
      "         -1: 0\n",
      "          1: 0\n"
     ]
    },
    {
     "data": {
      "image/png": "[encoded data removed]",
      "text/plain": [
       "<Figure size 432x288 with 1 Axes>"
      ]
     },
     "metadata": {
      "needs_background": "light"
     },
     "output_type": "display_data"
    }
   ],
   "source": [
    "print(alpha_beta_search(test3))\n",
    "print_board(test3)"
   ]
  },
  {
   "cell_type": "code",
   "execution_count": null,
   "metadata": {},
   "outputs": [
    {
     "name": "stdout",
     "output_type": "stream",
     "text": [
      "{'move': ('v', 2, 2), 'value': 1}\n",
      "Results:\n",
      "         -1: 0\n",
      "          1: 1\n"
     ]
    },
    {
     "data": {
      "image/png": "[encoded data removed]",
      "text/plain": [
       "<Figure size 432x288 with 1 Axes>"
      ]
     },
     "metadata": {
      "needs_background": "light"
     },
     "output_type": "display_data"
    }
   ],
   "source": [
    "print(alpha_beta_search(test4))\n",
    "print_board(test4)"
   ]
  },
  {
   "cell_type": "code",
   "execution_count": null,
   "metadata": {},
   "outputs": [
    {
     "name": "stdout",
     "output_type": "stream",
     "text": [
      "{'move': ('h', 2, 2), 'value': 1}\n",
      "Results:\n",
      "         -1: 2\n",
      "          1: 0\n"
     ]
    },
    {
     "data": {
      "image/png": "[encoded data removed]",
      "text/plain": [
       "<Figure size 432x288 with 1 Axes>"
      ]
     },
     "metadata": {
      "needs_background": "light"
     },
     "output_type": "display_data"
    }
   ],
   "source": [
    "print(alpha_beta_search(test5))\n",
    "print_board(test5)"
   ]
  },
  {
   "cell_type": "code",
   "execution_count": null,
   "metadata": {},
   "outputs": [],
   "source": [
    "# ~2:40 min\n",
    "print(alpha_beta_search(test6))\n",
    "print_board(test6)"
   ]
  },
  {
   "cell_type": "code",
   "execution_count": null,
   "metadata": {},
   "outputs": [
    {
     "name": "stdout",
     "output_type": "stream",
     "text": [
      "{'move': ('h', 2, 2), 'value': -1}\n",
      "Results:\n",
      "         -1: 1\n",
      "          1: 2\n"
     ]
    },
    {
     "data": {
      "image/png": "[encoded data removed]",
      "text/plain": [
       "<Figure size 432x288 with 1 Axes>"
      ]
     },
     "metadata": {
      "needs_background": "light"
     },
     "output_type": "display_data"
    }
   ],
   "source": [
    "print(alpha_beta_search(test7))\n",
    "print_board(test7)"
   ]
  },
  {
   "cell_type": "code",
   "execution_count": null,
   "metadata": {},
   "outputs": [
    {
     "name": "stdout",
     "output_type": "stream",
     "text": [
      "Results:\n",
      "         -1: 0\n",
      "          1: 0\n"
     ]
    },
    {
     "data": {
      "image/png": "[encoded data removed]",
      "text/plain": [
       "<Figure size 432x288 with 1 Axes>"
      ]
     },
     "metadata": {
      "needs_background": "light"
     },
     "output_type": "display_data"
    }
   ],
   "source": [
    "print_board(test8)"
   ]
  },
  {
   "cell_type": "code",
   "execution_count": null,
   "metadata": {},
   "outputs": [
    {
     "name": "stdout",
     "output_type": "stream",
     "text": [
      "{'move': ('h', 2, 2), 'value': 1}\n",
      "Results:\n",
      "         -1: 0\n",
      "          1: 0\n"
     ]
    },
    {
     "data": {
      "image/png": "[encoded data removed]",
      "text/plain": [
       "<Figure size 432x288 with 1 Axes>"
      ]
     },
     "metadata": {
      "needs_background": "light"
     },
     "output_type": "display_data"
    }
   ],
   "source": [
    "print(alpha_beta_search(test8))\n",
    "print_board(test8)"
   ]
  },
  {
   "cell_type": "markdown",
   "metadata": {},
   "source": [
    "### Times to make a move"
   ]
  },
  {
   "cell_type": "markdown",
   "metadata": {},
   "source": [
    "How long does it take to make a move? Start with a smaller board make the board larger. What is the largest board you can solve?"
   ]
  },
  {
   "cell_type": "code",
   "execution_count": null,
   "metadata": {},
   "outputs": [
    {
     "name": "stdout",
     "output_type": "stream",
     "text": [
      "Average Time:  4.031449961662292\n"
     ]
    }
   ],
   "source": [
    "import time\n",
    "\n",
    "time3x3 = 0\n",
    "for i in range(10):\n",
    "    start = time.time()\n",
    "    alpha_beta_search(empty3())\n",
    "    end = time.time()\n",
    "    time3x3 += (end - start)\n",
    "\n",
    "time3x3 /= 10\n",
    "print('Average Time: ', time3x3)"
   ]
  },
  {
   "cell_type": "code",
   "execution_count": null,
   "metadata": {},
   "outputs": [],
   "source": [
    "# 4x4 Board\n",
    "# start = time.time()\n",
    "# alpha_beta_search(empty4())\n",
    "# end = time.time()\n",
    "# time4x4 = (end - start)\n",
    "# print('Average Time: ', time4x4)"
   ]
  },
  {
   "cell_type": "markdown",
   "metadata": {},
   "source": [
    "It takes an average of about 4 seconds to make the first move on an empty 3x3 board.<br/>\n",
    "However, it takes longer than 60 minutes to make the first move on an empty 4x4 board. Therefore, the largest board it can solve from the beginning is a 3x3 board."
   ]
  },
  {
   "cell_type": "markdown",
   "metadata": {},
   "source": [
    "### Move ordering\n",
    "\n",
    "Starting the search with better moves will increase the efficiency of alpha-beta pruning. Describe and implement a simple move ordering strategy. Make a table that shows how the ordering strategies influence the time it takes to make a move?"
   ]
  },
  {
   "cell_type": "markdown",
   "metadata": {},
   "source": [
    "There are a couple of possible strategies for Move Ordering. I will modify the Alpha Beta Search algorithm so it accepts a Move Ordering strategy as a parameter. The default will be no sorting on the actions. I will add three methods for sorting the possible moves: closing box when possible, avoiding making the third side on a box, randomizing the order."
   ]
  },
  {
   "cell_type": "code",
   "execution_count": null,
   "metadata": {},
   "outputs": [],
   "source": [
    "DEBUG = 0\n",
    "DEPTH = 0\n",
    "\n",
    "def alpha_beta_search(state, player=1, sort=None):\n",
    "    global DEBUG, DEPTH\n",
    "    state = state.copy()\n",
    "    \n",
    "    val, move = max_value(state, player, -np.inf, np.inf, sort)\n",
    "    \n",
    "    if DEBUG >= 0: return {'move': move, 'value': val}\n",
    "    else: return move\n",
    "\n",
    "def max_value(state, player, alpha, beta, prevAction=None, sort=None):\n",
    "    global DEBUG, DEPTH\n",
    "    if DEBUG >= 1: print('Depth: ', DEPTH)\n",
    "    \n",
    "    # If the state is terminal, return the utility value to the player\n",
    "    if terminal(state):\n",
    "        return utility(state, player), None\n",
    "    \n",
    "    v = -np.inf\n",
    "    best_move = None\n",
    "    \n",
    "    if closed_box(state, prevAction):\n",
    "        if DEBUG >= 2: print_board(state)\n",
    "        v2, action2 = min_value(state, -player, alpha, beta, prevAction=None, sort=sort)\n",
    "        if v2 > v:\n",
    "            v = v2\n",
    "            best_move = None\n",
    "            alpha = max(alpha, v)\n",
    "        if v >= beta:\n",
    "            return v, best_move\n",
    "        alpha = max(alpha, v)\n",
    "    else:\n",
    "        # Sort actions based on Move Ordering\n",
    "        moves = sorted(actions(state), key=sort)\n",
    "        for action in moves:\n",
    "            if DEBUG >= 2: print_board(state)\n",
    "            v2, action2 = min_value(result(state, player, action), -player, alpha, beta, prevAction=action, sort=sort)\n",
    "            if DEBUG >= 1: print('Max: ', v2)\n",
    "            if v2 > v:\n",
    "                v = v2\n",
    "                best_move = action\n",
    "                alpha = max(alpha, v)\n",
    "            if v >= beta:\n",
    "                return v, best_move\n",
    "            alpha = max(alpha, v)\n",
    "        \n",
    "    DEPTH += 1\n",
    "\n",
    "    return v, best_move\n",
    "\n",
    "def min_value(state, player, alpha, beta, prevAction=None, sort=None):\n",
    "    global DEBUG, DEPTH\n",
    "    if DEBUG >= 1: print('Depth: ', DEPTH)\n",
    "    \n",
    "    # If the state is terminal, return the utility value to the player\n",
    "    if terminal(state):\n",
    "        return utility(state, player), None\n",
    "    \n",
    "    v = np.inf\n",
    "    best_move = None\n",
    "    \n",
    "    if closed_box(state, prevAction):\n",
    "        if DEBUG >= 2: print_board(state)\n",
    "        v2, action2 = max_value(state, -player, alpha, beta, prevAction=None, sort=sort)\n",
    "        if v2 < v:\n",
    "                v = v2\n",
    "                best_move = None\n",
    "                beta = min(beta, v)\n",
    "        if v <= alpha:\n",
    "            return v, best_move\n",
    "        beta = min(beta, v)\n",
    "    else:\n",
    "        # Sort actions based on Move Ordering\n",
    "        moves = sorted(actions(state), key=sort)\n",
    "        for action in moves:\n",
    "            if DEBUG >= 2: print_board(state)\n",
    "            v2, action2 = max_value(result(state, player, action), -player, alpha, beta, prevAction=action, sort=sort)\n",
    "            if DEBUG >= 1: print('Min: ', v2)\n",
    "            if v2 < v:\n",
    "                v = v2\n",
    "                best_move = action\n",
    "                beta = min(beta, v)\n",
    "            if v <= alpha:\n",
    "                return v, best_move\n",
    "            beta = min(beta, v)\n",
    "    \n",
    "    DEPTH += 1\n",
    "    \n",
    "    return v, best_move"
   ]
  },
  {
   "cell_type": "code",
   "execution_count": null,
   "metadata": {},
   "outputs": [],
   "source": [
    "# Making a 3-sided box is bad\n",
    "def creates_3_sided_box(actions, state=None):\n",
    "    badList = []\n",
    "    goodList = []\n",
    "    \n",
    "    \n",
    "    \n",
    "    # Check all cases of creating a 3-sided box\n",
    "    for action in actions:\n",
    "        if action != 'n' and action != 'm' and type(action) != int and (action[0] == 'h' or action[0] == 'v'):\n",
    "            # Case 1\n",
    "            if ('v', action[1], action[2]+1) in state and ('v', action[1], action[2]) in state:\n",
    "                # Add action to bad list\n",
    "                badList.append(action)\n",
    "            # Case 2\n",
    "            elif ('v', action[1]+1, action[2]) in state and ('v', action[1]+1, action[2]+1) in state:\n",
    "                badList.append(action)\n",
    "            # Case 3\n",
    "            elif ('h', action[1], action[2]-1) in state and ('v', action[1], action[2]-1) in state:\n",
    "                badList.append(action)\n",
    "            # Case 4\n",
    "            elif ('h', action[1]+1, action[2]) in state and ('v', action[1]+1, action[2]) in state:\n",
    "                badList.append(action)\n",
    "            # Case 5\n",
    "            elif ('h', action[1], action[2]) in state and ('h', action[1]-1, action[2]) in state:\n",
    "                badList.append(action)\n",
    "            # Case 6\n",
    "            elif ('h', action[1], action[2]-1) in state and ('h', action[1]-1, action[2]-1) in state:\n",
    "                badList.append(action)\n",
    "            # Case 7\n",
    "            elif ('h', action[1]+1, action[2]) in state and ('v', action[1]+1, action[2]+1) in state:\n",
    "                badList.append(action)\n",
    "            # Case 8\n",
    "            elif ('h', action[1], action[2]) in state and ('v', action[1], action[2]+1) in state:\n",
    "                badList.append(action)\n",
    "            # Case 9\n",
    "            elif ('v', action[1], action[2]) in state and ('h', action[1]-1, action[2]) in state:\n",
    "                badList.append(action)\n",
    "            # Case 10\n",
    "            elif ('v', action[1], action[2]-1) in state and ('h', action[1]-1, action[2]-1) in state:\n",
    "                badList.append(action)\n",
    "            # Case 11\n",
    "            elif ('v', action[1], action[2]+1) in state and ('h', action[1]-1, action[2]) in state:\n",
    "                badList.append(action)\n",
    "            # Case 12\n",
    "            elif ('v', action[1], action[2]+1) in state and ('h', action[1]-1, action[2]) in state:\n",
    "                badList.append(action)\n",
    "        \n",
    "            # If it doesn't create a 3-sided box, add it to good list\n",
    "            else:\n",
    "                goodList.append(action)\n",
    "    # Append bad list to end of goodlist\n",
    "    return goodList.append(badList)"
   ]
  },
  {
   "cell_type": "code",
   "execution_count": null,
   "metadata": {},
   "outputs": [],
   "source": [
    "import random\n",
    "\n",
    "# Closing a box is a good thing\n",
    "def close_box_sort(actions, state=None):\n",
    "    return sorted(actions, key=lambda x: closes_box(test1, x))\n",
    "\n",
    "def avoid_3_sided_box_sort(actions, state=None):\n",
    "    return sorted(actions, key=lambda x: creates_3_sided_box(test1, x))\n",
    "\n",
    "# Random Order\n",
    "def random_sort(actions, state=None):\n",
    "    return random.sample(actions, len(actions))"
   ]
  },
  {
   "cell_type": "markdown",
   "metadata": {},
   "source": [
    "We will be testing the times it takes each Move Ordering to make a move in Test6 as it takes approximately 2 minutes to run without any Move Ordering."
   ]
  },
  {
   "cell_type": "markdown",
   "metadata": {},
   "source": [
    "### Running Times"
   ]
  },
  {
   "cell_type": "code",
   "execution_count": null,
   "metadata": {},
   "outputs": [],
   "source": [
    "import time\n",
    "\n",
    "# ~4:30 minutes\n",
    "start = time.time()\n",
    "alpha_beta_search(test6)\n",
    "end = time.time()\n",
    "none_time = end - start"
   ]
  },
  {
   "cell_type": "code",
   "execution_count": null,
   "metadata": {},
   "outputs": [],
   "source": [
    "# ~4:30 minutes\n",
    "start = time.time()\n",
    "alpha_beta_search(test6, sort=close_box_sort)\n",
    "end = time.time()\n",
    "close_box_time = end - start"
   ]
  },
  {
   "cell_type": "code",
   "execution_count": null,
   "metadata": {},
   "outputs": [],
   "source": [
    "# ~4:30 minutes\n",
    "start = time.time()\n",
    "alpha_beta_search(test6, sort=avoid_3_sided_box_sort)\n",
    "end = time.time()\n",
    "avoid_3_time = end - start"
   ]
  },
  {
   "cell_type": "code",
   "execution_count": null,
   "metadata": {},
   "outputs": [],
   "source": [
    "# ~4:30 minutes\n",
    "start = time.time()\n",
    "alpha_beta_search(test6, sort=random_sort)\n",
    "end = time.time()\n",
    "random_time = end - start"
   ]
  },
  {
   "cell_type": "markdown",
   "metadata": {},
   "source": [
    "### Time Table"
   ]
  },
  {
   "cell_type": "code",
   "execution_count": null,
   "metadata": {},
   "outputs": [
    {
     "data": {
      "text/html": [
       "<div>\n",
       "<style scoped>\n",
       "    .dataframe tbody tr th:only-of-type {\n",
       "        vertical-align: middle;\n",
       "    }\n",
       "\n",
       "    .dataframe tbody tr th {\n",
       "        vertical-align: top;\n",
       "    }\n",
       "\n",
       "    .dataframe thead th {\n",
       "        text-align: right;\n",
       "    }\n",
       "</style>\n",
       "<table border=\"1\" class=\"dataframe\">\n",
       "  <thead>\n",
       "    <tr style=\"text-align: right;\">\n",
       "      <th></th>\n",
       "      <th>No Sorting</th>\n",
       "      <th>Closing Boxes</th>\n",
       "      <th>Avoiding 3 Sided</th>\n",
       "      <th>Random</th>\n",
       "    </tr>\n",
       "  </thead>\n",
       "  <tbody>\n",
       "    <tr>\n",
       "      <th>Seconds</th>\n",
       "      <td>267.731961</td>\n",
       "      <td>269.138656</td>\n",
       "      <td>270.343750</td>\n",
       "      <td>266.076901</td>\n",
       "    </tr>\n",
       "    <tr>\n",
       "      <th>Minutes</th>\n",
       "      <td>4.462199</td>\n",
       "      <td>4.485644</td>\n",
       "      <td>4.505729</td>\n",
       "      <td>4.434615</td>\n",
       "    </tr>\n",
       "  </tbody>\n",
       "</table>\n",
       "</div>"
      ],
      "text/plain": [
       "         No Sorting  Closing Boxes  Avoiding 3 Sided      Random\n",
       "Seconds  267.731961     269.138656        270.343750  266.076901\n",
       "Minutes    4.462199       4.485644          4.505729    4.434615"
      ]
     },
     "execution_count": 83,
     "metadata": {},
     "output_type": "execute_result"
    }
   ],
   "source": [
    "import pandas as pd\n",
    "\n",
    "table = pd.DataFrame({\n",
    "'No Sorting': [none_time, none_time/60],\n",
    "'Closing Boxes': [close_box_time, close_box_time/60],\n",
    "'Avoiding 3 Sided': [avoid_3_time, avoid_3_time/60],\n",
    "'Random': [random_time, random_time/60]\n",
    "}, index=['Seconds', 'Minutes'])\n",
    "table"
   ]
  },
  {
   "cell_type": "markdown",
   "metadata": {},
   "source": [
    "As the table shows, the Move Orderings make no difference as the times are very similar to each other. So we will keep with the original algorithm where there is no Move Ordering."
   ]
  },
  {
   "cell_type": "markdown",
   "metadata": {},
   "source": [
    "### The first few moves\n",
    "\n",
    "Start with an empty board. This is the worst case scenario for minimax search with alpha-beta pruning since it needs solve all possible games that can be played (minus some pruning) before making the decision. What can you do? "
   ]
  },
  {
   "cell_type": "markdown",
   "metadata": {},
   "source": [
    "A good strategy is to implement a Reflex-Based Agent and add some lines until the board is sufficiently filled. Then, we can switch back to Alpha Beta Pruning.<br/>\n",
    "The simple reflex agent looks at the percept, the whole board and all lines already drawn, and draws a new line aiming to close a box. If that is not possible, it will draw the first line that that prevents the opponent from closing one (avoids creating a 3-sided box). If that is also not possible, meaning the next move would unquestionably allow the opponent to close a box, the agent will pick a random line."
   ]
  },
  {
   "cell_type": "code",
   "execution_count": null,
   "metadata": {},
   "outputs": [],
   "source": [
    "def reflex_agent(state, player=1):\n",
    "    \n",
    "    # If an action closes a box, choose that one\n",
    "    for action in actions(state):\n",
    "        if closes_box(state, action):\n",
    "            return action\n",
    "    \n",
    "    # If an action does not create a 3-sided box, choose that one\n",
    "    for action in actions(state):\n",
    "        if not creates_3_sided_box(state, action):\n",
    "            return action\n",
    "    \n",
    "    # Return random action if all will create a 3-sided box\n",
    "    return random.choice(actions(state))"
   ]
  },
  {
   "cell_type": "code",
   "execution_count": null,
   "metadata": {},
   "outputs": [],
   "source": [
    "DEBUG = -1\n",
    "DEPTH = 0\n",
    "\n",
    "def alpha_beta_search_new(state, player=1):\n",
    "    global DEBUG, DEPTH\n",
    "    state = state.copy()\n",
    "    \n",
    "    # If the board is less than 50% filled, use Reflex Agent\n",
    "    totalLines = ((state['n']-1) * 2) * ((state['m']-1) * 2)\n",
    "    linesDrawn = 0\n",
    "    \n",
    "    for line in state:\n",
    "        if line != 'n' and line != 'm' and type(line) != int:\n",
    "            linesDrawn += 1\n",
    "    \n",
    "    if linesDrawn / totalLines < 0.50:\n",
    "        # Choose a random line\n",
    "        return reflex_agent(state)\n",
    "    \n",
    "    val, move = max_value(state, player, -np.inf, np.inf)\n",
    "    \n",
    "    if DEBUG >= 0: return {'move': move, 'value': val}\n",
    "    else: return move\n",
    "\n",
    "# def max_value(state, player, alpha, beta, prevAction=None):\n",
    "#     global DEBUG, DEPTH\n",
    "#     if DEBUG >= 1: print('Depth: ', DEPTH)\n",
    "    \n",
    "#     # If the state is terminal, return the utility value to the player\n",
    "#     if terminal(state):\n",
    "#         return utility(state, player), None\n",
    "    \n",
    "#     v = -np.inf\n",
    "#     best_move = None\n",
    "    \n",
    "#     if closed_box(state, prevAction):\n",
    "#         if DEBUG >= 2: print_board(state)\n",
    "#         v2, action2 = min_value(state, -player, alpha, beta, None)\n",
    "#         if v2 > v:\n",
    "#             v = v2\n",
    "#             best_move = None\n",
    "#             alpha = max(alpha, v)\n",
    "#         if v >= beta:\n",
    "#             return v, best_move\n",
    "#         alpha = max(alpha, v)\n",
    "#     else:\n",
    "#         for action in actions(state):\n",
    "#             if DEBUG >= 2: print_board(state)\n",
    "#             v2, action2 = min_value(result(state, player, action), -player, alpha, beta, action)\n",
    "#             if DEBUG >= 1: print('Max: ', v2)\n",
    "#             if v2 > v:\n",
    "#                 v = v2\n",
    "#                 best_move = action\n",
    "#                 alpha = max(alpha, v)\n",
    "#             if v >= beta:\n",
    "#                 return v, best_move\n",
    "#             alpha = max(alpha, v)\n",
    "        \n",
    "#     DEPTH += 1\n",
    "\n",
    "#     return v, best_move\n",
    "\n",
    "# def min_value(state, player, alpha, beta, prevAction=None):\n",
    "#     global DEBUG, DEPTH\n",
    "#     if DEBUG >= 1: print('Depth: ', DEPTH)\n",
    "    \n",
    "#     # If the state is terminal, return the utility value to the player\n",
    "#     if terminal(state):\n",
    "#         return utility(state, player), None\n",
    "    \n",
    "#     v = np.inf\n",
    "#     best_move = None\n",
    "    \n",
    "#     if closed_box(state, prevAction):\n",
    "#         if DEBUG >= 2: print_board(state)\n",
    "#         v2, action2 = max_value(state, -player, alpha, beta, None)\n",
    "#         if v2 < v:\n",
    "#                 v = v2\n",
    "#                 best_move = None\n",
    "#                 beta = min(beta, v)\n",
    "#         if v <= alpha:\n",
    "#             return v, best_move\n",
    "#         beta = min(beta, v)\n",
    "#     else:\n",
    "#         for action in actions(state):\n",
    "#             if DEBUG >= 2: print_board(state)\n",
    "#             v2, action2 = max_value(result(state, player, action), -player, alpha, beta, action)\n",
    "#             if DEBUG >= 1: print('Min: ', v2)\n",
    "#             if v2 < v:\n",
    "#                 v = v2\n",
    "#                 best_move = action\n",
    "#                 beta = min(beta, v)\n",
    "#             if v <= alpha:\n",
    "#                 return v, best_move\n",
    "#             beta = min(beta, v)\n",
    "    \n",
    "#     DEPTH += 1\n",
    "    \n",
    "#     return v, best_move"
   ]
  },
  {
   "cell_type": "markdown",
   "metadata": {},
   "source": [
    "### Playtime\n",
    "\n",
    "Let the Minimax Search agent play a random agent on a small board. Analyze wins, losses and draws."
   ]
  },
  {
   "cell_type": "code",
   "execution_count": null,
   "metadata": {},
   "outputs": [],
   "source": [
    "import time\n",
    "\n",
    "# Play reflex agent to fill lines until 50% is completed\n",
    "def alpha_beta_search50(state, player=1):\n",
    "    global DEBUG, DEPTH\n",
    "    state = state.copy()\n",
    "    \n",
    "    # If the board is less than 25% filled, use Reflex Agent\n",
    "    totalLines = ((state['n']-1) * 2) * ((state['m']-1) * 2)\n",
    "    linesDrawn = 0\n",
    "    \n",
    "    for line in state:\n",
    "        if line != 'n' and line != 'm' and type(line) != int:\n",
    "            linesDrawn += 1\n",
    "    \n",
    "    if linesDrawn / totalLines < 0.50:\n",
    "        # Choose a random line\n",
    "        return reflex_agent(state)\n",
    "    \n",
    "    val, move = max_value(state, player, -np.inf, np.inf)\n",
    "    \n",
    "    if DEBUG >= 0: return {'move': move, 'value': val}\n",
    "    else: return move\n",
    "\n",
    "start = time.time()\n",
    "results50_50 = play(alpha_beta_search50, random_player, N=50, size=4)\n",
    "end = time.time()\n",
    "time50_50 = end - start\n",
    "\n",
    "start = time.time()\n",
    "results50_100 = play(alpha_beta_search50, random_player, N=100, size=4)\n",
    "end = time.time()\n",
    "time50_100 = end - start\n",
    "\n",
    "start = time.time()\n",
    "results50_200 = play(alpha_beta_search50, random_player, N=200, size=4)\n",
    "end = time.time()\n",
    "time50_200 = end - start\n",
    "# ~1:30 min"
   ]
  },
  {
   "cell_type": "code",
   "execution_count": null,
   "metadata": {},
   "outputs": [],
   "source": [
    "# Play reflex agent to fill lines until 75% is completed\n",
    "def alpha_beta_search75(state, player=1):\n",
    "    global DEBUG, DEPTH\n",
    "    state = state.copy()\n",
    "    \n",
    "    # If the board is less than 25% filled, use Reflex Agent\n",
    "    totalLines = ((state['n']-1) * 2) * ((state['m']-1) * 2)\n",
    "    linesDrawn = 0\n",
    "    \n",
    "    for line in state:\n",
    "        if line != 'n' and line != 'm' and type(line) != int:\n",
    "            linesDrawn += 1\n",
    "    \n",
    "    if linesDrawn / totalLines < 0.75:\n",
    "        # Choose a random line\n",
    "        return reflex_agent(state)\n",
    "    \n",
    "    val, move = max_value(state, player, -np.inf, np.inf)\n",
    "    \n",
    "    if DEBUG >= 0: return {'move': move, 'value': val}\n",
    "    else: return move\n",
    "\n",
    "start = time.time()\n",
    "results75_50 = play(alpha_beta_search75, random_player, N=50, size=4)\n",
    "end = time.time()\n",
    "time75_50 = end - start\n",
    "\n",
    "start = time.time()\n",
    "results75_100 = play(alpha_beta_search75, random_player, N=100, size=4)\n",
    "end = time.time()\n",
    "time75_100 = end - start\n",
    "\n",
    "start = time.time()\n",
    "results75_200 = play(alpha_beta_search75, random_player, N=200, size=4)\n",
    "end = time.time()\n",
    "time75_200 = end - start"
   ]
  },
  {
   "cell_type": "code",
   "execution_count": null,
   "metadata": {},
   "outputs": [
    {
     "data": {
      "text/html": [
       "<div>\n",
       "<style scoped>\n",
       "    .dataframe tbody tr th:only-of-type {\n",
       "        vertical-align: middle;\n",
       "    }\n",
       "\n",
       "    .dataframe tbody tr th {\n",
       "        vertical-align: top;\n",
       "    }\n",
       "\n",
       "    .dataframe thead th {\n",
       "        text-align: right;\n",
       "    }\n",
       "</style>\n",
       "<table border=\"1\" class=\"dataframe\">\n",
       "  <thead>\n",
       "    <tr style=\"text-align: right;\">\n",
       "      <th></th>\n",
       "      <th>win</th>\n",
       "      <th>loss</th>\n",
       "      <th>win/loss Ratio</th>\n",
       "      <th>50 Plays Time</th>\n",
       "      <th>100 Plays Time:</th>\n",
       "      <th>200 Plays Time:</th>\n",
       "    </tr>\n",
       "  </thead>\n",
       "  <tbody>\n",
       "    <tr>\n",
       "      <th>50%</th>\n",
       "      <td>344</td>\n",
       "      <td>6</td>\n",
       "      <td>0.982857</td>\n",
       "      <td>11.832716</td>\n",
       "      <td>25.344842</td>\n",
       "      <td>52.578901</td>\n",
       "    </tr>\n",
       "    <tr>\n",
       "      <th>75%</th>\n",
       "      <td>345</td>\n",
       "      <td>5</td>\n",
       "      <td>0.985714</td>\n",
       "      <td>0.081822</td>\n",
       "      <td>0.144747</td>\n",
       "      <td>0.334093</td>\n",
       "    </tr>\n",
       "  </tbody>\n",
       "</table>\n",
       "</div>"
      ],
      "text/plain": [
       "     win  loss  win/loss Ratio  50 Plays Time  100 Plays Time:  \\\n",
       "50%  344     6        0.982857      11.832716        25.344842   \n",
       "75%  345     5        0.985714       0.081822         0.144747   \n",
       "\n",
       "     200 Plays Time:  \n",
       "50%        52.578901  \n",
       "75%         0.334093  "
      ]
     },
     "execution_count": 98,
     "metadata": {},
     "output_type": "execute_result"
    }
   ],
   "source": [
    "import pandas as pd\n",
    "\n",
    "wins50 = results50_50[1] + results50_100[1] + results50_200[1]\n",
    "losses50 = results50_50[-1] + results50_100[-1] + results50_200[-1]\n",
    "ratio50 = wins50 / 350.0\n",
    "wins75 = results75_50[1] + results75_100[1] + results75_200[1]\n",
    "losses75 = results75_50[-1] + results75_100[-1] + results75_200[-1]\n",
    "ratio75 = wins75 / 350.0\n",
    "\n",
    "scores_alpha_beta = pd.DataFrame({\n",
    "'win': [wins50, wins75],\n",
    "'loss': [losses50, losses75],\n",
    "'win/loss Ratio': [ratio50, ratio75],\n",
    "'50 Plays Time': [time50_50, time75_50],\n",
    "'100 Plays Time:': [time50_100, time75_100],\n",
    "'200 Plays Time:': [time50_200, time75_200]\n",
    "}, index=['50%', '75%'])\n",
    "\n",
    "scores_alpha_beta"
   ]
  },
  {
   "cell_type": "markdown",
   "metadata": {},
   "source": [
    "The table above shows how playing the Reflex Agent until 50% or 75% of the board is filled compare to each other.<br/>\n",
    "Because of the nature of the Reflex Agent, which does not guarantee the optimal play, the agent does not win every single game. However, by starting out with the Reflex Agent, the time is exponentially decreased. When trying to run the Reflex Agent up to 25% of the board, the time for only 50 plays took way to long and did not finish running under 10 minutes.<br/>\n",
    "Moreover, the differences in the win/loss ratios for both agents are incredibly similar. However, there is a major difference in the running times. For this reason, implementing the Reflex Agent up to 75% of the board seems to be the best move as the game will finish much faster and the Alpha Beta Search will return similar results."
   ]
  },
  {
   "cell_type": "markdown",
   "metadata": {},
   "source": [
    "## Task 4: Heuristic Alpha-Beta Tree Search [30 points] "
   ]
  },
  {
   "cell_type": "markdown",
   "metadata": {},
   "source": [
    "### Heuristic evaluation function\n",
    "\n",
    "Define and implement a heuristic evaluation function."
   ]
  },
  {
   "cell_type": "markdown",
   "metadata": {},
   "source": [
    "A simple heuristic to the Dots and Boxes game is checking which player has the most points, or most boxes, at a certain point."
   ]
  },
  {
   "cell_type": "code",
   "execution_count": 18,
   "metadata": {},
   "outputs": [],
   "source": [
    "def eval_fun(state, player=1):\n",
    "    \"\"\"heuristic for utility of state. Returns score for a node:\n",
    "    1. For terminal states it returns the utility. \n",
    "    2. For non-terminal states, it calculates who is winning at that state. Returns 1 if player is winning,\n",
    "    0 if it is a draw, and -1 if the opponent is winning.\n",
    "    \n",
    "    Function Returns: heuistic value, terminal?\"\"\"\n",
    "    \n",
    "    # Check how many boxes are left, how many you have and the opponent has\n",
    "    \n",
    "    # terminal state?\n",
    "    u = utility(state, player)\n",
    "    if u is not None: \n",
    "        return u, True\n",
    "    \n",
    "    playerPoints = 0\n",
    "    opponentPoints = 0\n",
    "    for dots in state:\n",
    "        if dots != 'n' and dots != 'm' and dots != -1 and dots != 1:\n",
    "            if len(dots) == 2:\n",
    "                if state[dots] == player:\n",
    "                    playerPoints += 1\n",
    "                elif state[dots] == -player:\n",
    "                    opponentPoints += 1\n",
    "\n",
    "    if playerPoints > opponentPoints:\n",
    "        return 1, False\n",
    "    elif playerPoints < opponentPoints:\n",
    "        return -1, False\n",
    "    elif playerPoints == opponentPoints:\n",
    "        return 0, False"
   ]
  },
  {
   "cell_type": "markdown",
   "metadata": {},
   "source": [
    "### Cutting off search \n",
    "\n",
    "Modify your Minimax Search with Alpha-Beta Pruning to cut off search at a specified depth and use the heuristic evaluation function. Experiment with different cutoff values."
   ]
  },
  {
   "cell_type": "code",
   "execution_count": 20,
   "metadata": {},
   "outputs": [],
   "source": [
    "import numpy as np\n",
    "\n",
    "DEBUG = 1\n",
    "DEPTH = 0\n",
    "\n",
    "def alpha_beta_cutoff(state, player=1, cutoff=None):\n",
    "    global DEBUG, COUNT\n",
    "    COUNT = 0\n",
    "    state = state.copy()\n",
    "    \n",
    "    val, move = max_value_co(state, player, -np.inf, np.inf, 0, cutoff)\n",
    "    \n",
    "    if DEBUG >= 1: print(f\"Number of nodes searched (cutoff = {cutoff}): {COUNT}\") \n",
    "    \n",
    "    if DEBUG >= 0: return {'move': move, 'value': val}\n",
    "    else: return move\n",
    "\n",
    "def max_value_co(state, player, alpha, beta, depth, cutoff, prevAction=None):\n",
    "    global DEBUG, COUNT\n",
    "    COUNT += 1\n",
    "    \n",
    "    # cut off and terminal test\n",
    "    v, terminal = eval_fun(state, player)\n",
    "    if((cutoff is not None and depth >= cutoff) or terminal): \n",
    "        if(terminal): \n",
    "            alpha, beta = v, v\n",
    "        if DEBUG >= 2: print(f\"stopped at Depth: {depth}, Terminal: {terminal}, Values: {v} [{alpha}, {beta}], Cutoff: {cutoff}\" )\n",
    "        \n",
    "        return v, None\n",
    "    \n",
    "    v, move = -np.inf, None\n",
    "    \n",
    "    if closed_box(state, prevAction):        \n",
    "        v2, action2 = min_value_co(state, -player, alpha, beta, depth + 1, cutoff, prevAction=None)\n",
    "        if v2 > v:\n",
    "            v, move = v2, None\n",
    "            alpha = max(alpha, v)\n",
    "        if v >= beta: return v, move\n",
    "        \n",
    "    else:\n",
    "        for action in actions(state):\n",
    "            v2, action2 = min_value_co(result(state, player, action), -player, alpha, beta, depth + 1, cutoff, prevAction=action)\n",
    "            if v2 > v:\n",
    "                v, move = v2, action\n",
    "                alpha = max(alpha, v)\n",
    "            if v >= beta: return v, move\n",
    "\n",
    "    return v, move\n",
    "\n",
    "def min_value_co(state, player, alpha, beta, depth, cutoff, prevAction=None):\n",
    "    global DEBUG, COUNT\n",
    "    COUNT += 1\n",
    "    \n",
    "    # cut off and terminal test\n",
    "    v, terminal = eval_fun(state, player)\n",
    "    if((cutoff is not None and depth >= cutoff) or terminal): \n",
    "        if(terminal): \n",
    "            alpha, beta = v, v\n",
    "        if DEBUG >= 2: print(f\"stopped at Depth: {depth}, Terminal: {terminal}, Values: {v} [{alpha}, {beta}], Cutoff: {cutoff}\" ) \n",
    "        return v, None\n",
    "    \n",
    "    v, move = +np.inf, None\n",
    "    \n",
    "    if closed_box(state, prevAction):\n",
    "        # if DEBUG >= 2: print_board(state)\n",
    "        \n",
    "        v2, action2 = max_value_co(state, -player, alpha, beta, depth + 1, cutoff, prevAction=None)\n",
    "        if v2 < v:\n",
    "            v, move = v2, None\n",
    "            beta = min(beta, v)\n",
    "        if v <= alpha: return v, move\n",
    "    else:\n",
    "        for action in actions(state):\n",
    "            # if DEBUG >= 2: print_board(state)\n",
    "            \n",
    "            v2, action2 = max_value_co(result(state, player, action), -player, alpha, beta, depth + 1, cutoff, prevAction=action)\n",
    "            if v2 < v:\n",
    "                v, move = v2, action\n",
    "                beta = min(beta, v)\n",
    "            if v <= alpha: return v, move\n",
    "    \n",
    "    return v, move"
   ]
  },
  {
   "cell_type": "markdown",
   "metadata": {},
   "source": [
    "### Cutoff Value Experiments"
   ]
  },
  {
   "cell_type": "code",
   "execution_count": null,
   "metadata": {},
   "outputs": [],
   "source": [
    "break"
   ]
  },
  {
   "cell_type": "code",
   "execution_count": 21,
   "metadata": {},
   "outputs": [
    {
     "name": "stdout",
     "output_type": "stream",
     "text": [
      "Number of nodes searched (cutoff = 5): 12673\n"
     ]
    },
    {
     "data": {
      "text/plain": [
       "{'move': ('h', 1, 1), 'value': 0}"
      ]
     },
     "metadata": {},
     "output_type": "display_data"
    },
    {
     "name": "stdout",
     "output_type": "stream",
     "text": [
      "CPU times: total: 62.5 ms\n",
      "Wall time: 56 ms\n",
      "Results:\n",
      "         -1: 0\n",
      "          1: 0\n"
     ]
    },
    {
     "data": {
      "image/png": "[encoded data removed]",
      "text/plain": [
       "<Figure size 432x288 with 1 Axes>"
      ]
     },
     "metadata": {
      "needs_background": "light"
     },
     "output_type": "display_data"
    }
   ],
   "source": [
    "%time display(alpha_beta_cutoff(empty4(), cutoff=5))\n",
    "print_board(empty4())"
   ]
  },
  {
   "cell_type": "code",
   "execution_count": null,
   "metadata": {},
   "outputs": [
    {
     "name": "stdout",
     "output_type": "stream",
     "text": [
      "Results:\n",
      "         -1: 0\n",
      "          1: 0\n"
     ]
    },
    {
     "data": {
      "image/png": "[encoded data removed]",
      "text/plain": [
       "<Figure size 432x288 with 1 Axes>"
      ]
     },
     "metadata": {
      "needs_background": "light"
     },
     "output_type": "display_data"
    }
   ],
   "source": [
    "second = empty3()\n",
    "draw_line(second, 'h', 1, 1, 1)\n",
    "print_board(second)"
   ]
  },
  {
   "cell_type": "code",
   "execution_count": null,
   "metadata": {},
   "outputs": [
    {
     "name": "stdout",
     "output_type": "stream",
     "text": [
      "Number of nodes searched: 160097\n"
     ]
    },
    {
     "data": {
      "text/plain": [
       "{'move': ('h', 1, 2), 'value': -1}"
      ]
     },
     "metadata": {},
     "output_type": "display_data"
    },
    {
     "name": "stdout",
     "output_type": "stream",
     "text": [
      "CPU times: total: 2.03 s\n",
      "Wall time: 2.11 s\n"
     ]
    }
   ],
   "source": [
    "%time display(alpha_beta_search(second))"
   ]
  },
  {
   "cell_type": "code",
   "execution_count": null,
   "metadata": {},
   "outputs": [
    {
     "name": "stdout",
     "output_type": "stream",
     "text": [
      "Number of nodes searched: 581211\n"
     ]
    },
    {
     "data": {
      "text/plain": [
       "{'move': ('h', 1, 1), 'value': -1}"
      ]
     },
     "metadata": {},
     "output_type": "display_data"
    },
    {
     "name": "stdout",
     "output_type": "stream",
     "text": [
      "CPU times: total: 6.75 s\n",
      "Wall time: 6.9 s\n"
     ]
    }
   ],
   "source": [
    "%time display(alpha_beta_search(empty3()))"
   ]
  },
  {
   "cell_type": "code",
   "execution_count": 23,
   "metadata": {},
   "outputs": [
    {
     "name": "stdout",
     "output_type": "stream",
     "text": [
      "Number of nodes searched (cutoff = None): 581211\n"
     ]
    },
    {
     "data": {
      "text/plain": [
       "{'move': ('h', 1, 1), 'value': -1}"
      ]
     },
     "metadata": {},
     "output_type": "display_data"
    },
    {
     "name": "stdout",
     "output_type": "stream",
     "text": [
      "CPU times: total: 8 s\n",
      "Wall time: 8.13 s\n",
      "Results:\n",
      "         -1: 0\n",
      "          1: 0\n"
     ]
    },
    {
     "data": {
      "image/png": "[encoded data removed]",
      "text/plain": [
       "<Figure size 432x288 with 1 Axes>"
      ]
     },
     "metadata": {
      "needs_background": "light"
     },
     "output_type": "display_data"
    }
   ],
   "source": [
    "%time display(alpha_beta_cutoff(empty3()))\n",
    "print_board(empty3())"
   ]
  },
  {
   "cell_type": "markdown",
   "metadata": {},
   "source": [
    "### Experiments with Boards"
   ]
  },
  {
   "cell_type": "markdown",
   "metadata": {},
   "source": [
    "Experiment with the same manually created boards as above to check if the agent spots winning opportunities."
   ]
  },
  {
   "cell_type": "code",
   "execution_count": 24,
   "metadata": {},
   "outputs": [
    {
     "name": "stdout",
     "output_type": "stream",
     "text": [
      "Number of nodes searched (cutoff = 4): 31\n",
      "{'move': ('v', 3, 2), 'value': 1}\n",
      "Results:\n",
      "         -1: 1\n",
      "          1: 0\n"
     ]
    },
    {
     "data": {
      "image/png": "[encoded data removed]",
      "text/plain": [
       "<Figure size 432x288 with 1 Axes>"
      ]
     },
     "metadata": {
      "needs_background": "light"
     },
     "output_type": "display_data"
    }
   ],
   "source": [
    "print(alpha_beta_cutoff(test1, cutoff=4))\n",
    "print_board(test1)"
   ]
  },
  {
   "cell_type": "code",
   "execution_count": 26,
   "metadata": {},
   "outputs": [
    {
     "name": "stdout",
     "output_type": "stream",
     "text": [
      "Number of nodes searched (cutoff = None): 45\n",
      "{'move': ('h', 1, 1), 'value': 1}\n",
      "Results:\n",
      "         -1: 0\n",
      "          1: 1\n"
     ]
    },
    {
     "data": {
      "image/png": "[encoded data removed]",
      "text/plain": [
       "<Figure size 432x288 with 1 Axes>"
      ]
     },
     "metadata": {
      "needs_background": "light"
     },
     "output_type": "display_data"
    }
   ],
   "source": [
    "print(alpha_beta_cutoff(test2, cutoff=4))\n",
    "print_board(test2)"
   ]
  },
  {
   "cell_type": "code",
   "execution_count": null,
   "metadata": {},
   "outputs": [
    {
     "name": "stdout",
     "output_type": "stream",
     "text": [
      "{'move': ('v', 2, 3), 'value': 1}\n",
      "Results:\n",
      "         -1: 0\n",
      "          1: 0\n"
     ]
    },
    {
     "data": {
      "image/png": "[encoded data removed]",
      "text/plain": [
       "<Figure size 432x288 with 1 Axes>"
      ]
     },
     "metadata": {
      "needs_background": "light"
     },
     "output_type": "display_data"
    }
   ],
   "source": [
    "print(alpha_beta_cutoff(test3))\n",
    "print_board(test3)"
   ]
  },
  {
   "cell_type": "code",
   "execution_count": null,
   "metadata": {},
   "outputs": [
    {
     "name": "stdout",
     "output_type": "stream",
     "text": [
      "{'move': ('v', 2, 2), 'value': 1}\n",
      "Results:\n",
      "         -1: 0\n",
      "          1: 1\n"
     ]
    },
    {
     "data": {
      "image/png": "[encoded data removed]",
      "text/plain": [
       "<Figure size 432x288 with 1 Axes>"
      ]
     },
     "metadata": {
      "needs_background": "light"
     },
     "output_type": "display_data"
    }
   ],
   "source": [
    "print(alpha_beta_cutoff(test4))\n",
    "print_board(test4)"
   ]
  },
  {
   "cell_type": "code",
   "execution_count": null,
   "metadata": {},
   "outputs": [
    {
     "name": "stdout",
     "output_type": "stream",
     "text": [
      "{'move': ('h', 2, 2), 'value': 1}\n",
      "Results:\n",
      "         -1: 2\n",
      "          1: 0\n"
     ]
    },
    {
     "data": {
      "image/png": "[encoded data removed]",
      "text/plain": [
       "<Figure size 432x288 with 1 Axes>"
      ]
     },
     "metadata": {
      "needs_background": "light"
     },
     "output_type": "display_data"
    }
   ],
   "source": [
    "print(alpha_beta_cutoff(test5))\n",
    "print_board(test5)"
   ]
  },
  {
   "cell_type": "code",
   "execution_count": 27,
   "metadata": {},
   "outputs": [
    {
     "name": "stdout",
     "output_type": "stream",
     "text": [
      "Number of nodes searched (cutoff = 4): 1742\n",
      "{'move': ('h', 1, 2), 'value': 0}\n",
      "Results:\n",
      "         -1: 0\n",
      "          1: 0\n"
     ]
    },
    {
     "data": {
      "image/png": "[encoded data removed]",
      "text/plain": [
       "<Figure size 432x288 with 1 Axes>"
      ]
     },
     "metadata": {
      "needs_background": "light"
     },
     "output_type": "display_data"
    }
   ],
   "source": [
    "# ~3:00 min - 10,968,752 Nodes searched\n",
    "print(alpha_beta_cutoff(test6, player=1, cutoff=4))\n",
    "print_board(test6)"
   ]
  },
  {
   "cell_type": "code",
   "execution_count": null,
   "metadata": {},
   "outputs": [
    {
     "name": "stdout",
     "output_type": "stream",
     "text": [
      "{'move': ('h', 2, 2), 'value': -1}\n",
      "Results:\n",
      "         -1: 1\n",
      "          1: 2\n"
     ]
    },
    {
     "data": {
      "image/png": "[encoded data removed]",
      "text/plain": [
       "<Figure size 432x288 with 1 Axes>"
      ]
     },
     "metadata": {
      "needs_background": "light"
     },
     "output_type": "display_data"
    }
   ],
   "source": [
    "print(alpha_beta_cutoff(test7))\n",
    "print_board(test7)"
   ]
  },
  {
   "cell_type": "code",
   "execution_count": null,
   "metadata": {},
   "outputs": [
    {
     "name": "stdout",
     "output_type": "stream",
     "text": [
      "{'move': ('h', 2, 2), 'value': 1}\n",
      "Results:\n",
      "         -1: 0\n",
      "          1: 0\n"
     ]
    },
    {
     "data": {
      "image/png": "[encoded data removed]",
      "text/plain": [
       "<Figure size 432x288 with 1 Axes>"
      ]
     },
     "metadata": {
      "needs_background": "light"
     },
     "output_type": "display_data"
    }
   ],
   "source": [
    "print(alpha_beta_cutoff(test8))\n",
    "print_board(test8)"
   ]
  },
  {
   "cell_type": "markdown",
   "metadata": {},
   "source": [
    "The moves returned from the Heuristic Search are the same ones as the moves from the Alpha Beta Search for the test cases printed above. This indicates that the heuristic is useful in boards of small sizes, like 3x3 and 4x4."
   ]
  },
  {
   "cell_type": "markdown",
   "metadata": {},
   "source": [
    "### Times to Make a Move"
   ]
  },
  {
   "cell_type": "markdown",
   "metadata": {},
   "source": [
    "How long does it take to make a move? Start with a smaller board with 4 columns and make the board larger by adding columns."
   ]
  },
  {
   "cell_type": "code",
   "execution_count": null,
   "metadata": {},
   "outputs": [],
   "source": [
    "import time\n",
    "\n",
    "empty3x4 = empty3()\n",
    "empty3x4['m'] = 4\n",
    "\n",
    "# Taking too long\n",
    "start = time.time()\n",
    "alpha_beta_cutoff(empty3x4)\n",
    "end = time.time()\n",
    "time_3x4 = end - start"
   ]
  },
  {
   "cell_type": "code",
   "execution_count": null,
   "metadata": {},
   "outputs": [],
   "source": [
    "empty3x5 = empty3()\n",
    "empty3x5['m'] = 5\n",
    "\n",
    "# Taking too long\n",
    "start = time.time()\n",
    "alpha_beta_cutoff(empty3x5)\n",
    "end = time.time()\n",
    "time_3x5 = end - start"
   ]
  },
  {
   "cell_type": "markdown",
   "metadata": {},
   "source": [
    "### Playtime\n",
    "\n",
    "Let two heuristic search agents (different cutoff depth, different heuristic evaluation function) compete against each other on a reasonably sized board. Since there is no randomness, you only need to let them play once."
   ]
  },
  {
   "cell_type": "code",
   "execution_count": null,
   "metadata": {},
   "outputs": [],
   "source": [
    "# Do I need a different heuristic function for the opponent?\n",
    "# If unhashable type: 'dict' -> change DEBUG to -1\n",
    "print(play(alpha_beta_cutoff, alpha_beta_cutoff, N=1, size=4))"
   ]
  },
  {
   "cell_type": "markdown",
   "metadata": {},
   "source": [
    "## Tournament task [+1 to 5% bonus on your course grade; will be assigned separately]\n",
    "\n",
    "Find another student and let your best agent play against the other student's best player. You are allowed to use any improvements you like as long as you code it yourself. We will set up a class tournament on Canvas. This tournament will continue after the submission deadline."
   ]
  },
  {
   "cell_type": "markdown",
   "metadata": {},
   "source": [
    "# Graduate student advanced task: Pure Monte Carlo Search and Best First Move [10 point]\n",
    "\n",
    "__Undergraduate students:__ This is a bonus task you can attempt if you like [+5 Bonus point]."
   ]
  },
  {
   "cell_type": "markdown",
   "metadata": {},
   "source": [
    "## Pure Monte Carlo Search\n",
    "\n",
    "Implement Pure Monte Carlo Search (see [tic-tac-toe-example](https://nbviewer.org/github/mhahsler/CS7320-AI/blob/master/Games/tictactoe_pure_monte_carlo_search.ipynb)) and investigate how this search performs on the test boards that you have used above. "
   ]
  },
  {
   "cell_type": "markdown",
   "metadata": {},
   "source": [
    "### Implementation"
   ]
  },
  {
   "cell_type": "code",
   "execution_count": 22,
   "metadata": {},
   "outputs": [
    {
     "name": "stdout",
     "output_type": "stream",
     "text": [
      "-1\n",
      "-1\n",
      "1\n",
      "-1\n",
      "-1\n"
     ]
    }
   ],
   "source": [
    "def playout(state, action, player = 1):\n",
    "    \"\"\"Perfrom a random playout starting with the given action on the fiven board \n",
    "    and return the utility of the finished game.\"\"\"\n",
    "    state = result(state, player, action)\n",
    "    current_player = -player\n",
    "    \n",
    "    while(True):\n",
    "        # reached terminal state?\n",
    "        u = utility(state, player)\n",
    "        if u is not None: return(u)\n",
    "        \n",
    "        # we use a random playout policy\n",
    "        moves = actions(state)\n",
    "    \n",
    "        index = np.random.choice(len(moves))\n",
    "        a = moves[index]\n",
    "        \n",
    "        state = result(state, current_player, a)\n",
    "        #print(state)\n",
    "        \n",
    "        # switch between players\n",
    "        current_player = -current_player\n",
    "\n",
    "\n",
    "# Playout for action Horizontal line at 1, 1\n",
    "board = empty4()\n",
    "print(playout(board, ('h', 1, 1)))\n",
    "print(playout(board, ('h', 1, 1)))\n",
    "print(playout(board, ('h', 1, 1)))\n",
    "print(playout(board, ('h', 1, 1)))\n",
    "print(playout(board, ('h', 1, 1)))"
   ]
  },
  {
   "cell_type": "code",
   "execution_count": null,
   "metadata": {},
   "outputs": [
    {
     "name": "stdout",
     "output_type": "stream",
     "text": [
      "Playout results: [-1, -1, 1, -1, -1, -1, -1, -1, -1, -1, -1, 1, -1, -1, -1, -1, 1, -1, 1, -1, -1, -1, -1, -1, -1, 1, 1, -1, -1, 1, 1, -1, -1, -1, 1, -1, 1, 1, -1, 1, -1, 1, 1, 1, -1, -1, -1, 1, -1, -1, -1, -1, 1, -1, 1, 1, -1, -1, 1, -1, -1, -1, -1, -1, -1, 1, -1, -1, 1, 1, -1, 1, -1, -1, -1, 1, -1, 1, -1, -1, -1, 1, 1, -1, -1, -1, -1, -1, 1, -1, -1, -1, -1, -1, -1, -1, -1, -1, 1, 1]\n",
      "mean utility: -0.38\n",
      "win probability: 0.31\n",
      "loss probability: 0.69\n",
      "draw probability: 0.0\n"
     ]
    }
   ],
   "source": [
    "def playouts(board, action, player = 1, N = 100):\n",
    "    \"\"\"Perform N playouts following the given action for the given board.\"\"\"\n",
    "    return [ playout(board, action, player) for i in range(N) ]\n",
    "\n",
    "u = playouts(board, ('h', 1, 1))\n",
    "print(\"Playout results:\", u)\n",
    "\n",
    "print(f\"mean utility: {np.mean(u)}\")\n",
    "\n",
    "p_win = sum(np.array(u) == +1)/len(u)\n",
    "p_loss = sum(np.array(u) == -1)/len(u)\n",
    "p_draw = sum(np.array(u) == 0)/len(u)\n",
    "print(f\"win probability: {p_win}\")\n",
    "print(f\"loss probability: {p_loss}\")\n",
    "print(f\"draw probability: {p_draw}\")"
   ]
  },
  {
   "cell_type": "code",
   "execution_count": null,
   "metadata": {},
   "outputs": [],
   "source": [
    "import math\n",
    "\n",
    "DEBUG = 0\n",
    "\n",
    "def pmcs(board, N = 100, player=1):\n",
    "    \"\"\"Pure Monte Carlo Search. Returns the action that has the largest average utility.\n",
    "    The N playouts are evenly divided between the possible actions.\"\"\"\n",
    "    global DEBUG\n",
    "    \n",
    "    acts = actions(board)\n",
    "    n = math.floor(N/len(acts))\n",
    "    if DEBUG >= 1: print(f\"Actions: {acts} ({n} playouts per action)\")\n",
    "    \n",
    "    ps = { i : np.mean(playouts(board, i, player, N = n)) for i in acts }\n",
    "    if DEBUG >= 1: display(ps)\n",
    "        \n",
    "    action = max(ps, key=ps.get)\n",
    "    return action"
   ]
  },
  {
   "cell_type": "code",
   "execution_count": null,
   "metadata": {},
   "outputs": [
    {
     "name": "stdout",
     "output_type": "stream",
     "text": [
      "('h', 1, 2)\n",
      "CPU times: total: 15.6 ms\n",
      "Wall time: 19.5 ms\n",
      "\n",
      "10000 playouts give a better utility estimate.\n",
      "('v', 3, 2)\n",
      "CPU times: total: 1.75 s\n",
      "Wall time: 1.75 s\n"
     ]
    }
   ],
   "source": [
    "board = empty3()\n",
    "# print_board(board)\n",
    "%time print(pmcs(board))\n",
    "\n",
    "print()\n",
    "print(\"10000 playouts give a better utility estimate.\")\n",
    "%time print(pmcs(board, N = 10000))"
   ]
  },
  {
   "cell_type": "markdown",
   "metadata": {},
   "source": [
    "### Test Boards"
   ]
  },
  {
   "cell_type": "code",
   "execution_count": null,
   "metadata": {},
   "outputs": [
    {
     "name": "stdout",
     "output_type": "stream",
     "text": [
      "('v', 3, 2)\n",
      "CPU times: total: 0 ns\n",
      "Wall time: 6 ms\n",
      "Results:\n",
      "         -1: 1\n",
      "          1: 0\n"
     ]
    },
    {
     "data": {
      "image/png": "[encoded data removed]",
      "text/plain": [
       "<Figure size 432x288 with 1 Axes>"
      ]
     },
     "metadata": {
      "needs_background": "light"
     },
     "output_type": "display_data"
    }
   ],
   "source": [
    "%time print(pmcs(test1))\n",
    "print_board(test1)"
   ]
  },
  {
   "cell_type": "code",
   "execution_count": null,
   "metadata": {},
   "outputs": [
    {
     "name": "stdout",
     "output_type": "stream",
     "text": [
      "('h', 1, 1)\n",
      "CPU times: total: 0 ns\n",
      "Wall time: 6 ms\n",
      "Results:\n",
      "         -1: 0\n",
      "          1: 1\n"
     ]
    },
    {
     "data": {
      "image/png": "[encoded data removed]",
      "text/plain": [
       "<Figure size 432x288 with 1 Axes>"
      ]
     },
     "metadata": {
      "needs_background": "light"
     },
     "output_type": "display_data"
    }
   ],
   "source": [
    "%time print(pmcs(test2))\n",
    "print_board(test2)"
   ]
  },
  {
   "cell_type": "code",
   "execution_count": null,
   "metadata": {},
   "outputs": [
    {
     "name": "stdout",
     "output_type": "stream",
     "text": [
      "('v', 2, 3)\n",
      "CPU times: total: 15.6 ms\n",
      "Wall time: 13 ms\n",
      "Results:\n",
      "         -1: 0\n",
      "          1: 0\n"
     ]
    },
    {
     "data": {
      "image/png": "[encoded data removed]",
      "text/plain": [
       "<Figure size 432x288 with 1 Axes>"
      ]
     },
     "metadata": {
      "needs_background": "light"
     },
     "output_type": "display_data"
    }
   ],
   "source": [
    "%time print(pmcs(test3))\n",
    "print_board(test3)"
   ]
  },
  {
   "cell_type": "code",
   "execution_count": null,
   "metadata": {},
   "outputs": [
    {
     "name": "stdout",
     "output_type": "stream",
     "text": [
      "('v', 2, 2)\n",
      "CPU times: total: 0 ns\n",
      "Wall time: 5 ms\n",
      "Results:\n",
      "         -1: 0\n",
      "          1: 1\n"
     ]
    },
    {
     "data": {
      "image/png": "[encoded data removed]",
      "text/plain": [
       "<Figure size 432x288 with 1 Axes>"
      ]
     },
     "metadata": {
      "needs_background": "light"
     },
     "output_type": "display_data"
    }
   ],
   "source": [
    "%time print(pmcs(test4))\n",
    "print_board(test4)"
   ]
  },
  {
   "cell_type": "code",
   "execution_count": null,
   "metadata": {},
   "outputs": [
    {
     "name": "stdout",
     "output_type": "stream",
     "text": [
      "('h', 2, 3)\n",
      "CPU times: total: 15.6 ms\n",
      "Wall time: 14 ms\n",
      "Results:\n",
      "         -1: 2\n",
      "          1: 0\n"
     ]
    },
    {
     "data": {
      "image/png": "[encoded data removed]",
      "text/plain": [
       "<Figure size 432x288 with 1 Axes>"
      ]
     },
     "metadata": {
      "needs_background": "light"
     },
     "output_type": "display_data"
    }
   ],
   "source": [
    "%time print(pmcs(test5))\n",
    "print_board(test5)"
   ]
  },
  {
   "cell_type": "code",
   "execution_count": null,
   "metadata": {},
   "outputs": [
    {
     "name": "stdout",
     "output_type": "stream",
     "text": [
      "('h', 2, 3)\n",
      "CPU times: total: 31.2 ms\n",
      "Wall time: 28 ms\n",
      "Results:\n",
      "         -1: 0\n",
      "          1: 0\n"
     ]
    },
    {
     "data": {
      "image/png": "[encoded data removed]",
      "text/plain": [
       "<Figure size 432x288 with 1 Axes>"
      ]
     },
     "metadata": {
      "needs_background": "light"
     },
     "output_type": "display_data"
    }
   ],
   "source": [
    "%time print(pmcs(test6))\n",
    "print_board(test6)"
   ]
  },
  {
   "cell_type": "code",
   "execution_count": null,
   "metadata": {},
   "outputs": [
    {
     "name": "stdout",
     "output_type": "stream",
     "text": [
      "('h', 2, 2)\n",
      "CPU times: total: 15.6 ms\n",
      "Wall time: 14 ms\n",
      "Results:\n",
      "         -1: 1\n",
      "          1: 2\n"
     ]
    },
    {
     "data": {
      "image/png": "[encoded data removed]",
      "text/plain": [
       "<Figure size 432x288 with 1 Axes>"
      ]
     },
     "metadata": {
      "needs_background": "light"
     },
     "output_type": "display_data"
    }
   ],
   "source": [
    "%time print(pmcs(test7))\n",
    "print_board(test7)"
   ]
  },
  {
   "cell_type": "code",
   "execution_count": null,
   "metadata": {},
   "outputs": [
    {
     "name": "stdout",
     "output_type": "stream",
     "text": [
      "('h', 2, 2)\n",
      "CPU times: total: 31.2 ms\n",
      "Wall time: 28 ms\n",
      "Results:\n",
      "         -1: 0\n",
      "          1: 0\n"
     ]
    },
    {
     "data": {
      "image/png": "[encoded data removed]",
      "text/plain": [
       "<Figure size 432x288 with 1 Axes>"
      ]
     },
     "metadata": {
      "needs_background": "light"
     },
     "output_type": "display_data"
    }
   ],
   "source": [
    "%time print(pmcs(test8))\n",
    "print_board(test8)"
   ]
  },
  {
   "cell_type": "markdown",
   "metadata": {},
   "source": [
    "### Observations"
   ]
  },
  {
   "cell_type": "markdown",
   "metadata": {},
   "source": [
    "The Pure Monte Carlo Search Algorithm returns the best answer in all of the tests. On test5, the moves returned by PMCS and Alpha-Beta Search are different, but both guarantee a victory.<br/>\n",
    "PMCS is also incredibly faster than Alpha-Beta Search. The difference in time is more clearly seen in test6 where PMCS finds the best move almost instantly, while the other algorithm takes approximately 2:40 min to do the same task."
   ]
  },
  {
   "cell_type": "markdown",
   "metadata": {},
   "source": [
    "## Best First Move\n",
    "\n",
    "How would you determine what the best first move for a standard board ($5 \\times 5$) is? You can use Pure Monte Carlo Search or any algorithms that you have implemented above."
   ]
  },
  {
   "cell_type": "markdown",
   "metadata": {},
   "source": [
    "Do simulations in each possible first line and check average utility."
   ]
  },
  {
   "cell_type": "code",
   "execution_count": null,
   "metadata": {},
   "outputs": [],
   "source": [
    "# Your code/ answer goes here."
   ]
  }
 ],
 "metadata": {
  "kernelspec": {
   "display_name": "Python 3 (ipykernel)",
   "language": "python",
   "name": "python3"
  },
  "language_info": {
   "codemirror_mode": {
    "name": "ipython",
    "version": 3
   },
   "file_extension": ".py",
   "mimetype": "text/x-python",
   "name": "python",
   "nbconvert_exporter": "python",
   "pygments_lexer": "ipython3",
   "version": "3.10.4"
  }
 },
 "nbformat": 4,
 "nbformat_minor": 4
}
