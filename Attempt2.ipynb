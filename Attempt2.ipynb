{
 "cells": [
  {
   "cell_type": "markdown",
   "metadata": {},
   "source": [
    "# Adversarial Search: Playing Dots and Boxes\n",
    "\n",
    "\n",
    "## Instructions\n",
    "\n",
    "Total Points: Undegraduates 100, graduate students 110\n",
    "\n",
    "Complete this notebook and submit it. The notebook needs to be a complete project report with your implementation, documentation including a short discussion of how your implementation works and your design choices, and experimental results (e.g., tables and charts with simulation results) with a short discussion of what they mean. Use the provided notebook cells and insert additional code and markdown cells as needed.\n",
    "\n",
    "## Introduction\n",
    "\n",
    "You will implement different versions of agents that play the game Dots and Boxes:\n",
    "\n",
    "> \"Dots and Boxes is a pencil-and-paper game for two players. The game starts with an empty grid of dots. Usually two players take turns adding a single horizontal or vertical line between two unjoined adjacent dots. A player who completes the fourth side of a 1x1 box earns one point and takes another turn. A point is typically recorded by placing a mark that identifies the player in the box, such as an initial. The game ends when no more lines can be placed. The winner is the player with the most points. The board may be of any size grid.\" (see [Dots and Boxes on Wikipedia](https://en.wikipedia.org/wiki/Dots_and_Boxes))\n",
    "\n",
    "You can play Dots and Boxes [here](https://www.math.ucla.edu/~tom/Games/dots&boxes.html)."
   ]
  },
  {
   "cell_type": "markdown",
   "metadata": {},
   "source": [
    "## Task 1: Defining the Search Problem [10 point]\n",
    "\n",
    "Define the components of the search problem associated with this game:\n",
    "\n",
    "* Initial state\n",
    "* Actions\n",
    "* Transition model\n",
    "* Test for the terminal state\n",
    "* Utility for terminal states"
   ]
  },
  {
   "cell_type": "code",
   "execution_count": null,
   "metadata": {},
   "outputs": [],
   "source": [
    "# Your code/answer goes here."
   ]
  },
  {
   "cell_type": "markdown",
   "metadata": {},
   "source": [
    "How big is the state space? Give an estimate and explain it."
   ]
  },
  {
   "cell_type": "code",
   "execution_count": 1,
   "metadata": {},
   "outputs": [],
   "source": [
    "# Your code/ answer goes here."
   ]
  },
  {
   "cell_type": "markdown",
   "metadata": {},
   "source": [
    "How big is the game tree that minimax search will go through? Give an estimate and explain it."
   ]
  },
  {
   "cell_type": "code",
   "execution_count": 2,
   "metadata": {},
   "outputs": [],
   "source": [
    "# Your code/ answer goes here."
   ]
  },
  {
   "cell_type": "markdown",
   "metadata": {},
   "source": [
    "## Task 2: Game Environment and Random Agent [30 point]\n",
    "\n",
    "You need to think about a data structure to represent the board meaning he placed lines and who finished what box. There are many options. Let's represent the board using a simple dictionary where `n` and `m` represents the number of dots horizontaly and vertically, respectively. Everybody needs to use the same representation so we can let agents play against each other later. "
   ]
  },
  {
   "cell_type": "code",
   "execution_count": 3,
   "metadata": {},
   "outputs": [],
   "source": [
    "def empty4():\n",
    "    return {\n",
    "            'n': 4,  ### hoizontal dots\n",
    "            'm': 4,   ### vertical dots\n",
    "            1: 0,   ### number of squares for player 1\n",
    "            -1: 0   ### number of squares for player 2\n",
    "            }\n",
    "def empty3():\n",
    "    return {\n",
    "            'n': 3,  ### hoizontal dots\n",
    "            'm': 3,   ### vertical dots\n",
    "            1: 0,   ### number of squares for player 1\n",
    "            -1: 0   ### number of squares for player 2\n",
    "            }\n",
    "def empty2():\n",
    "    return {\n",
    "            'n': 2,  ### hoizontal dots\n",
    "            'm': 2,   ### vertical dots\n",
    "            1: 0,   ### number of squares for player 1\n",
    "            -1: 0   ### number of squares for player 2\n",
    "            }\n",
    "\n",
    "def draw_line(board, orientation, row, col, player):\n",
    "    \"\"\"\n",
    "    Place a line on an exiting board. \n",
    "    Also checks if that line closed a box and adds point to whoever scored.\n",
    "       \n",
    "    Parameters\n",
    "    ----------\n",
    "    board: dict\n",
    "        the board\n",
    "    orientation: str\n",
    "        either 'h' or 'v' for horizontal or vertical\n",
    "    row, col: int\n",
    "        index of the starting dot for the line (starting with 0)\n",
    "    player: str\n",
    "        Either -1 or +1, representing the player adding the line\n",
    "    \"\"\"\n",
    "    if orientation not in ['h', 'v']:\n",
    "        return False\n",
    "    \n",
    "    if player != -1 and player != 1:\n",
    "        return False\n",
    "        \n",
    "    if row < 0 or col < 0:\n",
    "        return False\n",
    "        \n",
    "    if row >= (board['n']+1) + (orientation == 'v') or col >= (board['m']+1) + (orientation == 'h'):\n",
    "        return False\n",
    "        \n",
    "    if (orientation, row, col) in board:\n",
    "        return False\n",
    "    \n",
    "    board[(orientation, row, col)] = True\n",
    "    \n",
    "    # Check if the line closes a box\n",
    "    line = (orientation, row, col)\n",
    "    \n",
    "    # Go through all cases\n",
    "    if line[0] == 'h':\n",
    "        # Case 1: horizontal line at bottom\n",
    "        if ('v', line[1]+1, line[2]) in board and ('v', line[1]+1, line[2]+1) in board and ('h', line[1]+1, line[2]) in board:\n",
    "            # Add point to player\n",
    "            board[player] += 1\n",
    "            # Add box ownership to player\n",
    "            board[(line[1]+1, line[2])] = player\n",
    "        \n",
    "        # Case 2: horizontal line at top\n",
    "        if ('v', line[1], line[2]) in board and ('v', line[1], line[2]+1) in board and ('h', line[1]-1, line[2]) in board:\n",
    "            # Add point to player\n",
    "            board[player] += 1\n",
    "            # Add box ownership to player\n",
    "            board[(line[1], line[2])] = player\n",
    "    \n",
    "    if line[0] == 'v':\n",
    "        # Case 3: vertical line at left\n",
    "        if ('h', line[1], line[2]) in board and ('v', line[1], line[2]+1) in board and ('h', line[1]-1, line[2]) in board:\n",
    "            # Add point to player\n",
    "            board[player] += 1\n",
    "            # Add box ownership to player\n",
    "            board[(line[1], line[2])] = player\n",
    "        \n",
    "        # Case 4: vertical line at right\n",
    "        if ('h', line[1], line[2]-1) in board and ('v', line[1], line[2]-1) in board and ('h', line[1]-1, line[2]-1) in board:\n",
    "            # Add point to player\n",
    "            board[player] += 1\n",
    "            # Add box ownership to player\n",
    "            board[(line[1], line[2]-1)] = player\n",
    "    \n",
    "    return True"
   ]
  },
  {
   "cell_type": "markdown",
   "metadata": {},
   "source": [
    "Write code to display the board. **Bonus point: Post your visualization code with an example output to the discussion board. The best visualization will earn you bonus participation points in this class.**"
   ]
  },
  {
   "cell_type": "code",
   "execution_count": 4,
   "metadata": {
    "scrolled": true
   },
   "outputs": [],
   "source": [
    "import matplotlib.pyplot as plt\n",
    "import matplotlib.lines as mlines\n",
    "\n",
    "def print_board(board):\n",
    "    n = board['n']  # Rows\n",
    "    m = board['m']  # Columns\n",
    "    \n",
    "    fig, ax = plt.subplots()\n",
    "    ax.set_xlim(-0.5, m-0.5)\n",
    "    ax.set_ylim(-0.5, n-0.5)\n",
    "    \n",
    "    # Draw dots\n",
    "    for row in range(n):\n",
    "        for col in range(m):\n",
    "            if (row, col) in board:\n",
    "                ax.scatter(row, col, s=100, marker='o', color='black')\n",
    "            else:\n",
    "                ax.scatter(row, col, s=100, marker='o', color='black')\n",
    "     \n",
    "    # Draw lines\n",
    "    for line in board:\n",
    "        # print(line)\n",
    "        if line != 'n' and line != 'm' and line != -1 and line != 1:\n",
    "            # print(line)\n",
    "            if len(line) > 2:\n",
    "                # Draw Horizontal line\n",
    "                if line[0] == 'h':\n",
    "                    l = mlines.Line2D([line[2]-1,line[2]], [line[1]-1,line[1]-1], color='black')\n",
    "                    # l = mlines.Line2D([line[1],line[1]], [line[2],line[2]+1], color='black')\n",
    "                    ax.add_line(l)\n",
    "                # Draw Vertical line\n",
    "                else:\n",
    "                    l = mlines.Line2D([line[2]-1,line[2]-1], [line[1]-1,line[1]-2], color='black')\n",
    "                    # l = mlines.Line2D([line[1],line[1]-1], [line[2],line[2]], color='black')\n",
    "                    ax.add_line(l)\n",
    "    \n",
    "    # Check for boxes\n",
    "    # Boxes are stored in board with (row, col) as key and player (1 or -1) as value\n",
    "    # eg: board[(3, 1)] = 1 -> player 1 has a box with top left vertex at (3, 1)\n",
    "    for box in board:\n",
    "        if box != 'n' and box != 'm' and box != -1 and box != 1:\n",
    "            if len(box) == 2:\n",
    "                if board[(box[0], box[1])] == 1:\n",
    "                    ax.add_patch(plt.Rectangle((box[1]-1, box[0]-2), 1, 1, color='b'))\n",
    "                else:\n",
    "                    ax.add_patch(plt.Rectangle((box[1]-1, box[0]-2), 1, 1, color='r'))\n",
    "    \n",
    "    # Print results   \n",
    "    print('Results:')\n",
    "    print('         -1:', board[-1])\n",
    "    print('          1:', board[1])\n",
    "    \n",
    "    # Set up plot to start at (1, 1)\n",
    "    x = []\n",
    "    y = []\n",
    "    for row in range(board['n']):\n",
    "        # x.append(row)\n",
    "        x.append(row+1)\n",
    "    for col in range(board['m']):\n",
    "        # y.append(col)\n",
    "        y.append(col+1)\n",
    "    default_x_ticks = range(len(x))\n",
    "    plt.xticks(default_x_ticks, x)\n",
    "    default_y_ticks = range(len(y))\n",
    "    plt.yticks(default_y_ticks, y)\n",
    "    \n",
    "    plt.show()"
   ]
  },
  {
   "cell_type": "markdown",
   "metadata": {},
   "source": [
    "Implement helper functions for:\n",
    "\n",
    "* The transition model $result(s, a)$.\n",
    "* The utility function $utility(s)$.\n",
    "* Check for terminal states $terminal(s)$.\n",
    "* A check for available actions in each state $actions(s)$.\n",
    "\n",
    "__Notes:__\n",
    "* Make sure that all these functions work with boards of different sizes (number of columns and rows as stored in the board).\n",
    "* The result function evaluates if the player closed a box and needs to store that information on the board. Add elements of the form `(row,col): player` to the board dictionary. `row` and `col` are the coordinates for the box and `player` is +1 or -1 representing the player. For example `(0,0): -1` means that the top-left box belongs to the other player. "
   ]
  },
  {
   "cell_type": "code",
   "execution_count": 5,
   "metadata": {},
   "outputs": [
    {
     "name": "stdout",
     "output_type": "stream",
     "text": [
      "Results:\n",
      "         -1: 0\n",
      "          1: 0\n"
     ]
    },
    {
     "data": {
      "image/png": "[encoded data removed]",
      "text/plain": [
       "<Figure size 432x288 with 1 Axes>"
      ]
     },
     "metadata": {
      "needs_background": "light"
     },
     "output_type": "display_data"
    }
   ],
   "source": [
    "test1 = empty3()\n",
    "draw_line(test1, 'h', 3, 1, 1)\n",
    "draw_line(test1, 'h', 3, 2, 1)\n",
    "draw_line(test1, 'h', 2, 1, 1)\n",
    "draw_line(test1, 'h', 2, 2, 1)\n",
    "draw_line(test1, 'h', 1, 1, 1)\n",
    "draw_line(test1, 'v', 3, 1, 1)\n",
    "draw_line(test1, 'v', 2, 1, 1)\n",
    "# draw_line(test1, 'v', 2, 2, -1)\n",
    "draw_line(test1, 'v', 2, 3, 1)\n",
    "# draw_line(test1, 'v', 3, 2, 1)\n",
    "draw_line(test1, 'v', 3, 3, 1)\n",
    "# draw_line(test1, 'h', 1, 2, 1)\n",
    "print_board(test1)"
   ]
  },
  {
   "cell_type": "code",
   "execution_count": 6,
   "metadata": {},
   "outputs": [],
   "source": [
    "# actions(test1)"
   ]
  },
  {
   "cell_type": "code",
   "execution_count": 7,
   "metadata": {},
   "outputs": [
    {
     "name": "stdout",
     "output_type": "stream",
     "text": [
      "Results:\n",
      "         -1: 5\n",
      "          1: 4\n"
     ]
    },
    {
     "data": {
      "image/png": "[encoded data removed]",
      "text/plain": [
       "<Figure size 432x288 with 1 Axes>"
      ]
     },
     "metadata": {
      "needs_background": "light"
     },
     "output_type": "display_data"
    }
   ],
   "source": [
    "test5 = empty4()\n",
    "draw_line(test5, \"h\", 4, 1, -1)\n",
    "draw_line(test5, \"h\", 4, 2, -1)\n",
    "draw_line(test5, \"h\", 4, 3, -1)\n",
    "draw_line(test5, \"h\", 3, 1, -1)\n",
    "draw_line(test5, \"h\", 3, 3, -1)\n",
    "draw_line(test5, \"h\", 2, 1, -1)\n",
    "draw_line(test5, \"h\", 1, 1, -1)\n",
    "draw_line(test5, \"h\", 1, 2, 1)\n",
    "draw_line(test5, \"h\", 1, 3, 1)\n",
    "draw_line(test5, \"v\", 4, 2, 1)\n",
    "draw_line(test5, \"v\", 4, 3, 1)\n",
    "draw_line(test5, \"v\", 4, 4, 1)\n",
    "draw_line(test5, \"v\", 3, 1, -1)\n",
    "draw_line(test5, \"v\", 3, 4, -1)\n",
    "draw_line(test5, \"v\", 2, 1, -1)\n",
    "draw_line(test5, \"v\", 2, 2, -1)\n",
    "draw_line(test5, \"v\", 2, 3, 1)\n",
    "draw_line(test5, \"v\", 2, 4, -1)\n",
    "draw_line(test5, \"v\", 4, 1, -1)\n",
    "draw_line(test5, \"v\", 3, 2, -1)\n",
    "draw_line(test5, \"v\", 3, 3, 1)\n",
    "draw_line(test5, \"h\", 3, 2, 1)\n",
    "draw_line(test5, \"h\", 2, 2, -1)\n",
    "draw_line(test5, 'h', 2, 3, 1)\n",
    "print_board(test5)"
   ]
  },
  {
   "cell_type": "code",
   "execution_count": 8,
   "metadata": {},
   "outputs": [],
   "source": [
    "# actions(test5)"
   ]
  },
  {
   "cell_type": "code",
   "execution_count": 9,
   "metadata": {},
   "outputs": [],
   "source": [
    "def closes_box(state, action, player=1):\n",
    "    \"\"\"\n",
    "    Check if the action will close a box, return True if it did.\n",
    "    \n",
    "    Parameters\n",
    "    ----------\n",
    "    board: dict\n",
    "        The board\n",
    "    action: list\n",
    "        List describing the action\n",
    "        action[0]: orientation - 'h' or 'v'\n",
    "        action[1]: row\n",
    "        action[2]: column\n",
    "    \"\"\"\n",
    "    \n",
    "    state = state.copy()\n",
    "    \n",
    "    # Line will not close a box if it is already drawn\n",
    "    if action in state:\n",
    "        return False\n",
    "    \n",
    "    draw_line(state, action[0], action[1], action[2], player)\n",
    "    \n",
    "    if action[0] == 'h':\n",
    "        # Case 1: horizontal line at bottom\n",
    "        if ('v', action[1]+1, action[2]) in state and ('v', action[1]+1, action[2]+1) in state and ('h', action[1]+1, action[2]) in state:\n",
    "            # print(action, ' Case 1')\n",
    "            return True\n",
    "        # Case 2: horizontal line at top\n",
    "        if ('v', action[1], action[2]) in state and ('v', action[1], action[2]+1) in state and ('h', action[1]-1, action[2]) in state:\n",
    "            # print(action, ' Case 2')\n",
    "            return True\n",
    "    if action[0] == 'v':\n",
    "        # Case 3: vertical line at left\n",
    "        if ('h', action[1], action[2]) in state and ('v', action[1], action[2]+1) in state and ('h', action[1]-1, action[2]) in state:\n",
    "            # print(action, ' Case 3')\n",
    "            return True\n",
    "        # Case 4: vertical line at right\n",
    "        if ('h', action[1], action[2]-1) in state and ('v', action[1], action[2]-1) in state and ('h', action[1]-1, action[2]-1) in state:\n",
    "            # print(action, ' Case 4')\n",
    "            return True\n",
    "    \n",
    "    return False"
   ]
  },
  {
   "cell_type": "code",
   "execution_count": 10,
   "metadata": {},
   "outputs": [],
   "source": [
    "def closed_box(state, action, player=1):\n",
    "    \"\"\"\n",
    "    Check if the action has closed a box, return True if it did.\n",
    "    \n",
    "    Parameters\n",
    "    ----------\n",
    "    board: dict\n",
    "        The board\n",
    "    action: list\n",
    "        List describing the action\n",
    "        action[0]: orientation - 'h' or 'v'\n",
    "        action[1]: row\n",
    "        action[2]: column\n",
    "    \"\"\"\n",
    "    \n",
    "    if action is None:\n",
    "        return False\n",
    "    \n",
    "    state = state.copy()\n",
    "    \n",
    "    # Line will not close a box if it is not already drawn\n",
    "    if action not in state:\n",
    "        return False\n",
    "    \n",
    "    # draw_line(state, action[0], action[1], action[2], player)\n",
    "    \n",
    "    if action[0] == 'h':\n",
    "        # Case 1: horizontal line at bottom\n",
    "        if ('v', action[1]+1, action[2]) in state and ('v', action[1]+1, action[2]+1) in state and ('h', action[1]+1, action[2]) in state:\n",
    "            # print(action, ' Case 1')\n",
    "            return True\n",
    "        # Case 2: horizontal line at top\n",
    "        if ('v', action[1], action[2]) in state and ('v', action[1], action[2]+1) in state and ('h', action[1]-1, action[2]) in state:\n",
    "            # print(action, ' Case 2')\n",
    "            return True\n",
    "    if action[0] == 'v':\n",
    "        # Case 3: vertical line at left\n",
    "        if ('h', action[1], action[2]) in state and ('v', action[1], action[2]+1) in state and ('h', action[1]-1, action[2]) in state:\n",
    "            # print(action, ' Case 3')\n",
    "            return True\n",
    "        # Case 4: vertical line at right\n",
    "        if ('h', action[1], action[2]-1) in state and ('v', action[1], action[2]-1) in state and ('h', action[1]-1, action[2]-1) in state:\n",
    "            # print(action, ' Case 4')\n",
    "            return True\n",
    "    \n",
    "    return False"
   ]
  },
  {
   "cell_type": "code",
   "execution_count": 11,
   "metadata": {},
   "outputs": [],
   "source": [
    "def check_win(state, player=1):\n",
    "    '''\n",
    "    Checks the winner of the state received.\n",
    "       \n",
    "    Parameters\n",
    "    ----------\n",
    "    state: dict\n",
    "        the board\n",
    "    player: int\n",
    "        -1 or +1 representing the player adding a line\n",
    "    Returns a string for win, draw, or loss\n",
    "    '''\n",
    "        \n",
    "    playerPoints = 0\n",
    "    opponentPoints = 0\n",
    "    for dots in state:\n",
    "        if dots != 'n' and dots != 'm' and dots != -1 and dots != 1:\n",
    "            if len(dots) == 2:\n",
    "                if state[dots] == player:\n",
    "                    playerPoints += 1\n",
    "                elif state[dots] == -player:\n",
    "                    opponentPoints += 1\n",
    "    \n",
    "    if (playerPoints + opponentPoints) < ((state['n']-1)*(state['m']-1)):\n",
    "        return 'next'        \n",
    "    else:\n",
    "        if playerPoints > opponentPoints:\n",
    "            return 'win'\n",
    "        elif playerPoints < opponentPoints:\n",
    "            return 'loss'\n",
    "        elif playerPoints == opponentPoints:\n",
    "            return 'draw'"
   ]
  },
  {
   "cell_type": "code",
   "execution_count": 12,
   "metadata": {},
   "outputs": [],
   "source": [
    "def actions(state):\n",
    "    '''\n",
    "    Returns all possible moves available on the state received.\n",
    "       \n",
    "    Parameters\n",
    "    ----------\n",
    "    state: dict\n",
    "        the board\n",
    "    Returns a list\n",
    "    '''\n",
    "    \n",
    "    if terminal(state):\n",
    "        return []\n",
    "    \n",
    "    # Get a list of all possible actions\n",
    "    actions = []\n",
    "    dots = state['n']*state['m']\n",
    "    \n",
    "    # Check all dots and orientations\n",
    "    for row in range(state['n']):\n",
    "        for col in range(state['m']):\n",
    "            if ('v', row+1, col+1) not in state and (row+1) > 1:\n",
    "                actions.append(('v', row+1, col+1))\n",
    "            if ('h', row+1, col+1) not in state and (col+1) < (state['m']):\n",
    "                # print('Column: ', col+1, ' M: ', state['m'])\n",
    "                actions.append(('h', row+1, col+1))\n",
    "    return actions"
   ]
  },
  {
   "cell_type": "code",
   "execution_count": 13,
   "metadata": {},
   "outputs": [],
   "source": [
    "def result(state, player, action):\n",
    "    \"\"\"\n",
    "    Add move to the board. Calls the draw_line function.\n",
    "    \n",
    "    Parameters\n",
    "    ----------\n",
    "    state: dict\n",
    "        current state\n",
    "    player: int\n",
    "        player number\n",
    "    action: list\n",
    "        List describing the action\n",
    "        action[0]: orientation - 'h' or 'v'\n",
    "        action[1]: row\n",
    "        action[2]: column\n",
    "    \"\"\"\n",
    "    \n",
    "    # draw_line(board, orientation, row, col, player)\n",
    "    draw_line(state, action[0], action[1], action[2], player)\n",
    "    \n",
    "    return state"
   ]
  },
  {
   "cell_type": "code",
   "execution_count": 14,
   "metadata": {},
   "outputs": [],
   "source": [
    "def utility(state, player=1):\n",
    "    goal = check_win(state, player)        \n",
    "    if goal == 'win': return +1 \n",
    "    if goal == 'draw': return 0  \n",
    "    if goal == 'loss': return -1  # loss is failure\n",
    "    return None # continue"
   ]
  },
  {
   "cell_type": "code",
   "execution_count": 15,
   "metadata": {},
   "outputs": [],
   "source": [
    "def terminal(state):\n",
    "    return check_win(state) != 'next'"
   ]
  },
  {
   "cell_type": "markdown",
   "metadata": {},
   "source": [
    "Implement an agent that plays randomly. Make sure the agent function receives as the percept the board and returns a valid action. Use an agent function definition with the following signature (arguments):\n",
    "\n",
    "`def random_player(board, player = None): ...`\n",
    "\n",
    "The argument `player` is used for agents that do not store what side they are playing. The value passed on by the environment should be 1 ot -1 for playerred and yellow, respectively.  See [Experiments section for tic-tac-toe](https://nbviewer.org/github/mhahsler/CS7320-AI/blob/master/Games/tictactoe_and_or_tree_search.ipynb#Experiments) for an example."
   ]
  },
  {
   "cell_type": "code",
   "execution_count": 16,
   "metadata": {},
   "outputs": [],
   "source": [
    "import numpy as np\n",
    "\n",
    "def random_player(state, player=None):\n",
    "    '''\n",
    "    Random agent. Returns a random action from a list of all possible actions.\n",
    "    \n",
    "    Parameters\n",
    "    ----------\n",
    "    board: dict\n",
    "        The board\n",
    "    player: int\n",
    "        Player making the move\n",
    "    '''\n",
    "    moves = actions(state)\n",
    "    if len(moves) == 0:\n",
    "        return None\n",
    "    \n",
    "    index = np.random.choice(len(moves))\n",
    "    return moves[index]"
   ]
  },
  {
   "cell_type": "markdown",
   "metadata": {},
   "source": [
    "### Environment"
   ]
  },
  {
   "cell_type": "code",
   "execution_count": 17,
   "metadata": {},
   "outputs": [],
   "source": [
    "def play(agentOne, agentOpponent, N=1, verbose=0):\n",
    "    \"\"\"Play N games. agentOne and agentOpponent are the players' agent functions.\"\"\"\n",
    "    \n",
    "    results = {-1: 0, 1: 0, 'draw': 0}\n",
    "    \n",
    "    # Play N games\n",
    "    for i in range(N):\n",
    "        # Initiliaze empty board\n",
    "        board = empty4()\n",
    "        # Initialize player and its agent\n",
    "        player, agent = 1, agentOne\n",
    "        # Reset change player boolean\n",
    "        change = True\n",
    "        \n",
    "        # Game loop\n",
    "        while True:\n",
    "            # If there are no actions left, the game is over\n",
    "            if actions(board) == []:\n",
    "                # Check the winner\n",
    "                win = check_win(board, player)\n",
    "                # Add to counters\n",
    "                if win == 'win':\n",
    "                    results[player] += 1\n",
    "                elif win == 'loss':\n",
    "                    results[-player] += 1\n",
    "                else:\n",
    "                    results['draw'] += 1\n",
    "                if verbose>0: print_board(board)\n",
    "                break\n",
    "            \n",
    "            # Get the action the agent wants to play\n",
    "            action = agent(board, player)\n",
    "            \n",
    "            # If the action will close a box, player plays again\n",
    "            if closes_box(board, action):\n",
    "                change = False\n",
    "            # If it doesn't, it is the opponent's turn\n",
    "            else:\n",
    "                change = True\n",
    "            \n",
    "            # Play the action\n",
    "            board = result(board, player, action)  \n",
    "            \n",
    "            if change:\n",
    "                # Switch player\n",
    "                player = -player\n",
    "                # Switch agent\n",
    "                if agent == agentOne:\n",
    "                    agent = agentOpponent\n",
    "                elif agent == agentOpponent:\n",
    "                    agent = agentOne\n",
    "        \n",
    "    return results"
   ]
  },
  {
   "cell_type": "markdown",
   "metadata": {},
   "source": [
    "Let two random agents play against each other 1000 times. Look at the [Experiments section for tic-tac-toe](https://nbviewer.org/github/mhahsler/CS7320-AI/blob/master/Games/tictactoe_and_or_tree_search.ipynb#Experiments) to see how the environment uses the agent functions to play against each other.\n",
    "\n",
    "How often does each player win? Is the result expected?"
   ]
  },
  {
   "cell_type": "code",
   "execution_count": 18,
   "metadata": {
    "tags": []
   },
   "outputs": [
    {
     "name": "stdout",
     "output_type": "stream",
     "text": [
      "1: 497.4\n",
      "-1: 502.6\n",
      "draw: 0.0\n",
      "Proportion for One:  0.49739999999999995\n",
      "Proportion for Opponent:  0.5026\n"
     ]
    }
   ],
   "source": [
    "oneAvg = 0\n",
    "opponentAvg = 0\n",
    "drawAvg = 0\n",
    "\n",
    "for i in range(10):\n",
    "    curr = play(random_player, random_player, 1000)\n",
    "    oneAvg += curr[1]\n",
    "    opponentAvg += curr[-1]\n",
    "    drawAvg += curr['draw']\n",
    "\n",
    "oneAvg = oneAvg/10\n",
    "opponentAvg = opponentAvg/10\n",
    "drawAvg = drawAvg/10\n",
    "print('1:', oneAvg)\n",
    "print('-1:', opponentAvg)\n",
    "print('draw:', drawAvg)\n",
    "print('Proportion for One: ', oneAvg/(oneAvg+opponentAvg+drawAvg))\n",
    "print('Proportion for Opponent: ', opponentAvg/(oneAvg+opponentAvg+drawAvg))"
   ]
  },
  {
   "cell_type": "markdown",
   "metadata": {},
   "source": [
    "## Task 3: Minimax Search with Alpha-Beta Pruning [30 points]\n",
    "\n",
    "### Implement the search starting.\n",
    "\n",
    "Implement the search starting from a given board and specifying the player and put it into an agent function.\n",
    "You can use code from the [tic-tac-toe example](https://nbviewer.org/github/mhahsler/CS7320-AI/blob/master/Games/tictactoe_alpha_beta_tree_search.ipynb).\n",
    "\n",
    "__Notes:__ \n",
    "* Make sure that all your agent functions have a signature consistent with the random agent above.\n",
    "* The search space for larger board may be too large. You can experiment with smaller boards."
   ]
  },
  {
   "cell_type": "code",
   "execution_count": 19,
   "metadata": {},
   "outputs": [],
   "source": [
    "# DEBUG = 1\n",
    "# DEPTH = 0\n",
    "\n",
    "# def alpha_beta_search(state, player=1):\n",
    "#     global DEBUG, DEPTH\n",
    "#     state = state.copy()\n",
    "    \n",
    "#     val, move = max_value(state, player, -np.inf, np.inf)\n",
    "    \n",
    "#     return {'move': move, 'value': val}\n",
    "\n",
    "# def max_value(state, player, alpha, beta):\n",
    "#     global DEBUG, DEPTH\n",
    "#     if DEBUG >= 1: print('Depth: ', DEPTH)\n",
    "    \n",
    "#     # If the state is terminal, return the utility value to the player\n",
    "#     if terminal(state):\n",
    "#         return utility(state, player), None\n",
    "    \n",
    "#     v = -np.inf\n",
    "#     best_move = None\n",
    "    \n",
    "#     for action in actions(state):\n",
    "#         v2, action2 = min_value(result(state, player, action), -player, alpha, beta)\n",
    "#         print('Max: ', v2)\n",
    "#         if v2 > v:\n",
    "#             v = v2\n",
    "#             best_move = action\n",
    "#             alpha = max(alpha, v)\n",
    "#         if v >= beta:\n",
    "#             return v, best_move\n",
    "#         alpha = max(alpha, v)\n",
    "        \n",
    "#     DEPTH += 1\n",
    "\n",
    "#     return v, best_move\n",
    "\n",
    "# def min_value(state, player, alpha, beta):\n",
    "#     global DEBUG, DEPTH\n",
    "#     if DEBUG >= 1: print('Depth: ', DEPTH)\n",
    "    \n",
    "#     # If the state is terminal, return the utility value to the player\n",
    "#     if terminal(state):\n",
    "#         return utility(state, -player), None\n",
    "    \n",
    "#     v = np.inf\n",
    "#     best_move = None\n",
    "    \n",
    "#     for action in actions(state):\n",
    "#         v2, action2 = max_value(result(state, player, action), -player, alpha, beta)\n",
    "#         print('Min: ', v2)\n",
    "#         if v2 < v:\n",
    "#             v = v2\n",
    "#             best_move = action\n",
    "#             beta = min(beta, v)\n",
    "#         if v <= alpha:\n",
    "#             return v, best_move\n",
    "#         beta = min(beta, v)\n",
    "    \n",
    "#     DEPTH += 1\n",
    "    \n",
    "#     return v, best_move"
   ]
  },
  {
   "cell_type": "code",
   "execution_count": 60,
   "metadata": {},
   "outputs": [],
   "source": [
    "# Attempt at checking if player should play again\n",
    "DEBUG = 0\n",
    "DEPTH = 0\n",
    "\n",
    "def alpha_beta_search(state, player=1):\n",
    "    global DEBUG, DEPTH\n",
    "    state = state.copy()\n",
    "    \n",
    "    val, move = max_value(state, player, -np.inf, np.inf)\n",
    "    \n",
    "    return {'move': move, 'value': val}\n",
    "\n",
    "def max_value(state, player, alpha, beta, prevAction=None):\n",
    "    global DEBUG, DEPTH\n",
    "    if DEBUG >= 1: print('Depth: ', DEPTH)\n",
    "    \n",
    "    # If the state is terminal, return the utility value to the player\n",
    "    if terminal(state):\n",
    "        return utility(state, player), None\n",
    "    \n",
    "    v = -np.inf\n",
    "    best_move = None\n",
    "    \n",
    "    if closed_box(state, prevAction) or prevAction is None:\n",
    "        v2, action2 = min_value(state, -player, alpha, beta, None)\n",
    "    else:\n",
    "        for action in actions(state):\n",
    "            v2, action2 = min_value(result(state, player, action), player, alpha, beta, action)\n",
    "            print('Max: ', v2)\n",
    "            if v2 > v:\n",
    "                v = v2\n",
    "                best_move = action\n",
    "                alpha = max(alpha, v)\n",
    "            if v >= beta:\n",
    "                return v, best_move\n",
    "            alpha = max(alpha, v)\n",
    "        \n",
    "    DEPTH += 1\n",
    "\n",
    "    return v, best_move\n",
    "\n",
    "def min_value(state, player, alpha, beta, prevAction=None):\n",
    "    global DEBUG, DEPTH\n",
    "    if DEBUG >= 1: print('Depth: ', DEPTH)\n",
    "    \n",
    "    # If the state is terminal, return the utility value to the player\n",
    "    if terminal(state):\n",
    "        return utility(state, player), None\n",
    "    \n",
    "    v = np.inf\n",
    "    best_move = None\n",
    "    \n",
    "    if closed_box(state, prevAction) or prevAction is None:\n",
    "        v2, action2 = max_value(state, -player, alpha, beta, None)\n",
    "    else:\n",
    "        for action in actions(state):\n",
    "            v2, action2 = max_value(result(state, -player, action), player, alpha, beta, action)\n",
    "            print('Min: ', v2)\n",
    "            if v2 < v:\n",
    "                v = v2\n",
    "                best_move = action\n",
    "                beta = min(beta, v)\n",
    "            if v <= alpha:\n",
    "                return v, best_move\n",
    "            beta = min(beta, v)\n",
    "        \n",
    "    DEPTH += 1\n",
    "    \n",
    "    return v, best_move"
   ]
  },
  {
   "cell_type": "code",
   "execution_count": 21,
   "metadata": {},
   "outputs": [],
   "source": [
    "# # Attempt 2\n",
    "# def alpha_beta_search(state, player=1):\n",
    "#     global DEBUG, DEPTH\n",
    "#     state = state.copy()\n",
    "    \n",
    "#     val, move = max_value(state, player, -np.inf, np.inf)\n",
    "    \n",
    "#     return {'move': move, 'value': val}\n",
    "\n",
    "# def max_value(state, player, alpha, beta):\n",
    "#     global DEBUG, DEPTH\n",
    "#     if DEBUG >= 1: print('Depth: ', DEPTH)\n",
    "    \n",
    "#     # If the state is terminal, return the utility value to the player\n",
    "#     if terminal(state):\n",
    "#         return utility(state, player), None\n",
    "    \n",
    "#     v = -np.inf\n",
    "#     best_move = None\n",
    "    \n",
    "#     for action in actions(state):\n",
    "#         v2, action2 = min_value(result(state, player, action), -player, alpha, beta)\n",
    "#         print('Max: ', v2)\n",
    "#         if v2 > v:\n",
    "#             v = v2\n",
    "#             best_move = action\n",
    "#             alpha = max(alpha, v)\n",
    "#         if v >= beta:\n",
    "#             return v, best_move\n",
    "#         alpha = max(alpha, v)\n",
    "        \n",
    "#     DEPTH += 1\n",
    "\n",
    "#     return v, best_move\n",
    "\n",
    "# def min_value(state, player, alpha, beta):\n",
    "#     global DEBUG, DEPTH\n",
    "#     if DEBUG >= 1: print('Depth: ', DEPTH)\n",
    "    \n",
    "#     # If the state is terminal, return the utility value to the player\n",
    "#     if terminal(state):\n",
    "#         return utility(state, player), None\n",
    "    \n",
    "#     v = np.inf\n",
    "#     best_move = None\n",
    "    \n",
    "#     for action in actions(state):\n",
    "#         v2, action2 = max_value(result(state, player, action), -player, alpha, beta)\n",
    "#         print('Min: ', v2)\n",
    "#         if v2 < v:\n",
    "#             v = v2\n",
    "#             best_move = action\n",
    "#             beta = min(beta, v)\n",
    "#         if v <= alpha:\n",
    "#             return v, best_move\n",
    "#         beta = min(beta, v)\n",
    "    \n",
    "#     DEPTH += 1\n",
    "    \n",
    "#     return v, best_move"
   ]
  },
  {
   "cell_type": "markdown",
   "metadata": {},
   "source": [
    "Experiment with some manually created boards (at least 5) to check if the agent spots winning opportunities."
   ]
  },
  {
   "cell_type": "code",
   "execution_count": 22,
   "metadata": {},
   "outputs": [
    {
     "name": "stdout",
     "output_type": "stream",
     "text": [
      "Results:\n",
      "         -1: 1\n",
      "          1: 1\n"
     ]
    },
    {
     "data": {
      "image/png": "[encoded data removed]",
      "text/plain": [
       "<Figure size 432x288 with 1 Axes>"
      ]
     },
     "metadata": {
      "needs_background": "light"
     },
     "output_type": "display_data"
    }
   ],
   "source": [
    "test3 = empty3()\n",
    "draw_line(test3, 'h', 3, 1, -1)\n",
    "draw_line(test3, 'h', 3, 2, 1)\n",
    "draw_line(test3, 'h', 2, 1, -1)\n",
    "draw_line(test3, 'h', 2, 2, 1)\n",
    "draw_line(test3, 'h', 1, 2, -1)\n",
    "draw_line(test3, 'v', 3, 2, 1)\n",
    "draw_line(test3, 'v', 2, 2, -1)\n",
    "draw_line(test3, 'v', 3, 1, 1)\n",
    "draw_line(test3, 'v', 3, 3, -1)\n",
    "draw_line(test3, 'v', 2, 1, 1)\n",
    "\n",
    "print_board(test3)"
   ]
  },
  {
   "cell_type": "code",
   "execution_count": 23,
   "metadata": {},
   "outputs": [
    {
     "name": "stdout",
     "output_type": "stream",
     "text": [
      "Results:\n",
      "         -1: 3\n",
      "          1: 2\n"
     ]
    },
    {
     "data": {
      "image/png": "[encoded data removed]",
      "text/plain": [
       "<Figure size 432x288 with 1 Axes>"
      ]
     },
     "metadata": {
      "needs_background": "light"
     },
     "output_type": "display_data"
    }
   ],
   "source": [
    "test5 = empty4()\n",
    "draw_line(test5, \"h\", 4, 1, -1)\n",
    "draw_line(test5, \"h\", 4, 2, -1)\n",
    "draw_line(test5, \"h\", 4, 3, -1)\n",
    "draw_line(test5, \"h\", 3, 1, -1)\n",
    "draw_line(test5, \"h\", 3, 3, -1)\n",
    "draw_line(test5, \"h\", 2, 1, -1)\n",
    "draw_line(test5, \"h\", 1, 1, -1)\n",
    "draw_line(test5, \"h\", 1, 2, 1)\n",
    "draw_line(test5, \"h\", 1, 3, 1)\n",
    "draw_line(test5, \"v\", 4, 2, 1)\n",
    "draw_line(test5, \"v\", 4, 3, 1)\n",
    "draw_line(test5, \"v\", 4, 4, 1)\n",
    "draw_line(test5, \"v\", 3, 1, -1)\n",
    "draw_line(test5, \"v\", 3, 4, -1)\n",
    "draw_line(test5, \"v\", 2, 1, -1)\n",
    "draw_line(test5, \"v\", 2, 2, -1)\n",
    "draw_line(test5, \"v\", 2, 3, 1)\n",
    "draw_line(test5, \"v\", 2, 4, -1)\n",
    "draw_line(test5, \"v\", 4, 1, -1)\n",
    "draw_line(test5, \"v\", 3, 2, -1)\n",
    "# draw_line(test5, \"v\", 3, 3, 1)\n",
    "draw_line(test5, \"h\", 3, 2, 1)\n",
    "# draw_line(test5, \"h\", 2, 2, -1)\n",
    "# draw_line(test5, 'h', 2, 3, 1)\n",
    "print_board(test5)"
   ]
  },
  {
   "cell_type": "code",
   "execution_count": null,
   "metadata": {},
   "outputs": [],
   "source": [
    "# DEBUG = 1\n",
    "# DEPTH = 0\n",
    "alpha_beta_search(test5)"
   ]
  },
  {
   "cell_type": "markdown",
   "metadata": {},
   "source": [
    "How long does it take to make a move? Start with a smaller board make the board larger. What is the largest board you can solve?"
   ]
  },
  {
   "cell_type": "code",
   "execution_count": 25,
   "metadata": {},
   "outputs": [],
   "source": [
    "# Your code/ answer goes here."
   ]
  },
  {
   "cell_type": "markdown",
   "metadata": {},
   "source": [
    "### Move ordering\n",
    "\n",
    "Starting the search with better moves will increase the efficiency of alpha-beta pruning. Describe and implement a simple move ordering strategy. Make a table that shows how the ordering strategies influence the time it takes to make a move?"
   ]
  },
  {
   "cell_type": "code",
   "execution_count": 26,
   "metadata": {},
   "outputs": [],
   "source": [
    "# Your code/ answer goes here."
   ]
  },
  {
   "cell_type": "markdown",
   "metadata": {},
   "source": [
    "### The first few moves\n",
    "\n",
    "Start with an empty board. This is the worst case scenario for minimax search with alpha-beta pruning since it needs solve all possible games that can be played (minus some pruning) before making the decision. What can you do? "
   ]
  },
  {
   "cell_type": "code",
   "execution_count": 27,
   "metadata": {},
   "outputs": [],
   "source": [
    "# Your code/ answer goes here."
   ]
  },
  {
   "cell_type": "markdown",
   "metadata": {},
   "source": [
    "### Playtime\n",
    "\n",
    "Let the Minimax Search agent play a random agent on a small board. Analyze wins, losses and draws."
   ]
  },
  {
   "cell_type": "code",
   "execution_count": 28,
   "metadata": {},
   "outputs": [],
   "source": [
    "# Your code/ answer goes here."
   ]
  },
  {
   "cell_type": "markdown",
   "metadata": {},
   "source": [
    "## Task 4: Heuristic Alpha-Beta Tree Search [30 points] \n",
    "\n",
    "### Heuristic evaluation function\n",
    "\n",
    "Define and implement a heuristic evaluation function."
   ]
  },
  {
   "cell_type": "code",
   "execution_count": 29,
   "metadata": {},
   "outputs": [],
   "source": [
    "# Your code/ answer goes here."
   ]
  },
  {
   "cell_type": "markdown",
   "metadata": {},
   "source": [
    "### Cutting off search \n",
    "\n",
    "Modify your Minimax Search with Alpha-Beta Pruning to cut off search at a specified depth and use the heuristic evaluation function. Experiment with different cutoff values."
   ]
  },
  {
   "cell_type": "code",
   "execution_count": 30,
   "metadata": {},
   "outputs": [],
   "source": [
    "# Your code/ answer goes here."
   ]
  },
  {
   "cell_type": "markdown",
   "metadata": {},
   "source": [
    "Experiment with the same manually created boards as above to check if the agent spots winning opportunities."
   ]
  },
  {
   "cell_type": "code",
   "execution_count": 31,
   "metadata": {},
   "outputs": [],
   "source": [
    "# Your code/ answer goes here."
   ]
  },
  {
   "cell_type": "markdown",
   "metadata": {},
   "source": [
    "How long does it take to make a move? Start with a smaller board with 4 columns and make the board larger by adding columns."
   ]
  },
  {
   "cell_type": "code",
   "execution_count": 32,
   "metadata": {},
   "outputs": [],
   "source": [
    "# Your code/ answer goes here."
   ]
  },
  {
   "cell_type": "markdown",
   "metadata": {},
   "source": [
    "### Playtime\n",
    "\n",
    "Let two heuristic search agents (different cutoff depth, different heuristic evaluation function) compete against each other on a reasonably sized board. Since there is no randomness, you only need to let them play once."
   ]
  },
  {
   "cell_type": "code",
   "execution_count": 33,
   "metadata": {},
   "outputs": [],
   "source": [
    "# Your code/ answer goes here."
   ]
  },
  {
   "cell_type": "markdown",
   "metadata": {},
   "source": [
    "## Tournament task [+1 to 5% bonus on your course grade; will be assigned separately]\n",
    "\n",
    "Find another student and let your best agent play against the other student's best player. You are allowed to use any improvements you like as long as you code it yourself. We will set up a class tournament on Canvas. This tournament will continue after the submission deadline."
   ]
  },
  {
   "cell_type": "markdown",
   "metadata": {},
   "source": [
    "## Graduate student advanced task: Pure Monte Carlo Search and Best First Move [10 point]\n",
    "\n",
    "__Undergraduate students:__ This is a bonus task you can attempt if you like [+5 Bonus point].\n",
    "\n",
    "### Pure Monte Carlo Search\n",
    "\n",
    "Implement Pure Monte Carlo Search (see [tic-tac-toe-example](https://nbviewer.org/github/mhahsler/CS7320-AI/blob/master/Games/tictactoe_pure_monte_carlo_search.ipynb)) and investigate how this search performs on the test boards that you have used above. "
   ]
  },
  {
   "cell_type": "code",
   "execution_count": 34,
   "metadata": {},
   "outputs": [],
   "source": [
    "# Your code/ answer goes here."
   ]
  },
  {
   "cell_type": "markdown",
   "metadata": {},
   "source": [
    "### Best First Move\n",
    "\n",
    "How would you determine what the best first move for a standard board ($5 \\times 5$) is? You can use Pure Monte Carlo Search or any algorithms that you have implemented above."
   ]
  },
  {
   "cell_type": "code",
   "execution_count": 35,
   "metadata": {},
   "outputs": [],
   "source": [
    "# Your code/ answer goes here."
   ]
  }
 ],
 "metadata": {
  "kernelspec": {
   "display_name": "Python 3 (ipykernel)",
   "language": "python",
   "name": "python3"
  },
  "language_info": {
   "codemirror_mode": {
    "name": "ipython",
    "version": 3
   },
   "file_extension": ".py",
   "mimetype": "text/x-python",
   "name": "python",
   "nbconvert_exporter": "python",
   "pygments_lexer": "ipython3",
   "version": "3.10.4"
  }
 },
 "nbformat": 4,
 "nbformat_minor": 4
}
